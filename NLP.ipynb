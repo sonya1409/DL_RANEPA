{
 "cells": [
  {
   "cell_type": "code",
   "execution_count": 34,
   "id": "50ea4150-dd11-4c44-aaa6-7edd39426fb4",
   "metadata": {
    "execution": {
     "iopub.execute_input": "2025-05-18T14:31:33.873809Z",
     "iopub.status.busy": "2025-05-18T14:31:33.872736Z",
     "iopub.status.idle": "2025-05-18T14:31:33.908774Z",
     "shell.execute_reply": "2025-05-18T14:31:33.907897Z",
     "shell.execute_reply.started": "2025-05-18T14:31:33.873761Z"
    },
    "tags": []
   },
   "outputs": [],
   "source": [
    "#pip install transformers==4.30.2"
   ]
  },
  {
   "cell_type": "code",
   "execution_count": 23,
   "id": "9cbe1837-d24a-4d59-9aee-1573d063181e",
   "metadata": {
    "execution": {
     "iopub.execute_input": "2025-05-17T13:47:04.323562Z",
     "iopub.status.busy": "2025-05-17T13:47:04.322506Z",
     "iopub.status.idle": "2025-05-17T13:47:04.334853Z",
     "shell.execute_reply": "2025-05-17T13:47:04.334099Z",
     "shell.execute_reply.started": "2025-05-17T13:47:04.323515Z"
    },
    "tags": []
   },
   "outputs": [],
   "source": [
    "#pip install focal_loss_torch"
   ]
  },
  {
   "cell_type": "code",
   "execution_count": 24,
   "id": "1dc670ab-05a8-4ffb-bbba-8c3ce96bd11a",
   "metadata": {
    "execution": {
     "iopub.execute_input": "2025-05-17T13:52:10.647886Z",
     "iopub.status.busy": "2025-05-17T13:52:10.646739Z",
     "iopub.status.idle": "2025-05-17T13:52:10.657530Z",
     "shell.execute_reply": "2025-05-17T13:52:10.656891Z",
     "shell.execute_reply.started": "2025-05-17T13:52:10.647838Z"
    },
    "tags": []
   },
   "outputs": [],
   "source": [
    "#pip install torchmetrics"
   ]
  },
  {
   "cell_type": "code",
   "execution_count": 167,
   "id": "a1a17ef5-8475-4150-88fd-3570ac69f2a7",
   "metadata": {},
   "outputs": [],
   "source": [
    "#pip install emoji"
   ]
  },
  {
   "cell_type": "code",
   "execution_count": 4,
   "id": "dc5c42dd-a9d4-46e0-b821-b80d14c68d4d",
   "metadata": {
    "execution": {
     "iopub.execute_input": "2025-05-16T12:36:35.828447Z",
     "iopub.status.busy": "2025-05-16T12:36:35.827445Z",
     "iopub.status.idle": "2025-05-16T12:36:35.842945Z",
     "shell.execute_reply": "2025-05-16T12:36:35.842336Z",
     "shell.execute_reply.started": "2025-05-16T12:36:35.828404Z"
    },
    "tags": []
   },
   "outputs": [],
   "source": [
    "#pip install pymorphy2"
   ]
  },
  {
   "cell_type": "code",
   "execution_count": 1,
   "id": "00c6cc67-8f40-49ad-8a8c-df99688d4cb0",
   "metadata": {
    "execution": {
     "iopub.execute_input": "2025-05-18T21:36:41.912469Z",
     "iopub.status.busy": "2025-05-18T21:36:41.911346Z",
     "iopub.status.idle": "2025-05-18T21:36:45.631444Z",
     "shell.execute_reply": "2025-05-18T21:36:45.630587Z",
     "shell.execute_reply.started": "2025-05-18T21:36:41.912425Z"
    },
    "tags": []
   },
   "outputs": [],
   "source": [
    "import torch\n",
    "import torch.nn as nn\n",
    "import torch.optim as optim\n",
    "import torch.nn.functional as F\n",
    "import torchvision\n",
    "from torchvision import transforms, datasets,models\n",
    "from torch.utils.data import DataLoader, Dataset\n",
    "import torchvision.transforms as transforms\n",
    "import matplotlib.pyplot as plt\n",
    "import matplotlib.image as mpimg\n",
    "from IPython.display import clear_output\n",
    "from tqdm import tqdm\n",
    "import os\n",
    "import zipfile\n",
    "import seaborn as sns\n",
    "import pandas as pd\n",
    "import numpy as np\n",
    "\n",
    "import re\n",
    "import nltk\n",
    "from nltk.corpus import stopwords\n",
    "from nltk.tokenize import word_tokenize\n",
    "import pymorphy2\n",
    "from nltk.stem.snowball import RussianStemmer\n",
    "from sklearn.model_selection import train_test_split\n",
    "from sklearn.feature_extraction.text import TfidfVectorizer\n",
    "import transformers\n",
    "import torchmetrics\n",
    "from torchmetrics.classification import MultilabelF1Score\n",
    "from nltk.stem import PorterStemmer\n",
    "from nltk.stem import WordNetLemmatizer\n",
    "from collections import defaultdict\n",
    "from gensim.models import Word2Vec\n",
    "from collections import Counter\n",
    "from nltk.tokenize import word_tokenize\n",
    "from transformers import AutoModel, AutoTokenizer\n",
    "from transformers import GPT2LMHeadModel, GPT2Tokenizer"
   ]
  },
  {
   "cell_type": "code",
   "execution_count": 2,
   "id": "d4a8a0e7-80a3-4217-9279-da7b20914258",
   "metadata": {
    "execution": {
     "iopub.execute_input": "2025-05-16T12:38:01.700332Z",
     "iopub.status.busy": "2025-05-16T12:38:01.699168Z",
     "iopub.status.idle": "2025-05-16T12:38:05.892473Z",
     "shell.execute_reply": "2025-05-16T12:38:05.891747Z",
     "shell.execute_reply.started": "2025-05-16T12:38:01.700289Z"
    }
   },
   "outputs": [
    {
     "name": "stdout",
     "output_type": "stream",
     "text": [
      "Warning: Your Kaggle API key is readable by other users on this system! To fix this, you can run 'chmod 600 /home/jupyter/work/resources/kaggle.json'\n",
      "Downloading dl-2025-study-competition-2.zip to /home/jupyter/work/resources\n",
      "\n"
     ]
    },
    {
     "name": "stderr",
     "output_type": "stream",
     "text": [
      "100%|██████████| 12.9M/12.9M [00:01<00:00, 9.87MB/s]\n"
     ]
    }
   ],
   "source": [
    "#!kaggle competitions download -c dl-2025-study-competition-2"
   ]
  },
  {
   "cell_type": "code",
   "execution_count": 3,
   "id": "3d6218df-3be5-4ca4-8b73-33b5c6bda9d7",
   "metadata": {
    "execution": {
     "iopub.execute_input": "2025-05-16T12:38:05.894644Z",
     "iopub.status.busy": "2025-05-16T12:38:05.893850Z",
     "iopub.status.idle": "2025-05-16T12:38:07.840697Z",
     "shell.execute_reply": "2025-05-16T12:38:07.840037Z",
     "shell.execute_reply.started": "2025-05-16T12:38:05.894619Z"
    }
   },
   "outputs": [],
   "source": [
    "with zipfile.ZipFile(\"dl-2025-study-competition-2.zip\", 'r') as zip_ref:\n",
    "      zip_ref.extractall(\"content2/\")  "
   ]
  },
  {
   "cell_type": "code",
   "execution_count": 15,
   "id": "2455b9d3-6024-46f8-8315-83454c64bda0",
   "metadata": {
    "execution": {
     "iopub.execute_input": "2025-05-18T21:45:29.403011Z",
     "iopub.status.busy": "2025-05-18T21:45:29.402049Z",
     "iopub.status.idle": "2025-05-18T21:45:29.980593Z",
     "shell.execute_reply": "2025-05-18T21:45:29.979769Z",
     "shell.execute_reply.started": "2025-05-18T21:45:29.402948Z"
    },
    "tags": []
   },
   "outputs": [],
   "source": [
    "df=pd.read_csv('content2/train.csv')\n"
   ]
  },
  {
   "cell_type": "markdown",
   "id": "f3d1cffe-b8f0-42de-8d16-748bb26630af",
   "metadata": {
    "tags": []
   },
   "source": [
    "# Часть 1 (анализ датасета)"
   ]
  },
  {
   "cell_type": "code",
   "execution_count": 65,
   "id": "fc0b4dbb-03f4-48aa-9f22-8bfa1b41f364",
   "metadata": {},
   "outputs": [
    {
     "name": "stdout",
     "output_type": "stream",
     "text": [
      "29568\n",
      "3540\n"
     ]
    }
   ],
   "source": [
    "print(len(df))\n",
    "print(df.labels.nunique())\n",
    "#уникальных наборов классов 3540"
   ]
  },
  {
   "cell_type": "code",
   "execution_count": 20,
   "id": "257a5073-f649-4934-b6f9-f7fcd6ef5417",
   "metadata": {},
   "outputs": [
    {
     "name": "stdout",
     "output_type": "stream",
     "text": [
      "0 : 15 января\n",
      "Детская развлекательная программа\n",
      "15-00 бесплатно\n",
      "❗️\n",
      "@\n",
      "cafeotdyh\n",
      "Кафе \"Отдых\"\n",
      "📍\n",
      "Запись обязательно +73472228532\n",
      "1 : 13 и 14 августа\n",
      "Выходные в Меге\n",
      "https://t.me/megaufa_official\n",
      "Мегапарк\n",
      "2 : Йокнапатофа\n",
      "Постановка Театр им. Маяковского\n",
      "Билеты от 500 до 2000 р.\n",
      "3 : Впервые в Уфе танцевальная терапия в группе с практикующим психологом\n",
      "Тема встречи: «Отношения. Доверие. Контакт»\n",
      "Приходите, если:\n",
      "🔸\n",
      "вы хотите наладить или поисследовать свои отношения с\n",
      "-  телом\n",
      "- собой\n",
      "- близким человеком\n",
      "- работой\n",
      "- деньгами\n",
      "🔸\n",
      "не можете разрешить или забыть какую-то  ситуацию, связанную с отношениями\n",
      "🔸\n",
      "не умеете доверять или делегировать\n",
      "🔸\n",
      "тяжело вступаете в контакт\n",
      "Задать вопрос психологу курса\n",
      "и записаться можно здесь:\n",
      "@LeontevaKsenia\n",
      "Дата\n",
      ": 26 января\n",
      "Время\n",
      ": 19.00-21.00\n",
      "Адрес\n",
      ": Коммунистическая, 45/3, Б/ц \"Деловой двор\"\n",
      "Стоимость: 1500\n",
      "Что нужно для занятия:\n",
      "удобная одежда, носки, вода, желание танцевать.\n",
      "4 : 🎹\n",
      "GRAND PIANO COMPETITION\n",
      "🎹\n",
      "Друзья, сегодня открытие IV Международного конкурса GRAND PIANO (для пианистов до 16 лет) в зале Чайковского.\n",
      "Сегодня прозвучит премьера концерта АЛЕКСАНДРА ЧАЙКОВСКОГО для 4 (!!!!) роялей!!!\n",
      "Вместе с ДЕНИСОМ МАЦУЕВЫМ (которому и посвящён этот концерт)\n",
      "будут играть лауреаты прошлых лет:\n",
      "ПЁТР АКУЛОВ,\n",
      "ИВАН БЕССОНОВ и СЕРГЕЙ ДАВЫДЧЕНКО (победитель прошедшего конкурса Чайковского, где председателем комиссии был МАЦУЕВ)\n",
      "Аккомпанировать солистам будет ГОСОРКЕСТР России имени Е. Ф. СВЕТЛАНОВА под управлением АЛЕКСАНДРА СЛАДКОВСКОГО.\n",
      "Расписание конкурса можно посмотреть\n",
      "здесь\n",
      ".\n",
      "Награждение и закрытие конкурса будет 18 июня.\n",
      "Капелька билетов ещё есть по 12 000 в первых рядах на\n",
      "сайте конкурса\n",
      ".\n",
      "#конкурсы\n",
      "5 : Мультимедийный концерт «От аниме до k-pop»\n",
      "Оркестр Nella Musica Orchestra предлагает уникальное музыкальное путешествие, где прозвучат саундтреки из популярных аниме, таких как «Магическая битва», «Атака Титанов» и «Ходячий замок», а также знаменитые K-pop хиты. Музыкальные темы в сопровождении видеоарта погрузят в атмосферу любимых аниме-историй и современных музыкальных трендов.\n",
      "Когда: 1 сентября, 21:00. Вход свободный.\n",
      "Где: Парк Зарядье, Большой амфитеатр\n",
      "#концерты\n",
      "6 : Космическое место в Зарядье\n",
      "📸\n",
      "dujarden\n",
      "#афиша #афиша_москвы #мероприятия #выставки #фестивали #концерты #спектакли #музеи #парки\n",
      "✅\n",
      "Подпишись на наш канал\n",
      "@gomosevent\n",
      "7 : 20 апреля\n",
      "Мероприятия Ко Дню национального костюма: день в стиле Этна\n",
      "с 11-00 до 15-00\n",
      "https://vk.com/museumrb\n",
      "Советская 14\n",
      "8 : \"Подыскиваю жену. Недорого!\"\n",
      "🏛\n",
      "Дворец культуры железнодорожников\n",
      "🗓\n",
      "06.01 (сб) в 16:00\n",
      "🎫\n",
      "Билеты по ссылке здесь\n",
      "💚\n",
      "-25% по промокоду TIK\n",
      "В ролях: Екатерина Скулкина/Надежда Ангарская, Мария Кравченко/Татьяна Морозова, Роман Юнусов/Роман Богданов и др\n",
      "Сделать правильный выбор в браке – это одна из главных задач в жизни Игоря, осечки быть не должно и для этого он готов устраивать для претенденток самые невероятные испытания. А побороться есть за что: он и успешен и богат, но только он не спешит раскрывать все карты. Успешного и богатого полюбит любая, а вот кто полюбит мелкого служащего с низким окладом и скромной однокомнатной квартирой, в которой, кстати, все и происходит. Игорю кажется что правильный выбор сделан, но жизнь преподносит сюрпризы: люди оказываются совсем не теми, за кого себя выдают, и счастье было рядом, но не было замечено…\n",
      "🥰\n",
      "Билеты со скидками\n",
      "@teatrspb\n",
      "9 : Концерт «Мамульки Бенд» - электронный сгусток музыкальных пародий на песни повышенной святости (16+)\n",
      "🏛\n",
      "Клуб-ресторан Петрович\n",
      "📍\n",
      "Мясницкая 24/7, стр 3\n",
      "🗓\n",
      "31 октября 19:00\n",
      "🎫\n",
      "Билеты по ссылке здесь\n",
      "💚\n",
      "-20% по промокоду ТАНЦЫ\n",
      "«Мамульки Bend» - этот эклектичный и харизматичный коллектив из Ярославля завоевал сердца поклонников по всей стране своей задорной, энергичной и бесконечно танцевальной музыкой. На их концертах только атмосфера чистой радости и веселья.\n",
      "Если вы ищете, где зарядиться адреналином и улыбкой на всю неделю, то этот концерт – ваш выбор! Будет так весело, что даже ваш внутренний скептик пустится в пляс. «Мамульки Bend» обещают показать шоу, от которого у вас останется не только улыбка, но и желание кричать \"Браво!\" до хрипоты.\n",
      "Приходите! Будет громко, весело и незабываемо – гарантируем!\n",
      "🥰\n",
      "Билеты со скидками\n",
      "#афиша #афиша_москвы #мероприятия #выставки #фестивали #концерты #спектакли #постановки #театр #билеты #шоу #экскурсии #музеи #парки\n",
      "✅\n",
      "Подпишись на наш канал\n",
      "@gomosevent\n"
     ]
    }
   ],
   "source": [
    "#смотрим на то, что у нас тут вообще понаписано \n",
    "for i in range(10):\n",
    "    print(i, f\":\", df.text[i])"
   ]
  },
  {
   "cell_type": "markdown",
   "id": "88c6e705-f028-45c0-aa61-880531d2a7f8",
   "metadata": {},
   "source": [
    "Реклама: выкинуть все не буквенные символы, url, смайлы, привести все к одному регистру \n",
    "\n",
    "надо подумать над тем,что делать с англ словами"
   ]
  },
  {
   "cell_type": "code",
   "execution_count": 29,
   "id": "6daa2ebe-acfc-4a9a-a2d0-85729554c8b9",
   "metadata": {},
   "outputs": [
    {
     "data": {
      "text/plain": [
       "20"
      ]
     },
     "execution_count": 29,
     "metadata": {},
     "output_type": "execute_result"
    }
   ],
   "source": [
    "len(df.labels[0].split(' '))"
   ]
  },
  {
   "cell_type": "markdown",
   "id": "31fbd78f-659a-4aa0-94ce-1c06bf259a72",
   "metadata": {},
   "source": [
    "всего 20 классов "
   ]
  },
  {
   "cell_type": "code",
   "execution_count": 53,
   "id": "7893325b-bfc4-4e4c-9572-91f28b28db51",
   "metadata": {},
   "outputs": [
    {
     "data": {
      "text/html": [
       "<div>\n",
       "<style scoped>\n",
       "    .dataframe tbody tr th:only-of-type {\n",
       "        vertical-align: middle;\n",
       "    }\n",
       "\n",
       "    .dataframe tbody tr th {\n",
       "        vertical-align: top;\n",
       "    }\n",
       "\n",
       "    .dataframe thead th {\n",
       "        text-align: right;\n",
       "    }\n",
       "</style>\n",
       "<table border=\"1\" class=\"dataframe\">\n",
       "  <thead>\n",
       "    <tr style=\"text-align: right;\">\n",
       "      <th></th>\n",
       "      <th>id</th>\n",
       "      <th>text</th>\n",
       "      <th>labels</th>\n",
       "    </tr>\n",
       "  </thead>\n",
       "  <tbody>\n",
       "  </tbody>\n",
       "</table>\n",
       "</div>"
      ],
      "text/plain": [
       "Empty DataFrame\n",
       "Columns: [id, text, labels]\n",
       "Index: []"
      ]
     },
     "execution_count": 53,
     "metadata": {},
     "output_type": "execute_result"
    }
   ],
   "source": [
    "df[df.isna().any(axis=1)]"
   ]
  },
  {
   "cell_type": "code",
   "execution_count": 50,
   "id": "25517cf7-793e-4442-b7a1-6592aca6264e",
   "metadata": {
    "execution": {
     "iopub.execute_input": "2025-05-18T23:01:45.609849Z",
     "iopub.status.busy": "2025-05-18T23:01:45.609024Z",
     "iopub.status.idle": "2025-05-18T23:01:45.646581Z",
     "shell.execute_reply": "2025-05-18T23:01:45.645754Z",
     "shell.execute_reply.started": "2025-05-18T23:01:45.609808Z"
    }
   },
   "outputs": [
    {
     "data": {
      "text/plain": [
       "range(0, 9)"
      ]
     },
     "execution_count": 50,
     "metadata": {},
     "output_type": "execute_result"
    }
   ],
   "source": [
    "range(9)"
   ]
  },
  {
   "cell_type": "code",
   "execution_count": 64,
   "id": "1be8b7d9-bff6-49b8-a6ca-da4d8ae53ddf",
   "metadata": {
    "execution": {
     "iopub.execute_input": "2025-05-18T23:05:53.393718Z",
     "iopub.status.busy": "2025-05-18T23:05:53.392773Z",
     "iopub.status.idle": "2025-05-18T23:05:53.638919Z",
     "shell.execute_reply": "2025-05-18T23:05:53.638250Z",
     "shell.execute_reply.started": "2025-05-18T23:05:53.393682Z"
    },
    "tags": []
   },
   "outputs": [
    {
     "data": {
      "image/png": "[encoded data removed]",
      "text/plain": [
       "<Figure size 640x480 with 1 Axes>"
      ]
     },
     "metadata": {},
     "output_type": "display_data"
    }
   ],
   "source": [
    "clas=np.array([np.fromstring(row, dtype=int, sep=' ') for row in df_mixed['labels'].values])\n",
    "plt.bar(np.arange(20),np.sum(clas,axis=0))\n",
    "plt.title('Распределение классов');"
   ]
  },
  {
   "cell_type": "code",
   "execution_count": 58,
   "id": "e74fdb58-2c01-4016-bc0e-119fcbe01387",
   "metadata": {},
   "outputs": [],
   "source": [
    "df['count']=df.labels.apply(lambda x: sum([int(i) for i in x.split(' ')]))\n"
   ]
  },
  {
   "cell_type": "code",
   "execution_count": 64,
   "id": "5d4059cd-5c51-4158-90ec-dbb7e67fbae2",
   "metadata": {},
   "outputs": [
    {
     "data": {
      "image/png": "[encoded data removed]",
      "text/plain": [
       "<Figure size 640x480 with 1 Axes>"
      ]
     },
     "metadata": {},
     "output_type": "display_data"
    }
   ],
   "source": [
    "plt.hist(df['count'].values)\n",
    "plt.title('сколько классов в каждом лейбле');"
   ]
  },
  {
   "cell_type": "markdown",
   "id": "5f868c5a-b90c-419a-ba14-f156c213a7d9",
   "metadata": {},
   "source": [
    "Преимущественно каждый текст относится к 10-12 классам, интересно что в целом есть смешение на отношение текста к большему количеству классов, те сами текста очень разносторонние и попадают сразу под несколько категорий "
   ]
  },
  {
   "cell_type": "code",
   "execution_count": 68,
   "id": "8b2c2fde-885c-4dab-9111-06a1c58e7991",
   "metadata": {},
   "outputs": [
    {
     "data": {
      "text/plain": [
       "0         9\n",
       "1         7\n",
       "2         6\n",
       "3        13\n",
       "4        11\n",
       "         ..\n",
       "29563     7\n",
       "29564    12\n",
       "29565    15\n",
       "29566    10\n",
       "29567    10\n",
       "Name: count, Length: 29568, dtype: int64"
      ]
     },
     "execution_count": 68,
     "metadata": {},
     "output_type": "execute_result"
    }
   ],
   "source": [
    "df['count']"
   ]
  },
  {
   "cell_type": "code",
   "execution_count": 73,
   "id": "5c55d491-f4b4-421f-a06f-1a1f4165c9a7",
   "metadata": {},
   "outputs": [
    {
     "name": "stdout",
     "output_type": "stream",
     "text": [
      "['17 ноября. День рождения Дедушки Мороза в Малинки\\n🔴\\nПодписывайся на\\nАфишу Ростова'\n",
      " 'Пионы в Царицыно\\n🥰'\n",
      " 'Напоминаем даты показательных кормлений в ростовском зоопарке на этот месяц'\n",
      " 'Вот такие огромные грибы нашли в лесу в районе Домодедово\\n🍄'\n",
      " 'Ростов после дождя\\n💦\\n📸\\nРоман Неведров\\n🔴\\nПодписывайся на\\nАфишу Ростова'\n",
      " 'Розовые фламинго из ростовского зоопарка\\n😍'\n",
      " '🐼\\nМилое граффити в центре Азова\\n🔴\\nПодписаться на Новости Ростова-на-Дону'\n",
      " '🏰\\nЗдания в стиле неоготики в Москве.' 'Красавчики из парка «Лога»'\n",
      " 'Зимний Ростов глазами фотографа\\n📸\\nДенис Демков'\n",
      " 'Приворотное зелье\\nПостановка Театральная компания «Маскарад»'\n",
      " 'Красавица Маша из нашего зоопарка!\\n🔴\\nПодписывайся на\\nАфишу Ростова'\n",
      " 'Радужное небо над Красным Сулином\\n😍\\n🔴\\nПодписывайся на\\nАфишу Ростова'\n",
      " 'Селивановская, Ростовская область'\n",
      " 'Гребной канал\\n😍\\nПрогулка на велосипедах' 'Александровский сад'\n",
      " 'Таганрог. Интересный дом с историей на Комсомольском бульваре'\n",
      " 'Яркий день в парке им. А.Собино\\n🔴\\nПодписывайся на\\nАфишу Ростова'\n",
      " 'Амадей\\nПостановка Театр им. Вахтангова' 'Арбуз или дыня?'\n",
      " 'Очаровательная весна в парке Лога\\n😍\\n🔴\\nПодписывайся на\\nАфишу Ростова'\n",
      " 'Идея для небольшого путешествия:' 'Человеку нужен человек\\n♥️'\n",
      " 'Ростов на фотокарточках\\n❤️\\nФото: Денис Демков\\n🔴\\nПодписывайся на\\nАфишу Ростова'\n",
      " 'Длинный каньон, Ростовская область'\n",
      " 'Булочка с маком сбежала из пекарни\\n🥮\\nРаспространите.'\n",
      " '🗼\\nВид на ростовскую телебашню в середине 2000-х годов\\n🔴\\nПодписывайся на\\nАфишу Ростова'\n",
      " 'Москвичи, рассказывайте о ваших гастрономических предпочтениях!\\n🍳\\nКакая еда, на ваш взгляд, самая вкусная?'\n",
      " 'Вид с Северного объезда Ростова\\n😍'\n",
      " 'Терская история\\nПостановка Историко-этнографический театр']\n"
     ]
    }
   ],
   "source": [
    "print(df[df['count']<5]['text'].values[:30])"
   ]
  },
  {
   "cell_type": "code",
   "execution_count": 76,
   "id": "5c3b5255-6e90-4311-a744-adbdf3630d8c",
   "metadata": {},
   "outputs": [
    {
     "data": {
      "text/plain": [
       "array(['0 0 0 0 0 0 0 0 0 0 0 0 0 1 0 1 1 0 0 1',\n",
       "       '0 0 0 0 0 0 0 0 0 1 0 0 0 1 0 0 1 0 1 0',\n",
       "       '0 0 0 0 0 0 0 0 0 0 0 0 0 1 0 1 1 0 1 0',\n",
       "       '0 0 0 0 0 0 0 0 1 0 0 0 0 1 0 0 1 0 1 0'], dtype=object)"
      ]
     },
     "execution_count": 76,
     "metadata": {},
     "output_type": "execute_result"
    }
   ],
   "source": [
    "df[df['count']<5]['labels'].unique()"
   ]
  },
  {
   "cell_type": "code",
   "execution_count": 74,
   "id": "98a7de9d-0807-4dad-8466-8c071926f94d",
   "metadata": {},
   "outputs": [
    {
     "name": "stdout",
     "output_type": "stream",
     "text": [
      "['Симфонический рок от Melodion Orchestra и песочно-световое шоу «Моцарт Драйв»\\n🏛\\nКонцертный зал в центре Москвы\\xa0на Поварской\\n🗓\\n23 ноября в 19:00\\n🎫\\nБилеты по ссылке здесь\\n💚\\n-20% по промокоду Драйв\\n💚\\nБокалом игристого в подарок\\nВас ждёт настоящее музыкальное пиршество – микс самой популярной классики в рок-обработке и легендарных рок-хитов в симфоническом звучании: Моцарт, Вивальди, Queen, Bon Jovi, Nirvana, Metallica. Мощь, лавина эмоций, ощущения до мурашек и невероятный драйв. Все это подарит яркая игра самого известного Оркестра Melodion. А рождающиеся прямо на Ваших глазах песочные картины, добавят драйва и оставят яркие впечатления. Подарите праздник себе и близким.\\n🥰\\nБилеты со скидками\\n@teatr_msk'\n",
      " 'Спектакль \"Ты слишком много куришь, Лили\"\\n🏛\\nБоярские Палаты СТД РФ\\n🗓\\n13 сентября в 19.00\\n🗓\\n20 сентября в 19.00\\n🎫\\nБилеты\\n🎫\\n-50% по промокоду\\xa0 «ЛИЛИ12» действует до 13.09.2023\\nСпектакль «Ты слишком много куришь, Лили», затрагивающий такую щепетильную тему как отношения между матерью и дочерью, вызывает достаточно смешанные чувства. Многие женщины здесь узнают себя. Не буду скрывать, что я плакала, но это были слезы очищения. Потрясающая игра. Живые эмоции. Выше всяких похвал\\n🥰\\nБилеты со скидками\\n@teatr_msk'\n",
      " '\\U0001fa77\\nGuma\\n\\U0001fa77\\nНастя Guma ворвалась в топы всех возможных чартов и стримингов в 2021 году — тогда название её трека «Стеклянная» и слова «тренд» и «фреш» стали синонимами. После этого эффектная артистка с потрясающим голосом зажигала в музыкальных рубриках главных в стране ТВ-шоу, ротация её клипа била все рекорды, а выступление на VK Fest стало одним из самых запоминающихся.\\n🗓\\n1 августа, четверг, 20:00\\n📍\\n16 Тонн ул. Пресненский Вал, 6, стр. 1'\n",
      " 'Спектакль «Ты слишком много куришь, Лили»\\n🏛\\nБоярские Палаты СТД РФ\\n🗓\\n20 сентября в 19.00\\n🎫\\nБилеты\\n🎫\\n-50% по промокоду «ЛИЛИ20» действует до 20.09.2023\\nСпектакль «Ты слишком много куришь, Лили», затрагивающий такую щепетильную тему как отношения между матерью и дочерью, вызывает достаточно смешанные чувства. Многие женщины здесь узнают себя. Не буду скрывать, что я плакала, но это были слезы очищения.\\nПотрясающая игра. Живые эмоции. Выше всяких похвал.\\n😘\\nБилеты со скидками\\n@teatr_msk'\n",
      " 'Поп-хиты со скидкой 15% в Колизее по промокоду \"STAGE15\"\\n30 июня 19:00\\nКЗ \"Колизей\" (Невский пр., 100)\\nThe Beatles, Michael Jackson, Stevie Wonder and Others\\nЧем заняться тёплым вечером? Настоящее шоу со свето-музыкой! JazzLight Band Артёма Тетерина подготовил для вас самое масштабное событие этого лета. Битлз, Майкл Джексон, Стиви Уандер и музыка многих других зарубежных знаменитостей прозвучит в исполнении действительно большого эстрадного коллектива.\\nПодпевать любимые песни сможет каждый: живая музыка и неповторимый караоке-формат концерта позволят зрителям стать полноценными участниками шоу.\\nСкидка 15% по промокоду STAGE15\\nafisha.yandex.ru/saint-petersburg/concert/the-beatles-michael-jackson-stevie-wonder-and-others-2022-06-30?city=saint-petersburg&source=suggest'\n",
      " 'Сольный концерт Александра Малинина\\n🏛\\nЦДКЖ\\n📍\\nКомсомольская пл., 4\\n🗓\\n23 октября 19:00\\n🎫\\nБилеты по ссылке здесь\\n💚\\n- 15% по промокоду Малинин15\\nНародный артист России Александр Малинин с сольным концертом выступит 23 октября в Московском ЦДКЖ.\\nКонцерты Малинина — это всегда океан эмоций, это классика и современное искусство, высочайшее исполнительское мастерство и следование традициям русской вокальной школы. Побывав на выступлении единожды, хочется приходить на них снова и снова.\\nАртист уже на протяжении 40 лет исполняет русские романсы, и с каждым разом они становятся все более проникновенными, глубокими и совершенными.\\n🥰\\nБилеты со скидками\\n@teatr_msk']\n"
     ]
    }
   ],
   "source": [
    "print(df[df['count']>15]['text'].values[:30])"
   ]
  },
  {
   "cell_type": "code",
   "execution_count": 80,
   "id": "9fa6f8e1-17e3-4ccc-b948-f58f106fee3f",
   "metadata": {},
   "outputs": [
    {
     "data": {
      "text/plain": [
       "array(['1 1 1 0 1 0 0 1 1 1 1 1 1 1 1 1 1 1 1 0',\n",
       "       '1 1 0 1 1 0 0 1 1 1 1 1 1 1 1 1 1 1 1 0'], dtype=object)"
      ]
     },
     "execution_count": 80,
     "metadata": {},
     "output_type": "execute_result"
    }
   ],
   "source": [
    "df[df['count']>15]['labels'].unique()"
   ]
  },
  {
   "cell_type": "markdown",
   "id": "4b6e806b-7ce8-4c65-a97c-9156451b20be",
   "metadata": {},
   "source": [
    "Текста у которых мало классов в целом очень маленькие и короткие; и наоборот текста с самым большим срдержанием классов длинные даже имеюткакую-то синтаксическую структуру \n",
    "\n",
    "Проблемы с подбором окна: для длинных текстов с большим содержанием классов нужно большое окно\n",
    "\n",
    "Также в обеих категориях видно, что очень мало уникальных значений и очень большая часть меток классов у них совпадает "
   ]
  },
  {
   "cell_type": "code",
   "execution_count": 143,
   "id": "614acd94-9887-4657-aafa-0c2fd5f4e41d",
   "metadata": {},
   "outputs": [
    {
     "data": {
      "text/plain": [
       "27"
      ]
     },
     "execution_count": 143,
     "metadata": {},
     "output_type": "execute_result"
    }
   ],
   "source": [
    "df.text.apply(lambda x: all(ord(c) <128 for c in x)).sum() #упоротый метод проверки на наличие англ слов "
   ]
  },
  {
   "cell_type": "markdown",
   "id": "c15e5b62-bcb4-4940-9384-dc65b54009fe",
   "metadata": {},
   "source": [
    "У нас есть 27 текстов только с англ словами (если all заменить на any, то толку особо нет тк практически в каждом тескте есть /n, который даст True)\n",
    "\n",
    "Чекнем, что за слова"
   ]
  },
  {
   "cell_type": "code",
   "execution_count": 203,
   "id": "49e18dda-045e-44f3-9e63-33fd25b1ff42",
   "metadata": {},
   "outputs": [],
   "source": [
    "t=df.text.apply(lambda x: all(ord(c) <128 for c in x))\n",
    "idx=t[t==True].index\n",
    "engl=df.iloc[idx]"
   ]
  },
  {
   "cell_type": "code",
   "execution_count": 204,
   "id": "65f983c7-4be4-4a37-bf6e-605444b464da",
   "metadata": {},
   "outputs": [
    {
     "data": {
      "text/html": [
       "<div>\n",
       "<style scoped>\n",
       "    .dataframe tbody tr th:only-of-type {\n",
       "        vertical-align: middle;\n",
       "    }\n",
       "\n",
       "    .dataframe tbody tr th {\n",
       "        vertical-align: top;\n",
       "    }\n",
       "\n",
       "    .dataframe thead th {\n",
       "        text-align: right;\n",
       "    }\n",
       "</style>\n",
       "<table border=\"1\" class=\"dataframe\">\n",
       "  <thead>\n",
       "    <tr style=\"text-align: right;\">\n",
       "      <th></th>\n",
       "      <th>id</th>\n",
       "      <th>text</th>\n",
       "      <th>labels</th>\n",
       "      <th>count</th>\n",
       "    </tr>\n",
       "  </thead>\n",
       "  <tbody>\n",
       "    <tr>\n",
       "      <th>980</th>\n",
       "      <td>980</td>\n",
       "      <td>https://vk.com/wall-8888887_26857</td>\n",
       "      <td>0 0 0 1 0 0 0 0 1 0 0 0 0 1 0 1 1 0 0 1</td>\n",
       "      <td>6</td>\n",
       "    </tr>\n",
       "    <tr>\n",
       "      <th>1493</th>\n",
       "      <td>1493</td>\n",
       "      <td>https://t.me/nastoyashieotnoshenia?livestream</td>\n",
       "      <td>1 0 0 1 0 0 0 0 1 0 0 0 0 1 0 1 1 0 0 1</td>\n",
       "      <td>7</td>\n",
       "    </tr>\n",
       "    <tr>\n",
       "      <th>2795</th>\n",
       "      <td>2795</td>\n",
       "      <td>https://vk.com/wall-8888887_25773</td>\n",
       "      <td>0 0 0 1 0 0 0 0 1 0 0 0 0 1 0 1 1 0 0 1</td>\n",
       "      <td>6</td>\n",
       "    </tr>\n",
       "    <tr>\n",
       "      <th>3815</th>\n",
       "      <td>3815</td>\n",
       "      <td>https://vk.com/wall-8888887_26483</td>\n",
       "      <td>0 0 0 1 0 0 0 0 1 0 0 0 0 1 0 1 1 0 0 1</td>\n",
       "      <td>6</td>\n",
       "    </tr>\n",
       "    <tr>\n",
       "      <th>5129</th>\n",
       "      <td>5129</td>\n",
       "      <td>https://mos-kino.ru/event/sinemateka-8-marta/</td>\n",
       "      <td>1 0 0 1 0 0 0 0 1 0 0 0 0 1 0 1 1 0 0 1</td>\n",
       "      <td>7</td>\n",
       "    </tr>\n",
       "  </tbody>\n",
       "</table>\n",
       "</div>"
      ],
      "text/plain": [
       "        id                                           text  \\\n",
       "980    980              https://vk.com/wall-8888887_26857   \n",
       "1493  1493  https://t.me/nastoyashieotnoshenia?livestream   \n",
       "2795  2795              https://vk.com/wall-8888887_25773   \n",
       "3815  3815              https://vk.com/wall-8888887_26483   \n",
       "5129  5129  https://mos-kino.ru/event/sinemateka-8-marta/   \n",
       "\n",
       "                                       labels  count  \n",
       "980   0 0 0 1 0 0 0 0 1 0 0 0 0 1 0 1 1 0 0 1      6  \n",
       "1493  1 0 0 1 0 0 0 0 1 0 0 0 0 1 0 1 1 0 0 1      7  \n",
       "2795  0 0 0 1 0 0 0 0 1 0 0 0 0 1 0 1 1 0 0 1      6  \n",
       "3815  0 0 0 1 0 0 0 0 1 0 0 0 0 1 0 1 1 0 0 1      6  \n",
       "5129  1 0 0 1 0 0 0 0 1 0 0 0 0 1 0 1 1 0 0 1      7  "
      ]
     },
     "execution_count": 204,
     "metadata": {},
     "output_type": "execute_result"
    }
   ],
   "source": [
    "engl[:5]"
   ]
  },
  {
   "cell_type": "markdown",
   "id": "021c9acb-bce7-4912-b211-36e224cd6e75",
   "metadata": {},
   "source": [
    "Это все какие-то ссылки или вообще что-то не особо понятное, интересно что они все имеют около 6-7 отношений к классам и классы +- одинаковые\n",
    "\n",
    "Посмотрим на тексты, где есть русский-английский и только русский"
   ]
  },
  {
   "cell_type": "code",
   "execution_count": 201,
   "id": "b1fd0f0f-1845-47be-8fde-fae999c477c7",
   "metadata": {},
   "outputs": [
    {
     "data": {
      "text/plain": [
       "23395"
      ]
     },
     "execution_count": 201,
     "metadata": {},
     "output_type": "execute_result"
    }
   ],
   "source": [
    "h=df.text.apply(lambda x: re.sub(r'[^A-Za-zА-Яа-яЁё]', '', x))\n",
    "# убрали все кроме русских и английский букв \n",
    "h.apply(lambda x: any(ord(c) <128 for c in x)).sum() # а всего данных у нас 29568"
   ]
  },
  {
   "cell_type": "code",
   "execution_count": 205,
   "id": "3b2a4a6f-1955-4cb0-8b30-9abaaaf8e1d3",
   "metadata": {},
   "outputs": [
    {
     "data": {
      "image/png": "[encoded data removed]",
      "text/plain": [
       "<Figure size 640x480 with 1 Axes>"
      ]
     },
     "metadata": {},
     "output_type": "display_data"
    }
   ],
   "source": [
    "idx=h[h.apply(lambda x: any(ord(c) <128 for c in x))].index\n",
    "engl_rus=df.iloc[idx]\n",
    "\n",
    "plt.hist(df['count'])\n",
    "plt.hist(engl_rus['count'])\n",
    "plt.title('количество классов при наличии как англ текста, так и русского (оранж) по сравнению со всем датасетом');"
   ]
  },
  {
   "cell_type": "code",
   "execution_count": 208,
   "id": "ba93e356-d5a1-446a-9120-ebac2cf7b67c",
   "metadata": {},
   "outputs": [],
   "source": [
    "#текст только на русском \n",
    "t=h.apply(lambda x: all(ord(c) >128 for c in x))\n",
    "idx=t[t==True].index\n",
    "rus=df.iloc[idx]"
   ]
  },
  {
   "cell_type": "code",
   "execution_count": 217,
   "id": "2dbe98b2-e64d-41ce-be93-9c2453618971",
   "metadata": {},
   "outputs": [
    {
     "data": {
      "image/png": "[encoded data removed]",
      "text/plain": [
       "<Figure size 640x480 with 1 Axes>"
      ]
     },
     "metadata": {},
     "output_type": "display_data"
    }
   ],
   "source": [
    "plt.hist(df['count'])\n",
    "plt.hist(rus['count'])\n",
    "plt.title('количество классов только для русских текстов (оранж) на фоне общего количества');"
   ]
  },
  {
   "cell_type": "markdown",
   "id": "96b8c345-bbe4-4e89-9288-6656b9c10bc8",
   "metadata": {},
   "source": [
    "Интересные замечания: текста, где содержиться только руссский язык преимущественно не относятся к большому количеству классов, и наоборот если текст англ+рус,\n",
    "то он будет относиться к большому колчеству классов (почти все текста, имеющие 12+ классов имеют и рус и англ языки)"
   ]
  },
  {
   "cell_type": "markdown",
   "id": "d737bd80-cd18-4f12-98b0-f000d560e635",
   "metadata": {
    "tags": []
   },
   "source": [
    "# Часть 2 и Часть 3: какие способы очистки текста нужны под разные способы токенезации и заданию эмбеддингов + обучить модельки \n",
    "(1) tf-idf + любая нейронная сеть; \n",
    "\n",
    "(2) w2v + любая нейронная сеть; \n",
    "\n",
    "(3) встроенный эмбеддинг в нейросетевое решение на свёрточных сетях; \n",
    "\n",
    "(4) встроенный эмбеддинг в нейросетевое решение на рекуррентных сетях; \n",
    "\n",
    "(5) эмбеддер + решение на bert-like моделях (любой вид). \n"
   ]
  },
  {
   "cell_type": "markdown",
   "id": "7f97e49b-fbd2-4d42-9e85-602e420a3bf4",
   "metadata": {
    "tags": []
   },
   "source": [
    "##### Технический код: стоп слова, что-то спертое из семов и определение стоп-слов, лемматизации и стемминга для англ/рус"
   ]
  },
  {
   "cell_type": "code",
   "execution_count": 10,
   "id": "29d22d04-2d4a-48b6-b32d-324d350889dd",
   "metadata": {
    "execution": {
     "iopub.execute_input": "2025-05-18T21:45:22.321116Z",
     "iopub.status.busy": "2025-05-18T21:45:22.320034Z",
     "iopub.status.idle": "2025-05-18T21:45:22.370897Z",
     "shell.execute_reply": "2025-05-18T21:45:22.370086Z",
     "shell.execute_reply.started": "2025-05-18T21:45:22.321071Z"
    },
    "tags": []
   },
   "outputs": [],
   "source": [
    "class EarlyStopping:\n",
    "    def __init__(self, patience=5, verbose=False, delta=0):\n",
    "        self.patience = patience #отвечает за период в течении которого не улучшается метрика \n",
    "        self.verbose = verbose\n",
    "        self.counter = 0 #счетчик увеличивается каждую эпоху, если не было улучшения \n",
    "        self.best_score = None\n",
    "        self.early_stop = False\n",
    "        self.delta = delta\n",
    "        self.best_model_state = None\n",
    "\n",
    "    def __call__(self, val_metric, model):\n",
    "        score = -val_metric  # Assuming lower loss is better\n",
    "        if self.best_score is None:\n",
    "            self.best_score = score\n",
    "            self.best_model_state = model.state_dict()\n",
    "        elif score < self.best_score + self.delta: #делта чтобы не сохранялись совсем маленькие приросты \n",
    "            self.counter += 1\n",
    "            if self.verbose:\n",
    "                print(f\"EarlyStopping counter: {self.counter} out of {self.patience}\")\n",
    "            if self.counter >= self.patience:\n",
    "                self.early_stop = True\n",
    "        else:\n",
    "            self.best_score = score\n",
    "            self.best_model_state = model.state_dict()\n",
    "            self.counter = 0\n",
    "            \n",
    "def warmup_lr_scheduler(optimizer, epoch, warmup_epochs, base_lr, warmup_lr_start=1e-5):\n",
    "    if epoch < warmup_epochs: # пока идут эпохт вормапа lr изменяется по определенному закону \n",
    "        lr = warmup_lr_start + (base_lr - warmup_lr_start) * (epoch / warmup_epochs)\n",
    "        for param_group in optimizer.param_groups:\n",
    "            param_group['lr'] = lr\n",
    "    return optimizer  "
   ]
  },
  {
   "cell_type": "code",
   "execution_count": 11,
   "id": "03d7daef-43cf-40b4-b250-b2a4e8784755",
   "metadata": {
    "execution": {
     "iopub.execute_input": "2025-05-18T21:45:24.321684Z",
     "iopub.status.busy": "2025-05-18T21:45:24.320686Z",
     "iopub.status.idle": "2025-05-18T21:45:24.447583Z",
     "shell.execute_reply": "2025-05-18T21:45:24.446831Z",
     "shell.execute_reply.started": "2025-05-18T21:45:24.321640Z"
    },
    "tags": []
   },
   "outputs": [
    {
     "name": "stderr",
     "output_type": "stream",
     "text": [
      "[nltk_data] Downloading package stopwords to\n",
      "[nltk_data]     /home/jupyter/nltk_data...\n",
      "[nltk_data]   Package stopwords is already up-to-date!\n"
     ]
    },
    {
     "data": {
      "text/plain": [
       "True"
      ]
     },
     "execution_count": 11,
     "metadata": {},
     "output_type": "execute_result"
    }
   ],
   "source": [
    "nltk.download('stopwords') "
   ]
  },
  {
   "cell_type": "code",
   "execution_count": 12,
   "id": "9c28a284-7708-48d5-bb8a-bdfc3a491408",
   "metadata": {
    "execution": {
     "iopub.execute_input": "2025-05-18T21:45:24.792532Z",
     "iopub.status.busy": "2025-05-18T21:45:24.791629Z",
     "iopub.status.idle": "2025-05-18T21:45:24.863065Z",
     "shell.execute_reply": "2025-05-18T21:45:24.862362Z",
     "shell.execute_reply.started": "2025-05-18T21:45:24.792497Z"
    },
    "tags": []
   },
   "outputs": [
    {
     "name": "stderr",
     "output_type": "stream",
     "text": [
      "[nltk_data] Downloading package omw-1.4 to /home/jupyter/nltk_data...\n",
      "[nltk_data]   Package omw-1.4 is already up-to-date!\n"
     ]
    },
    {
     "data": {
      "text/plain": [
       "True"
      ]
     },
     "execution_count": 12,
     "metadata": {},
     "output_type": "execute_result"
    }
   ],
   "source": [
    "\n",
    "nltk.download('omw-1.4')"
   ]
  },
  {
   "cell_type": "code",
   "execution_count": 13,
   "id": "d458f331-f0fc-4baa-a115-ff6a515bfeb7",
   "metadata": {
    "execution": {
     "iopub.execute_input": "2025-05-18T21:45:26.110365Z",
     "iopub.status.busy": "2025-05-18T21:45:26.109543Z",
     "iopub.status.idle": "2025-05-18T21:45:26.146295Z",
     "shell.execute_reply": "2025-05-18T21:45:26.145531Z",
     "shell.execute_reply.started": "2025-05-18T21:45:26.110336Z"
    },
    "tags": []
   },
   "outputs": [],
   "source": [
    "import inspect\n",
    "if not hasattr(inspect, 'getargspec'):\n",
    "    import collections\n",
    "    def getargspec(func):\n",
    "        sig = inspect.signature(func)\n",
    "        args = []\n",
    "        varargs = None\n",
    "        varkw = None\n",
    "        defaults = []\n",
    "        for param in sig.parameters.values():\n",
    "            if param.kind == param.VAR_POSITIONAL:\n",
    "                varargs = param.name\n",
    "            elif param.kind == param.VAR_KEYWORD:\n",
    "                varkw = param.name\n",
    "            else:\n",
    "                args.append(param.name)\n",
    "                if param.default is not param.empty:\n",
    "                    defaults.append(param.default)\n",
    "        return collections.namedtuple('ArgSpec', 'args varargs keywords defaults')(args, varargs, varkw, tuple(defaults) if defaults else None)\n",
    "    inspect.getargspec = getargspec"
   ]
  },
  {
   "cell_type": "code",
   "execution_count": 14,
   "id": "7ecb4759-3bf4-4db6-977b-6299520c87e2",
   "metadata": {
    "execution": {
     "iopub.execute_input": "2025-05-18T21:45:26.470558Z",
     "iopub.status.busy": "2025-05-18T21:45:26.469606Z",
     "iopub.status.idle": "2025-05-18T21:45:26.606076Z",
     "shell.execute_reply": "2025-05-18T21:45:26.605273Z",
     "shell.execute_reply.started": "2025-05-18T21:45:26.470515Z"
    },
    "tags": []
   },
   "outputs": [],
   "source": [
    "lemmer_rus = pymorphy2.MorphAnalyzer() \n",
    "lemmer_eng = WordNetLemmatizer()\n",
    "#лемматизация \n",
    "stemmer_rus = RussianStemmer()\n",
    "stemmer_eng =PorterStemmer()#стемматизация\n",
    "\n",
    "stop_words_rus = set(stopwords.words('russian'))\n",
    "stop_words_eng =set(stopwords.words('english'))"
   ]
  },
  {
   "cell_type": "markdown",
   "id": "be51a34b-f4fe-4b27-bbce-f31a4eb5114d",
   "metadata": {
    "tags": []
   },
   "source": [
    "### 1. TF-IDF + любая нейронная сеть способы очистки \n",
    "\n",
    "Убрать стоп слова, все к одному регистру, всякий мусор кроме букв навыкид, лемматизация/стемминг на выбор\n",
    "\n",
    "Есть англ слова, пока уберем, но потом может надо будет с ними посмотреть тк у нас большая часть датасета на это опирается \n",
    "\n",
    "спойлер: ничего особо то и не поменялось f1-score вырос с 0.83 до 0.84 (до 9й эпохи) потом опять начал падать \n"
   ]
  },
  {
   "cell_type": "code",
   "execution_count": 32,
   "id": "83a65365-45ed-49b1-a274-2093029e761d",
   "metadata": {
    "execution": {
     "iopub.execute_input": "2025-05-18T15:31:59.644059Z",
     "iopub.status.busy": "2025-05-18T15:31:59.643622Z",
     "iopub.status.idle": "2025-05-18T15:31:59.658915Z",
     "shell.execute_reply": "2025-05-18T15:31:59.658231Z",
     "shell.execute_reply.started": "2025-05-18T15:31:59.644034Z"
    },
    "tags": []
   },
   "outputs": [
    {
     "data": {
      "text/plain": [
       "device(type='cuda')"
      ]
     },
     "execution_count": 32,
     "metadata": {},
     "output_type": "execute_result"
    }
   ],
   "source": [
    "device = torch.device(\"cuda\" if torch.cuda.is_available() else \"cpu\")\n",
    "device"
   ]
  },
  {
   "cell_type": "code",
   "execution_count": 33,
   "id": "d8a87b82-d563-40a0-a57c-7d343ec7619d",
   "metadata": {
    "execution": {
     "iopub.execute_input": "2025-05-18T15:31:59.661439Z",
     "iopub.status.busy": "2025-05-18T15:31:59.660577Z",
     "iopub.status.idle": "2025-05-18T15:31:59.678969Z",
     "shell.execute_reply": "2025-05-18T15:31:59.678367Z",
     "shell.execute_reply.started": "2025-05-18T15:31:59.661403Z"
    },
    "tags": []
   },
   "outputs": [],
   "source": [
    "def tf_idf_rus(text, method='lemmer'):\n",
    "    text = text.lower()\n",
    "    text = re.sub(r'[^а-яё\\s-]', '', text)\n",
    "    text = re.sub(r'-',' ',text)\n",
    "    tokens = text.split()\n",
    "    if method == 'lemmer':\n",
    "        tokens = [lemmer_rus.parse(token)[0].normal_form for token in tokens]\n",
    "    elif method == 'stemmer':\n",
    "        tokens = [stemmer_rus.stem(token) for token in tokens]\n",
    "    tokens = [token for token in tokens if token not in stop_words_rus and len(token) > 2]\n",
    "    return ' '.join(tokens)"
   ]
  },
  {
   "cell_type": "markdown",
   "id": "db5d0128-fd7c-4b86-bee4-0356afebd83e",
   "metadata": {},
   "source": [
    "Посмотрим еще как будет отрабатывать, если англ слова не выкидывать "
   ]
  },
  {
   "cell_type": "code",
   "execution_count": 75,
   "id": "8d2799c0-8c1e-4c4b-a6f9-1a14ac75f595",
   "metadata": {
    "execution": {
     "iopub.execute_input": "2025-05-18T16:07:34.695344Z",
     "iopub.status.busy": "2025-05-18T16:07:34.694344Z",
     "iopub.status.idle": "2025-05-18T16:07:34.753855Z",
     "shell.execute_reply": "2025-05-18T16:07:34.753076Z",
     "shell.execute_reply.started": "2025-05-18T16:07:34.695309Z"
    },
    "tags": []
   },
   "outputs": [],
   "source": [
    "#с учетом обоих языков \n",
    "def tf_idf(text):\n",
    "    \n",
    "    text = text.lower()\n",
    "    text = re.sub(r'https?://\\S+|www\\.\\S+', '', text) #удаляем ссылки \n",
    "    text = re.sub(r'@\\S+', '', text) #удаляем теги почт и тг\n",
    "    text = re.sub(r'[^a-zA-Zа-яА-ЯёЁ\\s-]', '', text)  #убираем все кроме рус/англ букв и - \n",
    "    text = re.sub(r'-',' ',text) #были слова по типу \"перфоманс-инсталляция\" сделали так чтобы убрать - и не было слипаний \n",
    "    \n",
    "    tokens = text.split()\n",
    "    #для русского лемматизация для английского стемминг\n",
    "    tokens = [lemmer_rus.parse(token)[0].normal_form if re.search('[а-яё]', token) else stemmer_eng.stem(token) for token in tokens]\n",
    "    \n",
    "    tokens = [token for token in tokens if token not in (stop_words_eng and stop_words_rus) and len(token) > 2]\n",
    "    return ' '.join(tokens)"
   ]
  },
  {
   "cell_type": "code",
   "execution_count": 63,
   "id": "152ca710-14ba-4a19-97dc-80e25cd3e50b",
   "metadata": {
    "execution": {
     "iopub.execute_input": "2025-05-18T15:51:46.342512Z",
     "iopub.status.busy": "2025-05-18T15:51:46.341634Z",
     "iopub.status.idle": "2025-05-18T15:59:06.935319Z",
     "shell.execute_reply": "2025-05-18T15:59:06.933877Z",
     "shell.execute_reply.started": "2025-05-18T15:51:46.342472Z"
    },
    "tags": []
   },
   "outputs": [],
   "source": [
    "df['clean_text']= df.text.apply(lambda x: tf_idf(x))"
   ]
  },
  {
   "cell_type": "code",
   "execution_count": 89,
   "id": "8097cc2d-6dd0-4645-bd6f-fc730b305e20",
   "metadata": {
    "execution": {
     "iopub.execute_input": "2025-05-18T16:14:21.948433Z",
     "iopub.status.busy": "2025-05-18T16:14:21.947404Z",
     "iopub.status.idle": "2025-05-18T16:21:37.587613Z",
     "shell.execute_reply": "2025-05-18T16:21:37.586854Z",
     "shell.execute_reply.started": "2025-05-18T16:14:21.948393Z"
    }
   },
   "outputs": [],
   "source": [
    "df['clean_text_rus']= df.text.apply(lambda x: tf_idf_rus(x,method='lemmer'))"
   ]
  },
  {
   "cell_type": "markdown",
   "id": "7758b308-ac14-40df-8b96-9c381b93e882",
   "metadata": {},
   "source": [
    "Тут конечно не совсем правильно сделала, надо было сначала сплитануть, а потом уже фитить только трейн и на валидации обучаться, но тк потом все равно для тест пришлось бы весь трейн(без разбиения) прогонять, то оставила так "
   ]
  },
  {
   "cell_type": "code",
   "execution_count": 90,
   "id": "a899840a-02b3-459a-91fb-577a8bc9f5f4",
   "metadata": {
    "execution": {
     "iopub.execute_input": "2025-05-18T16:23:03.711629Z",
     "iopub.status.busy": "2025-05-18T16:23:03.710661Z",
     "iopub.status.idle": "2025-05-18T16:23:09.152697Z",
     "shell.execute_reply": "2025-05-18T16:23:09.151813Z",
     "shell.execute_reply.started": "2025-05-18T16:23:03.711595Z"
    },
    "tags": []
   },
   "outputs": [],
   "source": [
    "tf_idf = TfidfVectorizer(\n",
    "    max_df=0.95,      \n",
    "    min_df=1,\n",
    "    norm='l2',        \n",
    "sublinear_tf=True\n",
    ")\n",
    "X = tf_idf.fit_transform(df.clean_text_rus) \n",
    "X_tensor = torch.FloatTensor(X.toarray())"
   ]
  },
  {
   "cell_type": "code",
   "execution_count": 91,
   "id": "25b11789-65c8-4fb6-a020-b361227fe496",
   "metadata": {
    "execution": {
     "iopub.execute_input": "2025-05-18T16:23:10.058920Z",
     "iopub.status.busy": "2025-05-18T16:23:10.058056Z",
     "iopub.status.idle": "2025-05-18T16:23:10.070745Z",
     "shell.execute_reply": "2025-05-18T16:23:10.070040Z",
     "shell.execute_reply.started": "2025-05-18T16:23:10.058891Z"
    },
    "tags": []
   },
   "outputs": [
    {
     "data": {
      "text/plain": [
       "(29568, 44092)"
      ]
     },
     "execution_count": 91,
     "metadata": {},
     "output_type": "execute_result"
    }
   ],
   "source": [
    "X.shape #47618 уникальных слов было без англ "
   ]
  },
  {
   "cell_type": "code",
   "execution_count": 92,
   "id": "f4ca0042-8bab-4707-9d86-729d81ec806f",
   "metadata": {
    "execution": {
     "iopub.execute_input": "2025-05-18T16:23:12.830790Z",
     "iopub.status.busy": "2025-05-18T16:23:12.829825Z",
     "iopub.status.idle": "2025-05-18T16:23:12.916744Z",
     "shell.execute_reply": "2025-05-18T16:23:12.915866Z",
     "shell.execute_reply.started": "2025-05-18T16:23:12.830751Z"
    },
    "tags": []
   },
   "outputs": [],
   "source": [
    "labels_tensor=torch.FloatTensor(np.array([np.fromstring(row, dtype=int, sep=' ') for row in df['labels'].values]))"
   ]
  },
  {
   "cell_type": "code",
   "execution_count": 93,
   "id": "fbd3c869-d300-42d8-8153-817e3b287e05",
   "metadata": {
    "execution": {
     "iopub.execute_input": "2025-05-18T16:23:14.429175Z",
     "iopub.status.busy": "2025-05-18T16:23:14.428138Z",
     "iopub.status.idle": "2025-05-18T16:23:14.453237Z",
     "shell.execute_reply": "2025-05-18T16:23:14.452404Z",
     "shell.execute_reply.started": "2025-05-18T16:23:14.429130Z"
    },
    "tags": []
   },
   "outputs": [],
   "source": [
    "class My_Dataset(Dataset):\n",
    "    def __init__(self, text, label, split='train'):\n",
    "        n=text.shape[0]\n",
    "        self.split=split\n",
    "        if self.split == 'train':\n",
    "            self.text=text[:int(n*0.7)]\n",
    "            self.label=label[:int(n*0.7)]\n",
    "        elif self.split == 'val':\n",
    "            self.text=text[int(n*0.7):]\n",
    "            self.label=label[int(n*0.7):]\n",
    "        else:\n",
    "            self.text=text\n",
    "            self.label=label\n",
    "                \n",
    "    def __len__(self):\n",
    "        return self.text.shape[0]  \n",
    "\n",
    "    def __getitem__(self, idx):\n",
    "        return self.text[idx], self.label[idx]"
   ]
  },
  {
   "cell_type": "code",
   "execution_count": 94,
   "id": "f454bb9d-4072-4468-a74c-c8cc530b2a73",
   "metadata": {
    "execution": {
     "iopub.execute_input": "2025-05-18T16:23:15.441918Z",
     "iopub.status.busy": "2025-05-18T16:23:15.441021Z",
     "iopub.status.idle": "2025-05-18T16:23:15.663565Z",
     "shell.execute_reply": "2025-05-18T16:23:15.662793Z",
     "shell.execute_reply.started": "2025-05-18T16:23:15.441880Z"
    },
    "tags": []
   },
   "outputs": [],
   "source": [
    "train_dataset=My_Dataset(X_tensor,labels_tensor,split='train')\n",
    "val_dataset=My_Dataset(X_tensor,labels_tensor,split='val')\n",
    "\n",
    "train_loader = DataLoader(train_dataset, batch_size=32, shuffle=True)\n",
    "val_loader = DataLoader(val_dataset, batch_size=32, shuffle=False)"
   ]
  },
  {
   "cell_type": "code",
   "execution_count": 101,
   "id": "e96157bb-1218-4896-b822-a64c46432e0d",
   "metadata": {
    "execution": {
     "iopub.execute_input": "2025-05-18T16:33:45.476415Z",
     "iopub.status.busy": "2025-05-18T16:33:45.475549Z",
     "iopub.status.idle": "2025-05-18T16:33:46.167718Z",
     "shell.execute_reply": "2025-05-18T16:33:46.167014Z",
     "shell.execute_reply.started": "2025-05-18T16:33:45.476387Z"
    },
    "tags": []
   },
   "outputs": [],
   "source": [
    "num_classes = 20\n",
    "num_uwords=X_tensor.shape[1]\n",
    "\n",
    "model = nn.Sequential(\n",
    "    nn.Linear(num_uwords,2048),\n",
    "    nn.BatchNorm1d(2048),\n",
    "    nn.ReLU(),\n",
    "    nn.Dropout(p=0.4),\n",
    "    \n",
    "    nn.Linear(2048,1024),\n",
    "    nn.BatchNorm1d(1024),\n",
    "    nn.LeakyReLU(0.2),\n",
    "    nn.Dropout(p=0.4),\n",
    "    \n",
    "    nn.Linear(1024,512),\n",
    "    nn.ReLU(),\n",
    "    nn.Dropout(p=0.4),\n",
    "    nn.Linear(512,num_classes)\n",
    ")\n",
    "device = torch.device(\"cuda\" if torch.cuda.is_available() else \"cpu\")\n",
    "model = model.to(device)"
   ]
  },
  {
   "cell_type": "code",
   "execution_count": 99,
   "id": "66fc4b6c-1cc6-4ef9-b7ed-c02b20745b5f",
   "metadata": {
    "execution": {
     "iopub.execute_input": "2025-05-18T16:27:05.283667Z",
     "iopub.status.busy": "2025-05-18T16:27:05.282795Z",
     "iopub.status.idle": "2025-05-18T16:33:27.846252Z",
     "shell.execute_reply": "2025-05-18T16:33:27.845418Z",
     "shell.execute_reply.started": "2025-05-18T16:27:05.283628Z"
    },
    "tags": []
   },
   "outputs": [
    {
     "data": {
      "image/png": "[encoded data removed]",
      "text/plain": [
       "<Figure size 1200x500 with 2 Axes>"
      ]
     },
     "metadata": {},
     "output_type": "display_data"
    },
    {
     "name": "stderr",
     "output_type": "stream",
     "text": [
      "100%|██████████| 15/15 [06:22<00:00, 25.50s/it]"
     ]
    },
    {
     "name": "stdout",
     "output_type": "stream",
     "text": [
      "Epoch 15/15 | LR: 0.001000 | Train Loss: 0.1476, Train f1: 0.86 | Val Loss: 0.2703, Val f1: 0.82\n"
     ]
    },
    {
     "name": "stderr",
     "output_type": "stream",
     "text": [
      "\n"
     ]
    }
   ],
   "source": [
    "train_losses, val_losses = [], []\n",
    "train_accuracies, val_accuracies = [], []\n",
    "\n",
    "metric = MultilabelF1Score(num_labels=20)  \n",
    "criterion = nn.BCEWithLogitsLoss()\n",
    "optimizer = optim.Adam(model.parameters(), lr=0.001) \n",
    "scheduler = optim.lr_scheduler.StepLR(optimizer, step_size=2, gamma=0.5)\n",
    "\n",
    "early_stopping_optimizer_switch = EarlyStopping(patience=2, verbose=True)\n",
    "early_stopping_loss_switch = EarlyStopping(patience=2, verbose=True)\n",
    "\n",
    "warmup_epochs = 2\n",
    "base_lr = 0.01\n",
    "loss_switched = False\n",
    "optimizer_switched = False\n",
    "num_epochs=15\n",
    "\n",
    "for epoch in tqdm(range(num_epochs)):\n",
    "    model.train()\n",
    "    running_loss, correct, total = 0.0, 0, 0\n",
    "    \n",
    "    # if epoch < warmup_epochs:\n",
    "    #      optimizer = warmup_lr_scheduler(optimizer, epoch, warmup_epochs, base_lr, warmup_lr_start=1e-5)\n",
    "    # else:  \n",
    "    #      scheduler.step()\n",
    "        \n",
    "    all_preds_train = []\n",
    "    all_labels_train = []\n",
    "    \n",
    "    for inputs, targets in train_loader:\n",
    "        inputs = inputs.to(device)\n",
    "        targets= targets.to(device)\n",
    "        optimizer.zero_grad()\n",
    "        outputs = model(inputs)\n",
    "        loss = criterion(outputs, targets)\n",
    "        loss.backward()\n",
    "        optimizer.step()\n",
    "\n",
    "        running_loss += loss.item() * inputs.size(0)\n",
    "        predicted =  torch.sigmoid(outputs)\n",
    "        \n",
    "        all_preds_train.append(predicted.cpu())\n",
    "        all_labels_train.append(targets.cpu())\n",
    "\n",
    "    all_preds_train = torch.cat(all_preds_train, dim=0)\n",
    "    all_labels_train = torch.cat(all_labels_train, dim=0)\n",
    "    \n",
    "    train_loss = running_loss / len(train_loader.dataset)\n",
    "    train_acc =  metric(all_preds_train,all_labels_train)\n",
    "    \n",
    "    all_preds_val = []\n",
    "    all_labels_val = []\n",
    "    \n",
    "    model.eval()\n",
    "    running_val_loss, correct, total = 0.0, 0, 0\n",
    "    with torch.no_grad():\n",
    "        for inputs, targets in val_loader:\n",
    "            inputs, targets = inputs.to(device), targets.to(device)\n",
    "            outputs = model(inputs)\n",
    "            loss = criterion(outputs, targets)\n",
    "            running_val_loss += loss.item() * inputs.size(0)\n",
    "            predicted = torch.sigmoid(outputs).to(device)\n",
    "\n",
    "            all_preds_val.append(predicted.cpu())\n",
    "            all_labels_val.append(targets.cpu())\n",
    "            \n",
    "    all_preds_val = torch.cat(all_preds_val, dim=0)\n",
    "    all_labels_val = torch.cat(all_labels_val, dim=0)   \n",
    "    \n",
    "    val_loss = running_val_loss / len(val_loader.dataset)\n",
    "    val_acc = metric(all_preds_val,all_labels_val)\n",
    "\n",
    "    train_losses.append(train_loss)\n",
    "    val_losses.append(val_loss)\n",
    "    train_accuracies.append(train_acc.cpu().item())\n",
    "    val_accuracies.append(val_acc.cpu().item())\n",
    "\n",
    "    clear_output(wait=True)\n",
    "    plt.figure(figsize=(12,5))\n",
    "    plt.subplot(1,2,1)\n",
    "    plt.plot(range(1, len(train_losses)+1), train_losses, label=\"Train Loss\")\n",
    "    plt.plot(range(1, len(val_losses)+1), val_losses, label=\"Validation Loss\")\n",
    "    plt.xlabel(\"Epoch\")\n",
    "    plt.ylabel(\"Loss\")\n",
    "    plt.title(\"Loss over Epochs\")\n",
    "    plt.legend()\n",
    "    \n",
    "    plt.subplot(1,2,2)\n",
    "    plt.plot(range(1, len(train_accuracies)+1), train_accuracies, label=\"Train f1\")\n",
    "    plt.plot(range(1, len(val_accuracies)+1), val_accuracies, label=\"Validation f1\")\n",
    "    plt.xlabel(\"Epoch\")\n",
    "    plt.ylabel(\"F1\")\n",
    "    plt.title(\"F1 over Epochs\")\n",
    "    plt.legend()\n",
    "    plt.show()\n",
    "    print(f\"Epoch {epoch+1}/{num_epochs} | LR: {optimizer.param_groups[0]['lr']:.6f} | Train Loss: {train_loss:.4f}, Train f1: {train_acc:.2f} | Val Loss: {val_loss:.4f}, Val f1: {val_acc:.2f}\")\n",
    "\n",
    "    # early_stopping_optimizer_switch(val_loss, model)\n",
    "    # if early_stopping_optimizer_switch.early_stop and not optimizer_switched:\n",
    "    #     print(\"No improvement after loss switch. Switching optimizer to Adam.\")\n",
    "    #     optimizer = optim.SGD(model.parameters(), lr=0.001, momentum=0.9, weight_decay=0.0001)\n",
    "    #     base_lr = 0.001\n",
    "    #     optimizer_switched = True\n",
    "    #     early_stopping_optimizer_switch = EarlyStopping(patience=2, verbose=True)"
   ]
  },
  {
   "cell_type": "markdown",
   "id": "e82532ef-24dc-41a3-bb74-cec104f1e252",
   "metadata": {},
   "source": [
    "#### основные выводы: лютейше переобучаемся, но в целом score выдаёт неплохой (на тесте что-то около 0.82..), но лосс тут конечно, кто куда один по дрова другой в лес "
   ]
  },
  {
   "cell_type": "markdown",
   "id": "de78af42-6ee1-4dcd-be3f-f25d05a246a4",
   "metadata": {
    "tags": []
   },
   "source": [
    "#### Выбиваем скор"
   ]
  },
  {
   "cell_type": "code",
   "execution_count": 43,
   "id": "33875504-537b-496f-ad49-b606ea5ddd4d",
   "metadata": {
    "execution": {
     "iopub.execute_input": "2025-05-18T15:43:08.192315Z",
     "iopub.status.busy": "2025-05-18T15:43:08.191277Z",
     "iopub.status.idle": "2025-05-18T15:43:08.379066Z",
     "shell.execute_reply": "2025-05-18T15:43:08.378329Z",
     "shell.execute_reply.started": "2025-05-18T15:43:08.192272Z"
    },
    "tags": []
   },
   "outputs": [],
   "source": [
    "test=pd.read_csv('content2/test.csv')"
   ]
  },
  {
   "cell_type": "code",
   "execution_count": 73,
   "id": "806930cc-0e4d-41c5-b48b-bd34e4b07188",
   "metadata": {
    "execution": {
     "iopub.execute_input": "2025-05-18T16:07:10.815310Z",
     "iopub.status.busy": "2025-05-18T16:07:10.814252Z",
     "iopub.status.idle": "2025-05-18T16:07:10.825343Z",
     "shell.execute_reply": "2025-05-18T16:07:10.824713Z",
     "shell.execute_reply.started": "2025-05-18T16:07:10.815270Z"
    },
    "tags": []
   },
   "outputs": [],
   "source": [
    "class test_Dataset(Dataset):\n",
    "    def __init__(self, text):\n",
    "            self.text=text\n",
    "                \n",
    "    def __len__(self):\n",
    "        return self.text.shape[0]  \n",
    "\n",
    "    def __getitem__(self, idx):\n",
    "        return self.text[idx]"
   ]
  },
  {
   "cell_type": "code",
   "execution_count": 45,
   "id": "ca8977b8-4c5a-426f-8cbf-aa3f85a6f89d",
   "metadata": {
    "execution": {
     "iopub.execute_input": "2025-05-18T15:43:25.235021Z",
     "iopub.status.busy": "2025-05-18T15:43:25.234097Z",
     "iopub.status.idle": "2025-05-18T15:45:11.621651Z",
     "shell.execute_reply": "2025-05-18T15:45:11.620921Z",
     "shell.execute_reply.started": "2025-05-18T15:43:25.234980Z"
    },
    "tags": []
   },
   "outputs": [],
   "source": [
    "test['clean_text']= test.text.apply(lambda x: tf_idf_rus(x,method='lemmer'))"
   ]
  },
  {
   "cell_type": "code",
   "execution_count": 76,
   "id": "31d0bfcc-6d17-4c77-829a-19f10b81c87d",
   "metadata": {
    "execution": {
     "iopub.execute_input": "2025-05-18T16:07:39.424057Z",
     "iopub.status.busy": "2025-05-18T16:07:39.423106Z",
     "iopub.status.idle": "2025-05-18T16:09:30.389904Z",
     "shell.execute_reply": "2025-05-18T16:09:30.389084Z",
     "shell.execute_reply.started": "2025-05-18T16:07:39.424026Z"
    },
    "tags": []
   },
   "outputs": [],
   "source": [
    "test['clean_text_eng']=test.text.apply(lambda x: tf_idf(x))\n"
   ]
  },
  {
   "cell_type": "code",
   "execution_count": 79,
   "id": "8ccbe1e2-3a06-42cb-9844-e9968bd6fd56",
   "metadata": {
    "execution": {
     "iopub.execute_input": "2025-05-18T16:11:32.465998Z",
     "iopub.status.busy": "2025-05-18T16:11:32.465075Z",
     "iopub.status.idle": "2025-05-18T16:11:34.033081Z",
     "shell.execute_reply": "2025-05-18T16:11:34.032190Z",
     "shell.execute_reply.started": "2025-05-18T16:11:32.465955Z"
    },
    "tags": []
   },
   "outputs": [],
   "source": [
    "X = tf_idf.transform(test.clean_text) \n",
    "X_tensor = torch.FloatTensor(X.toarray())"
   ]
  },
  {
   "cell_type": "code",
   "execution_count": 80,
   "id": "b6e2a8db-31e4-49bb-89c5-60101a70ee03",
   "metadata": {
    "execution": {
     "iopub.execute_input": "2025-05-18T16:11:34.800559Z",
     "iopub.status.busy": "2025-05-18T16:11:34.799482Z",
     "iopub.status.idle": "2025-05-18T16:11:34.834005Z",
     "shell.execute_reply": "2025-05-18T16:11:34.833163Z",
     "shell.execute_reply.started": "2025-05-18T16:11:34.800515Z"
    },
    "tags": []
   },
   "outputs": [
    {
     "data": {
      "text/plain": [
       "torch.Size([7392, 50430])"
      ]
     },
     "execution_count": 80,
     "metadata": {},
     "output_type": "execute_result"
    }
   ],
   "source": [
    "X_tensor.shape"
   ]
  },
  {
   "cell_type": "code",
   "execution_count": 81,
   "id": "18515f59-21a6-45e6-98c9-9a9047984711",
   "metadata": {
    "execution": {
     "iopub.execute_input": "2025-05-18T16:11:38.339631Z",
     "iopub.status.busy": "2025-05-18T16:11:38.338739Z",
     "iopub.status.idle": "2025-05-18T16:11:38.375720Z",
     "shell.execute_reply": "2025-05-18T16:11:38.375018Z",
     "shell.execute_reply.started": "2025-05-18T16:11:38.339592Z"
    },
    "tags": []
   },
   "outputs": [],
   "source": [
    "test_dataset=test_Dataset(X_tensor)\n",
    "test_loader = DataLoader(test_dataset, batch_size=32, shuffle=False)\n"
   ]
  },
  {
   "cell_type": "code",
   "execution_count": 82,
   "id": "d670bef1-d260-4a34-94b4-ce373ba49d28",
   "metadata": {
    "execution": {
     "iopub.execute_input": "2025-05-18T16:11:40.631901Z",
     "iopub.status.busy": "2025-05-18T16:11:40.630972Z",
     "iopub.status.idle": "2025-05-18T16:11:41.525627Z",
     "shell.execute_reply": "2025-05-18T16:11:41.524794Z",
     "shell.execute_reply.started": "2025-05-18T16:11:40.631861Z"
    },
    "tags": []
   },
   "outputs": [
    {
     "name": "stdout",
     "output_type": "stream",
     "text": [
      "7392\n"
     ]
    }
   ],
   "source": [
    "model.eval()\n",
    "test_predictions = []\n",
    "for inputs in test_loader:\n",
    "    inputs=inputs.to(device)\n",
    "    with torch.no_grad():\n",
    "        outputs=model(inputs)\n",
    "        preds=torch.sigmoid(outputs)\n",
    "        preds = (preds >= 0.5).float()\n",
    "        test_predictions.extend(preds.cpu().numpy().tolist())\n",
    "print(len(test_predictions))      \n",
    "#df = pd.DataFrame(test_predictions, columns=['pred'])\n",
    "#tags=pd.read_csv('conent2/sample_submission.csv')\n",
    "#tags['target']=df.pred\n",
    "#tags.to_csv('end_best_guseva.csv', index=False) "
   ]
  },
  {
   "cell_type": "code",
   "execution_count": 83,
   "id": "0baef5f6-f867-4967-a661-e1af7432e528",
   "metadata": {
    "execution": {
     "iopub.execute_input": "2025-05-18T16:11:44.967056Z",
     "iopub.status.busy": "2025-05-18T16:11:44.966159Z",
     "iopub.status.idle": "2025-05-18T16:11:44.996689Z",
     "shell.execute_reply": "2025-05-18T16:11:44.995956Z",
     "shell.execute_reply.started": "2025-05-18T16:11:44.967017Z"
    },
    "tags": []
   },
   "outputs": [],
   "source": [
    "tags=pd.read_csv('/home/jupyter/datasphere/project/content2/sample_submission.csv')"
   ]
  },
  {
   "cell_type": "code",
   "execution_count": 84,
   "id": "85a62a55-a016-4e7e-bd7c-064fad7a0831",
   "metadata": {
    "execution": {
     "iopub.execute_input": "2025-05-18T16:11:45.924711Z",
     "iopub.status.busy": "2025-05-18T16:11:45.923688Z",
     "iopub.status.idle": "2025-05-18T16:11:45.977979Z",
     "shell.execute_reply": "2025-05-18T16:11:45.977220Z",
     "shell.execute_reply.started": "2025-05-18T16:11:45.924677Z"
    },
    "tags": []
   },
   "outputs": [],
   "source": [
    "tags=pd.read_csv('/home/jupyter/datasphere/project/content2/sample_submission.csv')\n",
    "tags['labels']=[' '.join(map(str, map(int, i))) for i in test_predictions]\n",
    "tags.to_csv('nlp_tf_idf_2.csv', index=False) "
   ]
  },
  {
   "cell_type": "code",
   "execution_count": 85,
   "id": "0b3a4ddb-855b-4cce-a24d-7fb077338722",
   "metadata": {
    "execution": {
     "iopub.execute_input": "2025-05-18T16:11:46.964413Z",
     "iopub.status.busy": "2025-05-18T16:11:46.963444Z",
     "iopub.status.idle": "2025-05-18T16:11:47.002252Z",
     "shell.execute_reply": "2025-05-18T16:11:47.001389Z",
     "shell.execute_reply.started": "2025-05-18T16:11:46.964380Z"
    },
    "tags": []
   },
   "outputs": [
    {
     "data": {
      "text/html": [
       "<div>\n",
       "<style scoped>\n",
       "    .dataframe tbody tr th:only-of-type {\n",
       "        vertical-align: middle;\n",
       "    }\n",
       "\n",
       "    .dataframe tbody tr th {\n",
       "        vertical-align: top;\n",
       "    }\n",
       "\n",
       "    .dataframe thead th {\n",
       "        text-align: right;\n",
       "    }\n",
       "</style>\n",
       "<table border=\"1\" class=\"dataframe\">\n",
       "  <thead>\n",
       "    <tr style=\"text-align: right;\">\n",
       "      <th></th>\n",
       "      <th>id</th>\n",
       "      <th>labels</th>\n",
       "    </tr>\n",
       "  </thead>\n",
       "  <tbody>\n",
       "    <tr>\n",
       "      <th>0</th>\n",
       "      <td>29568</td>\n",
       "      <td>1 1 0 0 1 0 0 1 1 1 0 1 1 1 0 1 1 1 1 0</td>\n",
       "    </tr>\n",
       "    <tr>\n",
       "      <th>1</th>\n",
       "      <td>29569</td>\n",
       "      <td>0 0 0 0 0 0 0 0 0 0 0 0 0 1 0 1 1 0 0 1</td>\n",
       "    </tr>\n",
       "    <tr>\n",
       "      <th>2</th>\n",
       "      <td>29570</td>\n",
       "      <td>0 1 0 0 1 0 0 1 0 1 0 0 1 1 1 0 1 1 1 0</td>\n",
       "    </tr>\n",
       "    <tr>\n",
       "      <th>3</th>\n",
       "      <td>29571</td>\n",
       "      <td>0 0 0 0 0 0 0 1 1 1 0 0 1 1 1 0 1 0 1 0</td>\n",
       "    </tr>\n",
       "    <tr>\n",
       "      <th>4</th>\n",
       "      <td>29572</td>\n",
       "      <td>1 0 0 0 1 0 0 0 1 0 0 0 1 1 1 1 1 0 0 1</td>\n",
       "    </tr>\n",
       "  </tbody>\n",
       "</table>\n",
       "</div>"
      ],
      "text/plain": [
       "      id                                   labels\n",
       "0  29568  1 1 0 0 1 0 0 1 1 1 0 1 1 1 0 1 1 1 1 0\n",
       "1  29569  0 0 0 0 0 0 0 0 0 0 0 0 0 1 0 1 1 0 0 1\n",
       "2  29570  0 1 0 0 1 0 0 1 0 1 0 0 1 1 1 0 1 1 1 0\n",
       "3  29571  0 0 0 0 0 0 0 1 1 1 0 0 1 1 1 0 1 0 1 0\n",
       "4  29572  1 0 0 0 1 0 0 0 1 0 0 0 1 1 1 1 1 0 0 1"
      ]
     },
     "execution_count": 85,
     "metadata": {},
     "output_type": "execute_result"
    }
   ],
   "source": [
    "tags.head()"
   ]
  },
  {
   "cell_type": "code",
   "execution_count": 86,
   "id": "794877c8-7d4b-4d75-9a59-8f9fd5a0fbc6",
   "metadata": {
    "execution": {
     "iopub.execute_input": "2025-05-18T16:11:52.673627Z",
     "iopub.status.busy": "2025-05-18T16:11:52.672643Z",
     "iopub.status.idle": "2025-05-18T16:11:52.710904Z",
     "shell.execute_reply": "2025-05-18T16:11:52.710069Z",
     "shell.execute_reply.started": "2025-05-18T16:11:52.673588Z"
    },
    "tags": []
   },
   "outputs": [],
   "source": [
    "tags.to_csv('nlp_tf_idf_2.csv', index=False) "
   ]
  },
  {
   "cell_type": "code",
   "execution_count": 365,
   "id": "0d20c26b-4feb-4894-8f70-cdb78f8c56ce",
   "metadata": {
    "execution": {
     "iopub.execute_input": "2025-05-16T16:56:23.848287Z",
     "iopub.status.busy": "2025-05-16T16:56:23.847216Z",
     "iopub.status.idle": "2025-05-16T16:56:24.579651Z",
     "shell.execute_reply": "2025-05-16T16:56:24.578822Z",
     "shell.execute_reply.started": "2025-05-16T16:56:23.848244Z"
    },
    "tags": []
   },
   "outputs": [],
   "source": [
    "for inputs in test_loader:\n",
    "    inputs=inputs.to(device)\n",
    "    with torch.no_grad():\n",
    "        outputs=model(inputs)\n",
    "        preds=torch.sigmoid(outputs)\n",
    "        preds = (preds >= 0.5).float()"
   ]
  },
  {
   "cell_type": "code",
   "execution_count": 301,
   "id": "9ee3fb09-d3da-4135-80af-a02ecc0a0b63",
   "metadata": {
    "execution": {
     "iopub.execute_input": "2025-05-16T16:08:57.006266Z",
     "iopub.status.busy": "2025-05-16T16:08:57.005306Z",
     "iopub.status.idle": "2025-05-16T16:08:57.021362Z",
     "shell.execute_reply": "2025-05-16T16:08:57.020709Z",
     "shell.execute_reply.started": "2025-05-16T16:08:57.006229Z"
    }
   },
   "outputs": [
    {
     "data": {
      "text/plain": [
       "50694"
      ]
     },
     "execution_count": 301,
     "metadata": {},
     "output_type": "execute_result"
    }
   ],
   "source": [
    "X_tensor.shape[1]"
   ]
  },
  {
   "cell_type": "code",
   "execution_count": null,
   "id": "28d9855c-59da-4a14-a721-75e2cd02be32",
   "metadata": {},
   "outputs": [],
   "source": []
  },
  {
   "cell_type": "code",
   "execution_count": null,
   "id": "4177e312-102e-4d87-8d34-c8509bb759c7",
   "metadata": {},
   "outputs": [],
   "source": []
  },
  {
   "cell_type": "code",
   "execution_count": null,
   "id": "325d89e2-c357-45a9-b9f4-f178514a785f",
   "metadata": {},
   "outputs": [],
   "source": []
  },
  {
   "cell_type": "code",
   "execution_count": null,
   "id": "e2afeb39-ec25-4c9a-acff-a6f859edcbfc",
   "metadata": {},
   "outputs": [],
   "source": []
  },
  {
   "cell_type": "code",
   "execution_count": null,
   "id": "774a4f50-b7c4-4814-b001-49fa3d57de2d",
   "metadata": {},
   "outputs": [],
   "source": []
  },
  {
   "cell_type": "markdown",
   "id": "6ef51317-6723-4178-bab3-10700c8031ea",
   "metadata": {
    "tags": []
   },
   "source": [
    "### 2. W2V + любая нейронная сеть: способы очистки\n",
    "\n",
    "в целом тут по способам очистки ничего особо-то и не меняется единственное, что попробуем оставить пунктуацию мб это как-то повлияет на сохранение контекста и тут вопрос с англ словами тоже остается, тк все-таки они наверное не очень сильно влияют на контекст \n",
    "\n",
    "энивэй чекнем и с англ и без англ слов "
   ]
  },
  {
   "cell_type": "code",
   "execution_count": 92,
   "id": "6f2a9f0d-7ae8-441b-bc80-ca3ff1704e2e",
   "metadata": {
    "execution": {
     "iopub.execute_input": "2025-05-17T14:28:37.943443Z",
     "iopub.status.busy": "2025-05-17T14:28:37.942499Z",
     "iopub.status.idle": "2025-05-17T14:28:37.953301Z",
     "shell.execute_reply": "2025-05-17T14:28:37.952595Z",
     "shell.execute_reply.started": "2025-05-17T14:28:37.943403Z"
    },
    "tags": []
   },
   "outputs": [],
   "source": [
    "def w2v_rus(text, method='lemmer'):\n",
    "    text = text.lower()\n",
    "    text = re.sub(r'[^а-яё\\s\\,-]', '', text)\n",
    "    text = re.sub(r'-',' ',text)\n",
    "    tokens = text.split()\n",
    "    if method == 'lemmer':\n",
    "        tokens = [lemmer_rus.parse(token)[0].normal_form for token in tokens]\n",
    "    elif method == 'stemmer':\n",
    "        tokens = [stemmer_rus.stem(token) for token in tokens]\n",
    "    tokens = [token for token in tokens if token not in stop_words_rus and len(token) > 2]\n",
    "    return ' '.join(tokens)"
   ]
  },
  {
   "cell_type": "code",
   "execution_count": 311,
   "id": "203912fd-9b5d-48f4-8bc4-54bbdf4f8842",
   "metadata": {
    "execution": {
     "iopub.execute_input": "2025-05-17T16:41:18.346972Z",
     "iopub.status.busy": "2025-05-17T16:41:18.346379Z",
     "iopub.status.idle": "2025-05-17T16:41:18.356160Z",
     "shell.execute_reply": "2025-05-17T16:41:18.355570Z",
     "shell.execute_reply.started": "2025-05-17T16:41:18.346948Z"
    },
    "tags": []
   },
   "outputs": [],
   "source": [
    "def w2v(text):\n",
    "    \n",
    "    text = text.lower()\n",
    "    text = re.sub(r'https?://\\S+|www\\.\\S+', '', text) #удаляем ссылки \n",
    "    text = re.sub(r'@\\S+', '', text) #удаляем теги почт и тг\n",
    "    text = re.sub(r'[^a-zA-Zа-яА-ЯёЁ\\s-]', '', text)  #убираем все кроме рус/англ букв и - \n",
    "    text = re.sub(r'-',' ',text) #были слова по типу перфоманс-инсталляция сделали так чтобы убрать - \n",
    "    \n",
    "    tokens = text.split()\n",
    "    #для русского лемматизация для английского стемминг\n",
    "    tokens = [lemmer_rus.parse(token)[0].normal_form if re.search('[а-яё]', token) else stemmer_eng.stem(token) for token in tokens]\n",
    "    \n",
    "    tokens = [token for token in tokens if token not in (stop_words_eng and stop_words_rus) and len(token) > 2]\n",
    "    return ' '.join(tokens)"
   ]
  },
  {
   "cell_type": "code",
   "execution_count": 312,
   "id": "c1a17ae6-2d54-4fd9-846b-d67ef0da8cee",
   "metadata": {
    "execution": {
     "iopub.execute_input": "2025-05-17T16:41:18.357754Z",
     "iopub.status.busy": "2025-05-17T16:41:18.357048Z",
     "iopub.status.idle": "2025-05-17T16:48:16.826287Z",
     "shell.execute_reply": "2025-05-17T16:48:16.825611Z",
     "shell.execute_reply.started": "2025-05-17T16:41:18.357723Z"
    },
    "tags": []
   },
   "outputs": [],
   "source": [
    "df['clean_text_w2v']= df.text.apply(lambda x: w2v(x))"
   ]
  },
  {
   "cell_type": "code",
   "execution_count": 313,
   "id": "afff0766-3652-4b6e-92d4-5592dd81a72d",
   "metadata": {
    "execution": {
     "iopub.execute_input": "2025-05-17T16:48:16.828379Z",
     "iopub.status.busy": "2025-05-17T16:48:16.827901Z",
     "iopub.status.idle": "2025-05-17T16:48:16.839546Z",
     "shell.execute_reply": "2025-05-17T16:48:16.838952Z",
     "shell.execute_reply.started": "2025-05-17T16:48:16.828356Z"
    },
    "tags": []
   },
   "outputs": [
    {
     "data": {
      "text/plain": [
       "29568"
      ]
     },
     "execution_count": 313,
     "metadata": {},
     "output_type": "execute_result"
    }
   ],
   "source": [
    "len(df.clean_text_w2v)"
   ]
  },
  {
   "cell_type": "markdown",
   "id": "dc7c8685-77cc-4e56-88e9-ae554dbb1f9b",
   "metadata": {},
   "source": [
    "Блок на удаление часто/редко встречающихся слов во всем наборе тренировачного набора (пока что без деления на train/val) при этом редкие/частые слова взяты только из 70% датасета"
   ]
  },
  {
   "cell_type": "code",
   "execution_count": 314,
   "id": "e561c504-0b2e-4851-8382-f8dfe80da438",
   "metadata": {
    "execution": {
     "iopub.execute_input": "2025-05-17T16:48:16.841154Z",
     "iopub.status.busy": "2025-05-17T16:48:16.840607Z",
     "iopub.status.idle": "2025-05-17T16:48:19.208163Z",
     "shell.execute_reply": "2025-05-17T16:48:19.207510Z",
     "shell.execute_reply.started": "2025-05-17T16:48:16.841123Z"
    },
    "tags": []
   },
   "outputs": [
    {
     "name": "stdout",
     "output_type": "stream",
     "text": [
      "20697\n"
     ]
    },
    {
     "data": {
      "text/plain": [
       "29568"
      ]
     },
     "execution_count": 314,
     "metadata": {},
     "output_type": "execute_result"
    }
   ],
   "source": [
    "df_drop=df.clean_text_w2v[:int(len(df)*0.7)]\n",
    "print(len(df_drop))\n",
    "\n",
    "doc_counts = defaultdict(int)\n",
    "n_docs = len(df_drop) \n",
    "for doc in df_drop: #документ/строка \n",
    "    for word in set(doc.split()): #слово\n",
    "            doc_counts[word] += 1\n",
    "freq_words = {w for w, cnt in doc_counts.items() if cnt >= n_docs/5}\n",
    "rare_words = {w for w, cnt in doc_counts.items() if cnt <= 10}\n",
    "drop_words = freq_words.union(rare_words)\n",
    "\n",
    "def filter_tokens(doc):\n",
    "    return [w for w in doc if w not in drop_words]\n",
    "\n",
    "full_text = [filter_tokens(doc) for doc in df.clean_text_w2v ] #убрали редко встречающиеся слова \n",
    "full_text = [''.join(doc) for doc in full_text]\n",
    "len(full_text)"
   ]
  },
  {
   "cell_type": "code",
   "execution_count": 315,
   "id": "595b6224-4ce5-4b7b-8cdf-c1a9baa54bf4",
   "metadata": {
    "execution": {
     "iopub.execute_input": "2025-05-17T16:48:19.209489Z",
     "iopub.status.busy": "2025-05-17T16:48:19.208945Z",
     "iopub.status.idle": "2025-05-17T16:48:19.287047Z",
     "shell.execute_reply": "2025-05-17T16:48:19.286351Z",
     "shell.execute_reply.started": "2025-05-17T16:48:19.209464Z"
    }
   },
   "outputs": [],
   "source": [
    "labels_tensor=torch.FloatTensor(np.array([np.fromstring(row, dtype=int, sep=' ') for row in df['labels'].values]))"
   ]
  },
  {
   "cell_type": "code",
   "execution_count": 316,
   "id": "1874455e-bcf3-4cd6-a351-7ae44221fe19",
   "metadata": {
    "execution": {
     "iopub.execute_input": "2025-05-17T16:48:19.288944Z",
     "iopub.status.busy": "2025-05-17T16:48:19.288005Z",
     "iopub.status.idle": "2025-05-17T16:48:19.693492Z",
     "shell.execute_reply": "2025-05-17T16:48:19.692759Z",
     "shell.execute_reply.started": "2025-05-17T16:48:19.288909Z"
    },
    "tags": []
   },
   "outputs": [
    {
     "data": {
      "image/png": "[encoded data removed]",
      "text/plain": [
       "<Figure size 640x480 with 1 Axes>"
      ]
     },
     "metadata": {},
     "output_type": "display_data"
    }
   ],
   "source": [
    "len_texts=[]\n",
    "for i in range(len(full_text)):\n",
    "    len_texts.append(len(full_text[i].split()))\n",
    "plt.hist(len_texts)\n",
    "plt.title('длина очищенных текстов');"
   ]
  },
  {
   "cell_type": "markdown",
   "id": "75c723f5-374a-4ce9-9717-d53a41ca2609",
   "metadata": {},
   "source": [
    "медианное значение по длине текстов (очищенных) около 50, так что от каждой рекламы берем что-то около 60-70 слов; окно сначала возьмем 10, потом мб можно попытаться его увеличть (уменьшать думаю не стоит)"
   ]
  },
  {
   "cell_type": "code",
   "execution_count": 317,
   "id": "fb0b46f2-acf1-401c-b541-b628359b722b",
   "metadata": {
    "execution": {
     "iopub.execute_input": "2025-05-17T16:50:06.947979Z",
     "iopub.status.busy": "2025-05-17T16:50:06.947003Z",
     "iopub.status.idle": "2025-05-17T16:50:14.192025Z",
     "shell.execute_reply": "2025-05-17T16:50:14.191264Z",
     "shell.execute_reply.started": "2025-05-17T16:50:06.947939Z"
    },
    "tags": []
   },
   "outputs": [],
   "source": [
    "#взяли первые 70% датасета и разбили предложения на слова-токены по ним обучили w2v\n",
    "train_sent = full_text[:int(len(full_text)*0.7)]\n",
    "train_sent=[i.split() for i in train_sent]\n",
    "w2v_model = Word2Vec(sentences=train_sent, vector_size=100, window=12,\n",
    "                     min_count=1, workers=4, epochs=10)"
   ]
  },
  {
   "cell_type": "code",
   "execution_count": 322,
   "id": "05175729-847e-431d-a4ee-4c87201cb419",
   "metadata": {
    "execution": {
     "iopub.execute_input": "2025-05-17T16:51:32.881264Z",
     "iopub.status.busy": "2025-05-17T16:51:32.880330Z",
     "iopub.status.idle": "2025-05-17T16:51:32.898389Z",
     "shell.execute_reply": "2025-05-17T16:51:32.897711Z",
     "shell.execute_reply.started": "2025-05-17T16:51:32.881222Z"
    },
    "tags": []
   },
   "outputs": [],
   "source": [
    "class My_Dataset_w2v(Dataset):\n",
    "    def __init__(self, text, label, w2v_model,split='train',max_len=70):\n",
    "        n=len(text)\n",
    "        self.split=split\n",
    "        self.w2v=w2v_model\n",
    "        self.max_len=max_len\n",
    "        self.emb_dim = w2v_model.vector_size\n",
    "        \n",
    "        if self.split == 'train':\n",
    "            self.text=text[:int(n*0.7)]\n",
    "            self.label=label[:int(n*0.7)]\n",
    "        elif self.split == 'val':\n",
    "            self.text=text[int(n*0.7):]\n",
    "            self.label=label[int(n*0.7):]\n",
    "        else:\n",
    "            self.text=text\n",
    "            self.label=label\n",
    "                \n",
    "    def __len__(self):\n",
    "        return len(self.text)  \n",
    "\n",
    "    def __getitem__(self, idx):\n",
    "        doc = self.text[idx].split()\n",
    "        seq = [self.w2v.wv[w] if w in self.w2v.wv else np.zeros(self.emb_dim) for w in doc][:self.max_len]\n",
    "        if len(seq) < self.max_len:\n",
    "            seq = seq + [np.zeros(self.emb_dim)] * (self.max_len - len(seq))\n",
    "        doc_tensor = torch.FloatTensor(np.array(seq))  \n",
    "        return doc_tensor, self.label[idx]"
   ]
  },
  {
   "cell_type": "code",
   "execution_count": 323,
   "id": "0abb5b55-cefd-4cba-be35-8fd599348da7",
   "metadata": {
    "execution": {
     "iopub.execute_input": "2025-05-17T16:51:33.604660Z",
     "iopub.status.busy": "2025-05-17T16:51:33.603792Z",
     "iopub.status.idle": "2025-05-17T16:51:33.621523Z",
     "shell.execute_reply": "2025-05-17T16:51:33.620876Z",
     "shell.execute_reply.started": "2025-05-17T16:51:33.604631Z"
    },
    "tags": []
   },
   "outputs": [],
   "source": [
    "train_dataset=My_Dataset_w2v(full_text,labels_tensor,w2v_model,split='train',max_len=70)\n",
    "val_dataset=My_Dataset_w2v(full_text,labels_tensor,w2v_model,split='val',max_len=70)\n",
    "\n",
    "train_loader = DataLoader(train_dataset, batch_size=32, shuffle=True)\n",
    "val_loader = DataLoader(val_dataset, batch_size=32, shuffle=False)"
   ]
  },
  {
   "cell_type": "code",
   "execution_count": 324,
   "id": "666bdc0c-40f2-4cb6-85d6-c0f3f2eb4d53",
   "metadata": {
    "execution": {
     "iopub.execute_input": "2025-05-17T16:51:35.534055Z",
     "iopub.status.busy": "2025-05-17T16:51:35.533235Z",
     "iopub.status.idle": "2025-05-17T16:51:35.549480Z",
     "shell.execute_reply": "2025-05-17T16:51:35.548860Z",
     "shell.execute_reply.started": "2025-05-17T16:51:35.534026Z"
    },
    "tags": []
   },
   "outputs": [],
   "source": [
    "for i,_ in train_loader:\n",
    "    break"
   ]
  },
  {
   "cell_type": "code",
   "execution_count": 328,
   "id": "86c487be-6dd8-4ecc-8d3f-f14a5f40f57b",
   "metadata": {
    "execution": {
     "iopub.execute_input": "2025-05-17T17:43:33.644677Z",
     "iopub.status.busy": "2025-05-17T17:43:33.643736Z",
     "iopub.status.idle": "2025-05-17T17:43:33.765171Z",
     "shell.execute_reply": "2025-05-17T17:43:33.764407Z",
     "shell.execute_reply.started": "2025-05-17T17:43:33.644638Z"
    },
    "tags": []
   },
   "outputs": [],
   "source": [
    "num_classes = 20\n",
    "emb_dim=w2v_model.vector_size\n",
    "max_len=70\n",
    "\n",
    "model = nn.Sequential(\n",
    "    nn.Flatten(),\n",
    "    nn.Linear(max_len*emb_dim,2048),\n",
    "    nn.BatchNorm1d(2048),\n",
    "    nn.ReLU(),\n",
    "    nn.Dropout(p=0.7),\n",
    "    \n",
    "    nn.Linear(2048,1024),\n",
    "    nn.BatchNorm1d(1024),\n",
    "    nn.LeakyReLU(0.2),\n",
    "    nn.Dropout(p=0.7),\n",
    "    \n",
    "    nn.Linear(1024,512),\n",
    "    nn.LeakyReLU(),\n",
    "    nn.Dropout(p=0.7),\n",
    "    nn.Linear(512,num_classes)\n",
    ")\n",
    "device = torch.device(\"cuda\" if torch.cuda.is_available() else \"cpu\")\n",
    "model = model.to(device)"
   ]
  },
  {
   "cell_type": "code",
   "execution_count": 330,
   "id": "5cd7f8e9-44d3-4603-8f4d-aaa54f488b8f",
   "metadata": {
    "execution": {
     "iopub.execute_input": "2025-05-17T17:46:13.917701Z",
     "iopub.status.busy": "2025-05-17T17:46:13.916712Z",
     "iopub.status.idle": "2025-05-17T17:48:21.329449Z",
     "shell.execute_reply": "2025-05-17T17:48:21.328778Z",
     "shell.execute_reply.started": "2025-05-17T17:46:13.917669Z"
    },
    "tags": []
   },
   "outputs": [
    {
     "data": {
      "image/png": "[encoded data removed]",
      "text/plain": [
       "<Figure size 1200x500 with 2 Axes>"
      ]
     },
     "metadata": {},
     "output_type": "display_data"
    },
    {
     "name": "stderr",
     "output_type": "stream",
     "text": [
      "100%|██████████| 15/15 [02:07<00:00,  8.49s/it]"
     ]
    },
    {
     "name": "stdout",
     "output_type": "stream",
     "text": [
      "Epoch 15/15 | LR: 0.001000 | Train Loss: 0.2622, Train f1: 0.74 | Val Loss: 0.2451, Val f1: 0.75\n",
      "EarlyStopping counter: 1 out of 3\n"
     ]
    },
    {
     "name": "stderr",
     "output_type": "stream",
     "text": [
      "\n"
     ]
    }
   ],
   "source": [
    "train_losses, val_losses = [], []\n",
    "train_accuracies, val_accuracies = [], []\n",
    "\n",
    "metric = MultilabelF1Score(num_labels=20)  \n",
    "criterion = nn.BCEWithLogitsLoss()\n",
    "optimizer = optim.Adam(model.parameters(), lr=0.001) \n",
    "scheduler = optim.lr_scheduler.StepLR(optimizer, step_size=2, gamma=0.5)\n",
    "\n",
    "early_stopping_optimizer_switch = EarlyStopping(patience=2, verbose=True)\n",
    "early_stopping_loss_switch = EarlyStopping(patience=2, verbose=True)\n",
    "\n",
    "warmup_epochs = 2\n",
    "base_lr = 0.01\n",
    "loss_switched = False\n",
    "optimizer_switched = False\n",
    "num_epochs=15\n",
    "\n",
    "for epoch in tqdm(range(num_epochs)):\n",
    "    model.train()\n",
    "    running_loss, correct, total = 0.0, 0, 0\n",
    "    \n",
    "    if epoch < warmup_epochs:\n",
    "         optimizer = warmup_lr_scheduler(optimizer, epoch, warmup_epochs, base_lr, warmup_lr_start=1e-5)\n",
    "    else:  \n",
    "         scheduler.step()\n",
    "        \n",
    "    all_preds_train = []\n",
    "    all_labels_train = []\n",
    "    \n",
    "    for inputs, targets in train_loader:\n",
    "        inputs = inputs.to(device)\n",
    "        targets= targets.to(device)\n",
    "        optimizer.zero_grad()\n",
    "        outputs = model(inputs)\n",
    "        loss = criterion(outputs, targets)\n",
    "        loss.backward()\n",
    "        optimizer.step()\n",
    "\n",
    "        running_loss += loss.item() * inputs.size(0)\n",
    "        predicted =  torch.sigmoid(outputs)\n",
    "        \n",
    "        all_preds_train.append(predicted.cpu())\n",
    "        all_labels_train.append(targets.cpu())\n",
    "\n",
    "    all_preds_train = torch.cat(all_preds_train, dim=0)\n",
    "    all_labels_train = torch.cat(all_labels_train, dim=0)\n",
    "    \n",
    "    train_loss = running_loss / len(train_loader.dataset)\n",
    "    train_acc =  metric(all_preds_train,all_labels_train)\n",
    "    \n",
    "    all_preds_val = []\n",
    "    all_labels_val = []\n",
    "    \n",
    "    model.eval()\n",
    "    running_val_loss, correct, total = 0.0, 0, 0\n",
    "    with torch.no_grad():\n",
    "        for inputs, targets in val_loader:\n",
    "            inputs, targets = inputs.to(device), targets.to(device)\n",
    "            outputs = model(inputs)\n",
    "            loss = criterion(outputs, targets)\n",
    "            running_val_loss += loss.item() * inputs.size(0)\n",
    "            predicted = torch.sigmoid(outputs).to(device)\n",
    "\n",
    "            all_preds_val.append(predicted.cpu())\n",
    "            all_labels_val.append(targets.cpu())\n",
    "            \n",
    "    all_preds_val = torch.cat(all_preds_val, dim=0)\n",
    "    all_labels_val = torch.cat(all_labels_val, dim=0)   \n",
    "    \n",
    "    val_loss = running_val_loss / len(val_loader.dataset)\n",
    "    val_acc = metric(all_preds_val,all_labels_val)\n",
    "\n",
    "    train_losses.append(train_loss)\n",
    "    val_losses.append(val_loss)\n",
    "    train_accuracies.append(train_acc.cpu().item())\n",
    "    val_accuracies.append(val_acc.cpu().item())\n",
    "\n",
    "    clear_output(wait=True)\n",
    "    plt.figure(figsize=(12,5))\n",
    "    plt.subplot(1,2,1)\n",
    "    plt.plot(range(1, len(train_losses)+1), train_losses, label=\"Train Loss\")\n",
    "    plt.plot(range(1, len(val_losses)+1), val_losses, label=\"Validation Loss\")\n",
    "    plt.xlabel(\"Epoch\")\n",
    "    plt.ylabel(\"Loss\")\n",
    "    plt.title(\"Loss over Epochs\")\n",
    "    plt.legend()\n",
    "    \n",
    "    plt.subplot(1,2,2)\n",
    "    plt.plot(range(1, len(train_accuracies)+1), train_accuracies, label=\"Train f1\")\n",
    "    plt.plot(range(1, len(val_accuracies)+1), val_accuracies, label=\"Validation f1\")\n",
    "    plt.xlabel(\"Epoch\")\n",
    "    plt.ylabel(\"F1\")\n",
    "    plt.title(\"F1 over Epochs\")\n",
    "    plt.legend()\n",
    "    plt.show()\n",
    "    print(f\"Epoch {epoch+1}/{num_epochs} | LR: {optimizer.param_groups[0]['lr']:.6f} | Train Loss: {train_loss:.4f}, Train f1: {train_acc:.2f} | Val Loss: {val_loss:.4f}, Val f1: {val_acc:.2f}\")\n",
    "\n",
    "    early_stopping_optimizer_switch(val_loss, model)\n",
    "    if early_stopping_optimizer_switch.early_stop and not optimizer_switched:\n",
    "        print(\"No improvement after loss switch. Switching optimizer to Adam.\")\n",
    "        optimizer = optim.SGD(model.parameters(), lr=0.001, momentum=0.9, weight_decay=0.0001)\n",
    "        base_lr = 0.001\n",
    "        optimizer_switched = True\n",
    "        early_stopping_optimizer_switch = EarlyStopping(patience=3, verbose=True)"
   ]
  },
  {
   "cell_type": "markdown",
   "id": "1a123745-e91b-4839-909b-efb4cf3f228e",
   "metadata": {},
   "source": [
    "Такое себе получается, едтинственное, что радует это отсутсвие переобучения (сильного) как было с tf-idf и то скорее всего это из-за dopout в 0.7 те навесили сильную регуляризацию\n"
   ]
  },
  {
   "cell_type": "code",
   "execution_count": null,
   "id": "22170222-7619-4fd3-9cc7-dc6db9cf8917",
   "metadata": {},
   "outputs": [],
   "source": []
  },
  {
   "cell_type": "markdown",
   "id": "4355be93-4f0f-4886-8901-346262311add",
   "metadata": {
    "tags": []
   },
   "source": [
    "### 3.Встроенный эмбеддинг в нейросетевое решение на свёрточных сетях\n",
    "\n",
    "Как обычно: пунктуация, стоп-слова и любая символьная/численная чушь в мусор, оставляем рус слова и навешиваем на них лемматизацию (с англом еще надо подумать он не нёс особого улучшения на предыдущих двух пунктах) "
   ]
  },
  {
   "cell_type": "code",
   "execution_count": 334,
   "id": "32361e6a-01c5-4e90-ae7a-b9aeed7e8d4b",
   "metadata": {
    "execution": {
     "iopub.execute_input": "2025-05-17T18:05:48.129609Z",
     "iopub.status.busy": "2025-05-17T18:05:48.128685Z",
     "iopub.status.idle": "2025-05-17T18:05:51.628280Z",
     "shell.execute_reply": "2025-05-17T18:05:51.627604Z",
     "shell.execute_reply.started": "2025-05-17T18:05:48.129569Z"
    }
   },
   "outputs": [
    {
     "name": "stderr",
     "output_type": "stream",
     "text": [
      "[nltk_data] Downloading package punkt to /home/jupyter/nltk_data...\n",
      "[nltk_data]   Unzipping tokenizers/punkt.zip.\n"
     ]
    },
    {
     "data": {
      "text/plain": [
       "True"
      ]
     },
     "execution_count": 334,
     "metadata": {},
     "output_type": "execute_result"
    }
   ],
   "source": [
    "nltk.download('punkt')"
   ]
  },
  {
   "cell_type": "code",
   "execution_count": 375,
   "id": "e3d4d052-8735-4625-9f21-858e78ea7cd9",
   "metadata": {
    "execution": {
     "iopub.execute_input": "2025-05-17T19:10:49.262888Z",
     "iopub.status.busy": "2025-05-17T19:10:49.261586Z",
     "iopub.status.idle": "2025-05-17T19:10:49.277124Z",
     "shell.execute_reply": "2025-05-17T19:10:49.276335Z",
     "shell.execute_reply.started": "2025-05-17T19:10:49.262787Z"
    },
    "tags": []
   },
   "outputs": [],
   "source": [
    "def cnn_rus(text, method='lemmer'):\n",
    "    text = text.lower()\n",
    "    text = re.sub(r'[^а-яё\\s-]', '', text)\n",
    "    text = re.sub(r'-',' ',text)\n",
    "    tokens = text.split()\n",
    "    if method == 'lemmer':\n",
    "        tokens = [lemmer_rus.parse(token)[0].normal_form for token in tokens]\n",
    "    elif method == 'stemmer':\n",
    "        tokens = [stemmer_rus.stem(token) for token in tokens]\n",
    "    tokens = [token for token in tokens if token not in stop_words_rus and len(token) > 2]\n",
    "    return ' '.join(tokens)"
   ]
  },
  {
   "cell_type": "code",
   "execution_count": 376,
   "id": "4374c057-1455-4134-b80c-24a3bf18cfa1",
   "metadata": {
    "execution": {
     "iopub.execute_input": "2025-05-17T19:10:53.423028Z",
     "iopub.status.busy": "2025-05-17T19:10:53.422004Z",
     "iopub.status.idle": "2025-05-17T19:17:40.241648Z",
     "shell.execute_reply": "2025-05-17T19:17:40.240984Z",
     "shell.execute_reply.started": "2025-05-17T19:10:53.422988Z"
    },
    "tags": []
   },
   "outputs": [],
   "source": [
    "df['clean_text_cnn']= df.text.apply(lambda x: cnn_rus(x,'lemmer'))"
   ]
  },
  {
   "cell_type": "code",
   "execution_count": 377,
   "id": "b775036e-1eef-45e3-8882-7a1ecd7441cb",
   "metadata": {
    "execution": {
     "iopub.execute_input": "2025-05-17T19:17:40.243714Z",
     "iopub.status.busy": "2025-05-17T19:17:40.242890Z",
     "iopub.status.idle": "2025-05-17T19:17:40.252705Z",
     "shell.execute_reply": "2025-05-17T19:17:40.252100Z",
     "shell.execute_reply.started": "2025-05-17T19:17:40.243678Z"
    },
    "tags": []
   },
   "outputs": [
    {
     "data": {
      "text/plain": [
       "array(['январь детский развлекательный программа бесплатно кафе отдых запись обязательно',\n",
       "       'август выходной мег мегапарк',\n",
       "       'йокнапатоф постановка театр маяковский билет', ...,\n",
       "       'расписание бесплатный экскурсия октябрь год кисловодск курортный осень кисловодск продолжаться уважаемый житель гость город курорт кисловодск приглашать принять участие бесплатный экскурсия кисловодск октябрь это уникальный возможность узнать большой богатый история культура природный красота наш курорт забыть заранее забронировать место количество участник ограничить предварительный запись телефон управление курорт туризм администрация город курорт кисловодск источник репост приветствоваться октябрячь экскурсия кудапойтикисловодск кмв кисловодск афишакисловодск афишакмть',\n",
       "       'долгожданный концерт надежда кадышева рязань состояться ноябрь песня влюбляться всё возраст наполнить народный мудрость раскрывать широта глубина славянский душа посвящаться светлый добрый чувство земля чувство который заставлять жить творить сердце биться любовь именно всё песня золотой кольцо надежда кадышева становиться абсолютный хит любить настоящий слушать петь всё билет распродать надеждакадышев рязань всеконцерт',\n",
       "       'спектакль победитель фестиваль амурский осень санкт петербург гастроль театральный проект сначала театр театр начало июнь сцена молодёжный театр фонтанка молодёжный театр фонтанка билет ссылка промокод сначалапитер июнь спектакль дикарь дикий комедия испанский пьеса алехандро касон встреча современный мауголь молодой учительница мегаполис июнь июнь спектакль забыть герострата трагикомедия пьеса григорий горин расследование преступление совершенный ради слава признание июнь спектакль поединок музыкальный драма повесть александр куприн честь благородство внутренний сила человек билет скидка'],\n",
       "      dtype=object)"
      ]
     },
     "execution_count": 377,
     "metadata": {},
     "output_type": "execute_result"
    }
   ],
   "source": [
    "df.clean_text_cnn.values"
   ]
  },
  {
   "cell_type": "code",
   "execution_count": 378,
   "id": "038a1c41-f1a9-4ad2-9592-46dfd41ecfc2",
   "metadata": {
    "execution": {
     "iopub.execute_input": "2025-05-17T19:17:40.254063Z",
     "iopub.status.busy": "2025-05-17T19:17:40.253578Z",
     "iopub.status.idle": "2025-05-17T19:17:47.866109Z",
     "shell.execute_reply": "2025-05-17T19:17:47.865470Z",
     "shell.execute_reply.started": "2025-05-17T19:17:40.254033Z"
    },
    "tags": []
   },
   "outputs": [],
   "source": [
    "t = [word_tokenize(sent, language='russian') for sent in df.clean_text_cnn.values]\n",
    "tokens=[]\n",
    "for sent in t:\n",
    "     for word in sent:\n",
    "        tokens.append(word) \n",
    "    \n",
    "vocab = Counter(tokens)\n",
    "vocab = {word: i + 2 for i, (word, _) in enumerate(vocab.most_common())}\n",
    "vocab['<PAD>'] = 0\n",
    "vocab['<UNK>'] = 1\n",
    "\n",
    "inv_vocab = {idx: word for word, idx in vocab.items()}\n",
    "vocab_size = len(vocab)\n",
    "\n",
    "sequences = [vocab.get(word, vocab['<UNK>']) for word in tokens]"
   ]
  },
  {
   "cell_type": "code",
   "execution_count": 379,
   "id": "cd73ed7d-cbcd-448a-bbc1-d093f3f7f1bb",
   "metadata": {
    "execution": {
     "iopub.execute_input": "2025-05-17T19:17:47.868578Z",
     "iopub.status.busy": "2025-05-17T19:17:47.867786Z",
     "iopub.status.idle": "2025-05-17T19:17:47.878604Z",
     "shell.execute_reply": "2025-05-17T19:17:47.878037Z",
     "shell.execute_reply.started": "2025-05-17T19:17:47.868544Z"
    },
    "tags": []
   },
   "outputs": [],
   "source": [
    "class My_Dataset_cnn(Dataset):\n",
    "    def __init__(self, text, label, vocab,split='train',max_len=70):\n",
    "        n=len(text)\n",
    "        self.split=split\n",
    "        self.vocab=vocab\n",
    "        self.max_len=max_len\n",
    "        \n",
    "        if self.split == 'train':\n",
    "            self.text=text[:int(n*0.7)]\n",
    "            self.label=label[:int(n*0.7)]\n",
    "        elif self.split == 'val':\n",
    "            self.text=text[int(n*0.7):]\n",
    "            self.label=label[int(n*0.7):]\n",
    "        else:\n",
    "            self.text=text\n",
    "            self.label=label\n",
    "                \n",
    "    def __len__(self):\n",
    "        return len(self.text)  \n",
    "\n",
    "    def __getitem__(self, idx):\n",
    "        doc = self.text[idx].split()\n",
    "        seq = [self.vocab.get(word, self.vocab['<UNK>']) for word in doc][:self.max_len]\n",
    "        if len(seq) < self.max_len:\n",
    "            seq = seq + [self.vocab['<PAD>']] * (self.max_len - len(doc))\n",
    "        doc_tensor = torch.FloatTensor(np.array(seq))  \n",
    "        return doc_tensor, self.label[idx]"
   ]
  },
  {
   "cell_type": "code",
   "execution_count": 21,
   "id": "1b954d62-201d-478e-b5d8-ce585cf212b5",
   "metadata": {
    "execution": {
     "iopub.execute_input": "2025-05-18T21:53:43.584060Z",
     "iopub.status.busy": "2025-05-18T21:53:43.583113Z",
     "iopub.status.idle": "2025-05-18T21:53:43.657407Z",
     "shell.execute_reply": "2025-05-18T21:53:43.656687Z",
     "shell.execute_reply.started": "2025-05-18T21:53:43.584019Z"
    },
    "tags": []
   },
   "outputs": [],
   "source": [
    "labels_tensor=torch.FloatTensor(np.array([np.fromstring(row, dtype=int, sep=' ') for row in df['labels'].values]))"
   ]
  },
  {
   "cell_type": "code",
   "execution_count": 381,
   "id": "563b70c9-202f-40ff-b277-782773c35bae",
   "metadata": {
    "execution": {
     "iopub.execute_input": "2025-05-17T19:17:47.954200Z",
     "iopub.status.busy": "2025-05-17T19:17:47.953440Z",
     "iopub.status.idle": "2025-05-17T19:17:47.971160Z",
     "shell.execute_reply": "2025-05-17T19:17:47.970523Z",
     "shell.execute_reply.started": "2025-05-17T19:17:47.954174Z"
    },
    "tags": []
   },
   "outputs": [],
   "source": [
    "train_dataset=My_Dataset_cnn(df.clean_text_cnn.values,labels_tensor,vocab,split='train',max_len=70)\n",
    "val_dataset=My_Dataset_cnn(df.clean_text_cnn.values,labels_tensor,vocab,split='val',max_len=70)\n",
    "\n",
    "train_loader = DataLoader(train_dataset, batch_size=32, shuffle=True)\n",
    "val_loader = DataLoader(val_dataset, batch_size=32, shuffle=False)"
   ]
  },
  {
   "cell_type": "code",
   "execution_count": 382,
   "id": "2bf78981-de4a-408b-9d7b-af63d643b332",
   "metadata": {
    "execution": {
     "iopub.execute_input": "2025-05-17T19:17:47.972608Z",
     "iopub.status.busy": "2025-05-17T19:17:47.972112Z",
     "iopub.status.idle": "2025-05-17T19:17:47.982409Z",
     "shell.execute_reply": "2025-05-17T19:17:47.981819Z",
     "shell.execute_reply.started": "2025-05-17T19:17:47.972586Z"
    },
    "tags": []
   },
   "outputs": [],
   "source": [
    "for i,_ in train_loader:\n",
    "    break"
   ]
  },
  {
   "cell_type": "code",
   "execution_count": 383,
   "id": "0a33b377-cbd7-454d-afa9-54893de084be",
   "metadata": {
    "execution": {
     "iopub.execute_input": "2025-05-17T19:17:47.983840Z",
     "iopub.status.busy": "2025-05-17T19:17:47.983231Z",
     "iopub.status.idle": "2025-05-17T19:17:47.994866Z",
     "shell.execute_reply": "2025-05-17T19:17:47.994214Z",
     "shell.execute_reply.started": "2025-05-17T19:17:47.983816Z"
    },
    "tags": []
   },
   "outputs": [
    {
     "data": {
      "text/plain": [
       "tensor([[4.3900e+02, 2.8860e+03, 7.0000e+01,  ..., 0.0000e+00, 0.0000e+00,\n",
       "         0.0000e+00],\n",
       "        [1.9000e+01, 1.3568e+04, 1.8131e+04,  ..., 0.0000e+00, 0.0000e+00,\n",
       "         0.0000e+00],\n",
       "        [3.6840e+03, 6.4170e+03, 1.7770e+03,  ..., 0.0000e+00, 0.0000e+00,\n",
       "         0.0000e+00],\n",
       "        ...,\n",
       "        [8.1870e+03, 4.0200e+02, 2.0320e+03,  ..., 0.0000e+00, 0.0000e+00,\n",
       "         0.0000e+00],\n",
       "        [2.3400e+02, 6.8000e+01, 3.7500e+02,  ..., 0.0000e+00, 0.0000e+00,\n",
       "         0.0000e+00],\n",
       "        [6.0000e+00, 3.9280e+03, 4.2400e+02,  ..., 3.9940e+03, 1.6470e+03,\n",
       "         1.5700e+02]])"
      ]
     },
     "execution_count": 383,
     "metadata": {},
     "output_type": "execute_result"
    }
   ],
   "source": [
    "i"
   ]
  },
  {
   "cell_type": "code",
   "execution_count": 384,
   "id": "c1238a23-6354-4385-a179-4c48ff99d9be",
   "metadata": {
    "execution": {
     "iopub.execute_input": "2025-05-17T19:17:47.996774Z",
     "iopub.status.busy": "2025-05-17T19:17:47.995703Z",
     "iopub.status.idle": "2025-05-17T19:17:48.016036Z",
     "shell.execute_reply": "2025-05-17T19:17:48.015360Z",
     "shell.execute_reply.started": "2025-05-17T19:17:47.996732Z"
    },
    "tags": []
   },
   "outputs": [],
   "source": [
    "class CNN(nn.Module):\n",
    "    def __init__(self, vocab_size, num_classes=20, embed_dim=256):\n",
    "        super().__init__()\n",
    "        self.embedding = nn.Embedding(vocab_size, embed_dim, padding_idx=0)\n",
    "        self.conv1 = nn.Conv1d(embed_dim, 128, kernel_size=3, padding=1)\n",
    "        self.relu = nn.ReLU()\n",
    "        \n",
    "        self.conv2 = nn.Conv1d(128, 128, kernel_size=2, padding=1)\n",
    "        self.relu = nn.ReLU()\n",
    "        \n",
    "        self.pool = nn.AdaptiveMaxPool1d(1)\n",
    "\n",
    "        self.fc1 = nn.Linear(128, 64)\n",
    "        self.relu = nn.ReLU()\n",
    "        self.dropout = nn.Dropout(0.5)\n",
    "        \n",
    "        self.fc2 = nn.Linear(64, num_classes)\n",
    "\n",
    "\n",
    "    def forward(self, x):\n",
    "        x = self.embedding(x).permute(0, 2, 1)\n",
    "        x = self.relu(self.conv1(x))\n",
    "        x = self.relu(self.conv2(x))\n",
    "        \n",
    "        x = self.pool(x).squeeze(-1)\n",
    "        x = self.relu(self.fc1(x))\n",
    "        x = self.dropout(x)\n",
    "        x = self.fc2(x)\n",
    "        return x"
   ]
  },
  {
   "cell_type": "code",
   "execution_count": 385,
   "id": "bee5b885-4151-4e18-948a-47b02a0bb6d3",
   "metadata": {
    "execution": {
     "iopub.execute_input": "2025-05-17T19:17:48.018710Z",
     "iopub.status.busy": "2025-05-17T19:17:48.017995Z",
     "iopub.status.idle": "2025-05-17T19:17:48.096549Z",
     "shell.execute_reply": "2025-05-17T19:17:48.095753Z",
     "shell.execute_reply.started": "2025-05-17T19:17:48.018677Z"
    },
    "tags": []
   },
   "outputs": [],
   "source": [
    "model=CNN(vocab_size)\n",
    "device = torch.device(\"cuda\" if torch.cuda.is_available() else \"cpu\")\n",
    "model = model.to(device)"
   ]
  },
  {
   "cell_type": "code",
   "execution_count": 386,
   "id": "df74bb98-185a-4a27-a22f-a7630d4e0a54",
   "metadata": {
    "execution": {
     "iopub.execute_input": "2025-05-17T19:17:48.098488Z",
     "iopub.status.busy": "2025-05-17T19:17:48.097545Z",
     "iopub.status.idle": "2025-05-17T19:18:59.921156Z",
     "shell.execute_reply": "2025-05-17T19:18:59.920463Z",
     "shell.execute_reply.started": "2025-05-17T19:17:48.098454Z"
    },
    "tags": []
   },
   "outputs": [
    {
     "data": {
      "image/png": "[encoded data removed]",
      "text/plain": [
       "<Figure size 1200x500 with 2 Axes>"
      ]
     },
     "metadata": {},
     "output_type": "display_data"
    },
    {
     "name": "stderr",
     "output_type": "stream",
     "text": [
      "100%|██████████| 15/15 [01:11<00:00,  4.79s/it]"
     ]
    },
    {
     "name": "stdout",
     "output_type": "stream",
     "text": [
      "Epoch 15/15 | LR: 0.001000 | Train Loss: 0.2250, Train f1: 0.75 | Val Loss: 0.2621, Val f1: 0.74\n",
      "EarlyStopping counter: 5 out of 3\n"
     ]
    },
    {
     "name": "stderr",
     "output_type": "stream",
     "text": [
      "\n"
     ]
    }
   ],
   "source": [
    "train_losses, val_losses = [], []\n",
    "train_accuracies, val_accuracies = [], []\n",
    "\n",
    "metric = MultilabelF1Score(num_labels=20)  \n",
    "criterion = nn.BCEWithLogitsLoss()\n",
    "optimizer = optim.Adam(model.parameters(), lr=0.001) \n",
    "scheduler = optim.lr_scheduler.StepLR(optimizer, step_size=2, gamma=0.5)\n",
    "\n",
    "early_stopping_optimizer_switch = EarlyStopping(patience=2, verbose=True)\n",
    "early_stopping_loss_switch = EarlyStopping(patience=2, verbose=True)\n",
    "\n",
    "warmup_epochs = 2\n",
    "base_lr = 0.01\n",
    "loss_switched = False\n",
    "optimizer_switched = False\n",
    "num_epochs=15\n",
    "\n",
    "for epoch in tqdm(range(num_epochs)):\n",
    "    model.train()\n",
    "    running_loss, correct, total = 0.0, 0, 0\n",
    "    \n",
    "    if epoch < warmup_epochs:\n",
    "         optimizer = warmup_lr_scheduler(optimizer, epoch, warmup_epochs, base_lr, warmup_lr_start=1e-5)\n",
    "    else:  \n",
    "         scheduler.step()\n",
    "        \n",
    "    all_preds_train = []\n",
    "    all_labels_train = []\n",
    "    \n",
    "    for inputs, targets in train_loader:\n",
    "        inputs = inputs.long().to(device)\n",
    "        targets= targets.to(device)\n",
    "        optimizer.zero_grad()\n",
    "        outputs = model(inputs)\n",
    "        loss = criterion(outputs, targets)\n",
    "        loss.backward()\n",
    "        optimizer.step()\n",
    "\n",
    "        running_loss += loss.item() * inputs.size(0)\n",
    "        predicted =  torch.sigmoid(outputs)\n",
    "        \n",
    "        all_preds_train.append(predicted.cpu())\n",
    "        all_labels_train.append(targets.cpu())\n",
    "\n",
    "    all_preds_train = torch.cat(all_preds_train, dim=0)\n",
    "    all_labels_train = torch.cat(all_labels_train, dim=0)\n",
    "    \n",
    "    train_loss = running_loss / len(train_loader.dataset)\n",
    "    train_acc =  metric(all_preds_train,all_labels_train)\n",
    "    \n",
    "    all_preds_val = []\n",
    "    all_labels_val = []\n",
    "    \n",
    "    model.eval()\n",
    "    running_val_loss, correct, total = 0.0, 0, 0\n",
    "    with torch.no_grad():\n",
    "        for inputs, targets in val_loader:\n",
    "            inputs, targets = inputs.long().to(device), targets.to(device)\n",
    "            outputs = model(inputs)\n",
    "            loss = criterion(outputs, targets)\n",
    "            running_val_loss += loss.item() * inputs.size(0)\n",
    "            predicted = torch.sigmoid(outputs).to(device)\n",
    "\n",
    "            all_preds_val.append(predicted.cpu())\n",
    "            all_labels_val.append(targets.cpu())\n",
    "            \n",
    "    all_preds_val = torch.cat(all_preds_val, dim=0)\n",
    "    all_labels_val = torch.cat(all_labels_val, dim=0)   \n",
    "    \n",
    "    val_loss = running_val_loss / len(val_loader.dataset)\n",
    "    val_acc = metric(all_preds_val,all_labels_val)\n",
    "\n",
    "    train_losses.append(train_loss)\n",
    "    val_losses.append(val_loss)\n",
    "    train_accuracies.append(train_acc.cpu().item())\n",
    "    val_accuracies.append(val_acc.cpu().item())\n",
    "\n",
    "    clear_output(wait=True)\n",
    "    plt.figure(figsize=(12,5))\n",
    "    plt.subplot(1,2,1)\n",
    "    plt.plot(range(1, len(train_losses)+1), train_losses, label=\"Train Loss\")\n",
    "    plt.plot(range(1, len(val_losses)+1), val_losses, label=\"Validation Loss\")\n",
    "    plt.xlabel(\"Epoch\")\n",
    "    plt.ylabel(\"Loss\")\n",
    "    plt.title(\"Loss over Epochs\")\n",
    "    plt.legend()\n",
    "    \n",
    "    plt.subplot(1,2,2)\n",
    "    plt.plot(range(1, len(train_accuracies)+1), train_accuracies, label=\"Train f1\")\n",
    "    plt.plot(range(1, len(val_accuracies)+1), val_accuracies, label=\"Validation f1\")\n",
    "    plt.xlabel(\"Epoch\")\n",
    "    plt.ylabel(\"F1\")\n",
    "    plt.title(\"F1 over Epochs\")\n",
    "    plt.legend()\n",
    "    plt.show()\n",
    "    print(f\"Epoch {epoch+1}/{num_epochs} | LR: {optimizer.param_groups[0]['lr']:.6f} | Train Loss: {train_loss:.4f}, Train f1: {train_acc:.2f} | Val Loss: {val_loss:.4f}, Val f1: {val_acc:.2f}\")\n",
    "\n",
    "    early_stopping_optimizer_switch(val_loss, model)\n",
    "    if early_stopping_optimizer_switch.early_stop and not optimizer_switched:\n",
    "        print(\"No improvement after loss switch. Switching optimizer to Adam.\")\n",
    "        optimizer = optim.SGD(model.parameters(), lr=0.001, momentum=0.9, weight_decay=0.0001)\n",
    "        base_lr = 0.001\n",
    "        optimizer_switched = True\n",
    "        early_stopping_optimizer_switch = EarlyStopping(patience=3, verbose=True)"
   ]
  },
  {
   "cell_type": "markdown",
   "id": "b7cbf447-941a-49aa-9f1c-28cdc7ed0902",
   "metadata": {},
   "source": [
    "Видно, что после 8-10 эпохи обучение пошло на спад и что скор, что лось особо не падают, f1 посредственная вышла"
   ]
  },
  {
   "cell_type": "code",
   "execution_count": null,
   "id": "0dea1e87-7752-43d6-a3b1-b9d9add6a9ff",
   "metadata": {},
   "outputs": [],
   "source": []
  },
  {
   "cell_type": "code",
   "execution_count": null,
   "id": "5b084bd3-83d1-4088-b654-bf7f78c23dcb",
   "metadata": {},
   "outputs": [],
   "source": []
  },
  {
   "cell_type": "markdown",
   "id": "d59c5916-f80f-43cb-8341-9f02555a9e69",
   "metadata": {
    "tags": []
   },
   "source": [
    "### 4.Встроенный эмбеддинг в нейросетевое решение на рекурентных сетях\n",
    "\n",
    "Как обычно: стоп-слова и любая символьная/численная чушь в мусор, оставляем рус слова и навешиваем на них лемматизацию, попробуем оставить пунктуацию"
   ]
  },
  {
   "cell_type": "code",
   "execution_count": 16,
   "id": "71d3f3ca-3193-403a-af20-14fc0c4ff899",
   "metadata": {
    "execution": {
     "iopub.execute_input": "2025-05-18T21:45:39.032794Z",
     "iopub.status.busy": "2025-05-18T21:45:39.031699Z",
     "iopub.status.idle": "2025-05-18T21:45:39.049532Z",
     "shell.execute_reply": "2025-05-18T21:45:39.048830Z",
     "shell.execute_reply.started": "2025-05-18T21:45:39.032749Z"
    },
    "tags": []
   },
   "outputs": [],
   "source": [
    "def rnn_rus(text, method='lemmer'):\n",
    "    text = text.lower()\n",
    "    text = re.sub(r'[^а-яё\\s\\,-]', '', text)\n",
    "    text = re.sub(r'-',' ',text)\n",
    "    tokens = text.split()\n",
    "    if method == 'lemmer':\n",
    "        tokens = [lemmer_rus.parse(token)[0].normal_form for token in tokens]\n",
    "    elif method == 'stemmer':\n",
    "        tokens = [stemmer_rus.stem(token) for token in tokens]\n",
    "    tokens = [token for token in tokens if token not in stop_words_rus and len(token) > 2]\n",
    "    return ' '.join(tokens)"
   ]
  },
  {
   "cell_type": "code",
   "execution_count": 17,
   "id": "0e89905b-1c95-4aa4-a3ab-a78d7bb7dd63",
   "metadata": {
    "execution": {
     "iopub.execute_input": "2025-05-18T21:45:42.252514Z",
     "iopub.status.busy": "2025-05-18T21:45:42.251641Z",
     "iopub.status.idle": "2025-05-18T21:52:47.460958Z",
     "shell.execute_reply": "2025-05-18T21:52:47.460261Z",
     "shell.execute_reply.started": "2025-05-18T21:45:42.252482Z"
    },
    "tags": []
   },
   "outputs": [],
   "source": [
    "df['clean_text_rnn']= df.text.apply(lambda x: rnn_rus(x,'lemmer'))"
   ]
  },
  {
   "cell_type": "code",
   "execution_count": 18,
   "id": "a4501212-17e9-4d42-9b3c-d48c649aa45b",
   "metadata": {
    "execution": {
     "iopub.execute_input": "2025-05-18T21:52:47.462905Z",
     "iopub.status.busy": "2025-05-18T21:52:47.462102Z",
     "iopub.status.idle": "2025-05-18T21:52:55.970739Z",
     "shell.execute_reply": "2025-05-18T21:52:55.970032Z",
     "shell.execute_reply.started": "2025-05-18T21:52:47.462869Z"
    },
    "tags": []
   },
   "outputs": [],
   "source": [
    "t = [word_tokenize(sent, language='russian') for sent in df.clean_text_rnn.values]\n",
    "tokens=[]\n",
    "for sent in t:\n",
    "     for word in sent:\n",
    "        tokens.append(word) \n",
    "vocab = Counter(tokens)\n",
    "vocab = {word: i + 2 for i, (word, _) in enumerate(vocab.most_common())}\n",
    "vocab['<PAD>'] = 0\n",
    "vocab['<UNK>'] = 1\n",
    "\n",
    "inv_vocab = {idx: word for word, idx in vocab.items()}\n",
    "vocab_size = len(vocab)\n",
    "\n",
    "sequences = [vocab.get(word, vocab['<UNK>']) for word in tokens]"
   ]
  },
  {
   "cell_type": "code",
   "execution_count": 19,
   "id": "8f7a0dca-f09d-4eb6-b068-11b1df476e1c",
   "metadata": {
    "execution": {
     "iopub.execute_input": "2025-05-18T21:52:55.972818Z",
     "iopub.status.busy": "2025-05-18T21:52:55.971834Z",
     "iopub.status.idle": "2025-05-18T21:52:55.988774Z",
     "shell.execute_reply": "2025-05-18T21:52:55.988061Z",
     "shell.execute_reply.started": "2025-05-18T21:52:55.972780Z"
    },
    "tags": []
   },
   "outputs": [],
   "source": [
    "class My_Dataset_rnn(Dataset):\n",
    "    def __init__(self, text, label, vocab,split='train',max_len=70):\n",
    "        n=len(text)\n",
    "        self.split=split\n",
    "        self.vocab=vocab\n",
    "        self.max_len=max_len\n",
    "        \n",
    "        if self.split == 'train':\n",
    "            self.text=text[:int(n*0.7)]\n",
    "            self.label=label[:int(n*0.7)]\n",
    "        elif self.split == 'val':\n",
    "            self.text=text[int(n*0.7):]\n",
    "            self.label=label[int(n*0.7):]\n",
    "        else:\n",
    "            self.text=text\n",
    "            self.label=label\n",
    "                \n",
    "    def __len__(self):\n",
    "        return len(self.text)  \n",
    "\n",
    "    def __getitem__(self, idx):\n",
    "        doc = self.text[idx].split()\n",
    "        seq = [self.vocab.get(word, self.vocab['<UNK>']) for word in doc][:self.max_len]\n",
    "        if len(seq) < self.max_len:\n",
    "            seq = seq + [self.vocab['<PAD>']] * (self.max_len - len(doc))\n",
    "        doc_tensor = torch.FloatTensor(np.array(seq))  \n",
    "        return doc_tensor, self.label[idx]"
   ]
  },
  {
   "cell_type": "code",
   "execution_count": 22,
   "id": "37a3802a-5820-4bad-88a1-34290b449178",
   "metadata": {
    "execution": {
     "iopub.execute_input": "2025-05-18T21:53:51.767577Z",
     "iopub.status.busy": "2025-05-18T21:53:51.766715Z",
     "iopub.status.idle": "2025-05-18T21:53:51.833337Z",
     "shell.execute_reply": "2025-05-18T21:53:51.832516Z",
     "shell.execute_reply.started": "2025-05-18T21:53:51.767539Z"
    },
    "tags": []
   },
   "outputs": [],
   "source": [
    "train_dataset=My_Dataset_rnn(df.clean_text_rnn.values,labels_tensor,vocab,split='train',max_len=70)\n",
    "val_dataset=My_Dataset_rnn(df.clean_text_rnn.values,labels_tensor,vocab,split='val',max_len=70)\n",
    "\n",
    "train_loader = DataLoader(train_dataset, batch_size=32, shuffle=True)\n",
    "val_loader = DataLoader(val_dataset, batch_size=32, shuffle=False)"
   ]
  },
  {
   "cell_type": "code",
   "execution_count": 23,
   "id": "41c9af8e-9383-40f4-8067-9855ebb1def0",
   "metadata": {
    "execution": {
     "iopub.execute_input": "2025-05-18T21:53:54.144800Z",
     "iopub.status.busy": "2025-05-18T21:53:54.143933Z",
     "iopub.status.idle": "2025-05-18T21:53:54.155761Z",
     "shell.execute_reply": "2025-05-18T21:53:54.155158Z",
     "shell.execute_reply.started": "2025-05-18T21:53:54.144770Z"
    },
    "tags": []
   },
   "outputs": [],
   "source": [
    "class LSTMModel(nn.Module):\n",
    "    def __init__(self,vocab_size, emb_dim=256, num_classes=20):\n",
    "        super(LSTMModel, self).__init__()\n",
    "        self.embedding = nn.Embedding(vocab_size, emb_dim, padding_idx=0)\n",
    "        self.lstm = nn.LSTM(emb_dim, 128, batch_first=True)\n",
    "        self.fc1 = nn.Linear(128, 64)\n",
    "        self.relu = nn.ReLU()\n",
    "        self.dropout = nn.Dropout(0.3)\n",
    "        self.fc2 = nn.Linear(64, num_classes)\n",
    "\n",
    "    def forward(self, x):\n",
    "        x = self.embedding(x)\n",
    "        out, (hidden, cell) = self.lstm(x)\n",
    "        last_hidden = out[:, -1, :]\n",
    "        x = self.relu(self.fc1(last_hidden))\n",
    "        x = self.dropout(x)\n",
    "        x = self.fc2(x)\n",
    "        return x"
   ]
  },
  {
   "cell_type": "code",
   "execution_count": 24,
   "id": "5a873b42-f066-42ae-ae8a-2b35ac71d9da",
   "metadata": {
    "execution": {
     "iopub.execute_input": "2025-05-18T21:53:55.263108Z",
     "iopub.status.busy": "2025-05-18T21:53:55.262068Z",
     "iopub.status.idle": "2025-05-18T21:53:55.594383Z",
     "shell.execute_reply": "2025-05-18T21:53:55.593724Z",
     "shell.execute_reply.started": "2025-05-18T21:53:55.263074Z"
    },
    "tags": []
   },
   "outputs": [],
   "source": [
    "model=LSTMModel(vocab_size)\n",
    "device = torch.device(\"cuda\" if torch.cuda.is_available() else \"cpu\")\n",
    "model = model.to(device)"
   ]
  },
  {
   "cell_type": "code",
   "execution_count": 25,
   "id": "622c03dd-7586-42ad-967a-9e5da68e2c3a",
   "metadata": {
    "execution": {
     "iopub.execute_input": "2025-05-18T21:53:56.583101Z",
     "iopub.status.busy": "2025-05-18T21:53:56.581909Z",
     "iopub.status.idle": "2025-05-18T21:55:25.664836Z",
     "shell.execute_reply": "2025-05-18T21:55:25.664113Z",
     "shell.execute_reply.started": "2025-05-18T21:53:56.583054Z"
    },
    "tags": []
   },
   "outputs": [
    {
     "data": {
      "image/png": "[encoded data removed]",
      "text/plain": [
       "<Figure size 1200x500 with 2 Axes>"
      ]
     },
     "metadata": {},
     "output_type": "display_data"
    },
    {
     "name": "stderr",
     "output_type": "stream",
     "text": [
      "100%|██████████| 15/15 [01:29<00:00,  5.94s/it]"
     ]
    },
    {
     "name": "stdout",
     "output_type": "stream",
     "text": [
      "Epoch 15/15 | LR: 0.001000 | Train Loss: 0.2119, Train f1: 0.77 | Val Loss: 0.2713, Val f1: 0.74\n",
      "EarlyStopping counter: 2 out of 3\n"
     ]
    },
    {
     "name": "stderr",
     "output_type": "stream",
     "text": [
      "\n"
     ]
    }
   ],
   "source": [
    "train_losses, val_losses = [], []\n",
    "train_accuracies, val_accuracies = [], []\n",
    "\n",
    "metric = MultilabelF1Score(num_labels=20)  \n",
    "criterion = nn.BCEWithLogitsLoss()\n",
    "optimizer = optim.Adam(model.parameters(), lr=0.001) \n",
    "scheduler = optim.lr_scheduler.StepLR(optimizer, step_size=2, gamma=0.5)\n",
    "\n",
    "early_stopping_optimizer_switch = EarlyStopping(patience=2, verbose=True)\n",
    "early_stopping_loss_switch = EarlyStopping(patience=2, verbose=True)\n",
    "\n",
    "warmup_epochs = 2\n",
    "base_lr = 0.01\n",
    "loss_switched = False\n",
    "optimizer_switched = False\n",
    "num_epochs=15\n",
    "\n",
    "for epoch in tqdm(range(num_epochs)):\n",
    "    model.train()\n",
    "    running_loss, correct, total = 0.0, 0, 0\n",
    "    \n",
    "    if epoch < warmup_epochs:\n",
    "         optimizer = warmup_lr_scheduler(optimizer, epoch, warmup_epochs, base_lr, warmup_lr_start=1e-5)\n",
    "    else:  \n",
    "         scheduler.step()\n",
    "        \n",
    "    all_preds_train = []\n",
    "    all_labels_train = []\n",
    "    \n",
    "    for inputs, targets in train_loader:\n",
    "        inputs = inputs.long().to(device)\n",
    "        targets= targets.to(device)\n",
    "        optimizer.zero_grad()\n",
    "        outputs = model(inputs)\n",
    "        loss = criterion(outputs, targets)\n",
    "        loss.backward()\n",
    "        optimizer.step()\n",
    "\n",
    "        running_loss += loss.item() * inputs.size(0)\n",
    "        predicted =  torch.sigmoid(outputs)\n",
    "        \n",
    "        all_preds_train.append(predicted.cpu())\n",
    "        all_labels_train.append(targets.cpu())\n",
    "\n",
    "    all_preds_train = torch.cat(all_preds_train, dim=0)\n",
    "    all_labels_train = torch.cat(all_labels_train, dim=0)\n",
    "    \n",
    "    train_loss = running_loss / len(train_loader.dataset)\n",
    "    train_acc =  metric(all_preds_train,all_labels_train)\n",
    "    \n",
    "    all_preds_val = []\n",
    "    all_labels_val = []\n",
    "    \n",
    "    model.eval()\n",
    "    running_val_loss, correct, total = 0.0, 0, 0\n",
    "    with torch.no_grad():\n",
    "        for inputs, targets in val_loader:\n",
    "            inputs, targets = inputs.long().to(device), targets.to(device)\n",
    "            outputs = model(inputs)\n",
    "            loss = criterion(outputs, targets)\n",
    "            running_val_loss += loss.item() * inputs.size(0)\n",
    "            predicted = torch.sigmoid(outputs).to(device)\n",
    "\n",
    "            all_preds_val.append(predicted.cpu())\n",
    "            all_labels_val.append(targets.cpu())\n",
    "            \n",
    "    all_preds_val = torch.cat(all_preds_val, dim=0)\n",
    "    all_labels_val = torch.cat(all_labels_val, dim=0)   \n",
    "    \n",
    "    val_loss = running_val_loss / len(val_loader.dataset)\n",
    "    val_acc = metric(all_preds_val,all_labels_val)\n",
    "\n",
    "    train_losses.append(train_loss)\n",
    "    val_losses.append(val_loss)\n",
    "    train_accuracies.append(train_acc.cpu().item())\n",
    "    val_accuracies.append(val_acc.cpu().item())\n",
    "\n",
    "    clear_output(wait=True)\n",
    "    plt.figure(figsize=(12,5))\n",
    "    plt.subplot(1,2,1)\n",
    "    plt.plot(range(1, len(train_losses)+1), train_losses, label=\"Train Loss\")\n",
    "    plt.plot(range(1, len(val_losses)+1), val_losses, label=\"Validation Loss\")\n",
    "    plt.xlabel(\"Epoch\")\n",
    "    plt.ylabel(\"Loss\")\n",
    "    plt.title(\"Loss over Epochs\")\n",
    "    plt.legend()\n",
    "    \n",
    "    plt.subplot(1,2,2)\n",
    "    plt.plot(range(1, len(train_accuracies)+1), train_accuracies, label=\"Train f1\")\n",
    "    plt.plot(range(1, len(val_accuracies)+1), val_accuracies, label=\"Validation f1\")\n",
    "    plt.xlabel(\"Epoch\")\n",
    "    plt.ylabel(\"F1\")\n",
    "    plt.title(\"F1 over Epochs\")\n",
    "    plt.legend()\n",
    "    plt.show()\n",
    "    print(f\"Epoch {epoch+1}/{num_epochs} | LR: {optimizer.param_groups[0]['lr']:.6f} | Train Loss: {train_loss:.4f}, Train f1: {train_acc:.2f} | Val Loss: {val_loss:.4f}, Val f1: {val_acc:.2f}\")\n",
    "\n",
    "    early_stopping_optimizer_switch(val_loss, model)\n",
    "    if early_stopping_optimizer_switch.early_stop and not optimizer_switched:\n",
    "        print(\"No improvement after loss switch. Switching optimizer to Adam.\")\n",
    "        optimizer = optim.SGD(model.parameters(), lr=0.001, momentum=0.9, weight_decay=0.0001)\n",
    "        base_lr = 0.001\n",
    "        optimizer_switched = True\n",
    "        early_stopping_optimizer_switch = EarlyStopping(patience=3, verbose=True)"
   ]
  },
  {
   "cell_type": "markdown",
   "id": "3ab4c94c-ca34-43da-8470-e0015cf7f27c",
   "metadata": {},
   "source": [
    "Тут выводы те же, метрика не очень, так что для выбития на лидерборде чего-то адекватного пока что остается tf-idf "
   ]
  },
  {
   "cell_type": "code",
   "execution_count": null,
   "id": "4ba98bd3-2407-4c9d-a172-5818d7deb263",
   "metadata": {},
   "outputs": [],
   "source": []
  },
  {
   "cell_type": "code",
   "execution_count": null,
   "id": "07aa4deb-5622-41f8-a015-f49e1110a8ec",
   "metadata": {},
   "outputs": [],
   "source": []
  },
  {
   "cell_type": "markdown",
   "id": "e3bb10fa-f1ac-464c-a472-2e978c1b651d",
   "metadata": {
    "tags": []
   },
   "source": [
    "### 5. Эмбеддер + решение на bert-like моделях (любой вид). \n",
    "\n",
    "тут предобработка не нужна, моделька уже все учла"
   ]
  },
  {
   "cell_type": "code",
   "execution_count": 3,
   "id": "158a50ca-ca13-443c-87b8-36bffaf11b72",
   "metadata": {
    "execution": {
     "iopub.execute_input": "2025-05-18T14:32:09.932689Z",
     "iopub.status.busy": "2025-05-18T14:32:09.931825Z",
     "iopub.status.idle": "2025-05-18T14:32:09.951612Z",
     "shell.execute_reply": "2025-05-18T14:32:09.950785Z",
     "shell.execute_reply.started": "2025-05-18T14:32:09.932662Z"
    },
    "tags": []
   },
   "outputs": [],
   "source": [
    "class My_Dataset_bert(Dataset):\n",
    "    def __init__(self, text, label, tokenizer, max_len=64,split='train'):\n",
    "        self.text = text\n",
    "        self.label = label\n",
    "        self.tokenizer = tokenizer\n",
    "        self.max_len = max_len\n",
    "        self.split=split\n",
    "        \n",
    "        n=len(self.text)\n",
    "        if self.split == 'train':\n",
    "            self.text=text[:int(n*0.7)]\n",
    "            self.label=label[:int(n*0.7)]\n",
    "        elif self.split == 'val':\n",
    "            self.text=text[int(n*0.7):]\n",
    "            self.label=label[int(n*0.7):]\n",
    "        else:\n",
    "            self.text=text\n",
    "            self.label=label\n",
    "            \n",
    "    def __len__(self):\n",
    "        return len(self.text)\n",
    "\n",
    "    def __getitem__(self, idx):\n",
    "        text = str(self.text[idx])\n",
    "        label = self.label[idx]\n",
    "        encoding = self.tokenizer(text,\n",
    "                                  padding='max_length',\n",
    "                                  truncation=True,\n",
    "                                  max_length=self.max_len,\n",
    "                                  return_tensors='pt')\n",
    "        return {'input_ids': encoding['input_ids'].squeeze(),\n",
    "                'attention_mask': encoding['attention_mask'].squeeze(),\n",
    "                'label': label}\n"
   ]
  },
  {
   "cell_type": "code",
   "execution_count": 4,
   "id": "a59ae551-da03-4515-914d-59c298a25045",
   "metadata": {
    "execution": {
     "iopub.execute_input": "2025-05-18T14:32:13.295068Z",
     "iopub.status.busy": "2025-05-18T14:32:13.294054Z",
     "iopub.status.idle": "2025-05-18T14:32:13.389475Z",
     "shell.execute_reply": "2025-05-18T14:32:13.388747Z",
     "shell.execute_reply.started": "2025-05-18T14:32:13.295028Z"
    },
    "tags": []
   },
   "outputs": [],
   "source": [
    "labels_tensor=torch.FloatTensor(np.array([np.fromstring(row, dtype=int, sep=' ') for row in df['labels'].values]))"
   ]
  },
  {
   "cell_type": "code",
   "execution_count": 24,
   "id": "8af72a6c-c23a-4003-9c7f-fb644d13c818",
   "metadata": {
    "execution": {
     "iopub.execute_input": "2025-05-18T15:14:03.438400Z",
     "iopub.status.busy": "2025-05-18T15:14:03.437471Z",
     "iopub.status.idle": "2025-05-18T15:14:13.685576Z",
     "shell.execute_reply": "2025-05-18T15:14:13.684814Z",
     "shell.execute_reply.started": "2025-05-18T15:14:03.438370Z"
    },
    "tags": []
   },
   "outputs": [],
   "source": [
    "model_name = 'DeepPavlov/rubert-base-cased'\n",
    "#model_name='sberbank-ai/ruBert-base'\n",
    "tokenizer = AutoTokenizer.from_pretrained(model_name)\n",
    "\n",
    "train_dataset = My_Dataset_bert(df.text.values, labels_tensor, tokenizer,split='train')\n",
    "val_dataset = My_Dataset_bert(df.text.values,labels_tensor, tokenizer,split='val')\n",
    "\n",
    "train_loader = DataLoader(train_dataset, batch_size=32, shuffle=True)\n",
    "val_loader = DataLoader(val_dataset, batch_size=32)"
   ]
  },
  {
   "cell_type": "code",
   "execution_count": 25,
   "id": "1883fa82-1d07-4ded-a94b-aaff94a677e3",
   "metadata": {
    "execution": {
     "iopub.execute_input": "2025-05-18T15:14:15.219501Z",
     "iopub.status.busy": "2025-05-18T15:14:15.218737Z",
     "iopub.status.idle": "2025-05-18T15:14:15.282357Z",
     "shell.execute_reply": "2025-05-18T15:14:15.281496Z",
     "shell.execute_reply.started": "2025-05-18T15:14:15.219465Z"
    },
    "tags": []
   },
   "outputs": [],
   "source": [
    "for i in train_loader:\n",
    "    break"
   ]
  },
  {
   "cell_type": "code",
   "execution_count": 26,
   "id": "8d47c335-d2ba-44bd-86af-09fc5a465daf",
   "metadata": {
    "execution": {
     "iopub.execute_input": "2025-05-18T15:14:16.009497Z",
     "iopub.status.busy": "2025-05-18T15:14:16.008422Z",
     "iopub.status.idle": "2025-05-18T15:14:16.019923Z",
     "shell.execute_reply": "2025-05-18T15:14:16.019289Z",
     "shell.execute_reply.started": "2025-05-18T15:14:16.009455Z"
    },
    "tags": []
   },
   "outputs": [],
   "source": [
    "class BertClassifier(nn.Module):\n",
    "    def __init__(self, bert_model, num_labels=20):\n",
    "        super().__init__()\n",
    "        self.bert = bert_model\n",
    "        for param in self.bert.parameters():\n",
    "            param.requires_grad = False\n",
    "        self.classifier = nn.Linear(768, num_labels)\n",
    "\n",
    "    def forward(self, input_ids, attention_mask):\n",
    "        output = self.bert(input_ids=input_ids, attention_mask=attention_mask)\n",
    "        cls_token = output.pooler_output\n",
    "        return self.classifier(cls_token)"
   ]
  },
  {
   "cell_type": "code",
   "execution_count": 29,
   "id": "86f9b8c7-cc3d-41ae-bc48-8e40c5e221f3",
   "metadata": {
    "execution": {
     "iopub.execute_input": "2025-05-18T15:16:01.051042Z",
     "iopub.status.busy": "2025-05-18T15:16:01.050035Z",
     "iopub.status.idle": "2025-05-18T15:16:01.072716Z",
     "shell.execute_reply": "2025-05-18T15:16:01.071913Z",
     "shell.execute_reply.started": "2025-05-18T15:16:01.050997Z"
    },
    "tags": []
   },
   "outputs": [],
   "source": [
    "bert_model = AutoModel.from_pretrained(model_name)\n",
    "model = BertClassifier(bert_model)"
   ]
  },
  {
   "cell_type": "code",
   "execution_count": 30,
   "id": "d66c7409-7d0e-466f-a0d4-63f332fd0950",
   "metadata": {
    "execution": {
     "iopub.execute_input": "2025-05-18T15:16:03.551607Z",
     "iopub.status.busy": "2025-05-18T15:16:03.550636Z",
     "iopub.status.idle": "2025-05-18T15:16:03.674133Z",
     "shell.execute_reply": "2025-05-18T15:16:03.673436Z",
     "shell.execute_reply.started": "2025-05-18T15:16:03.551567Z"
    },
    "tags": []
   },
   "outputs": [],
   "source": [
    "device = torch.device(\"cuda\" if torch.cuda.is_available() else \"cpu\")\n",
    "model = model.to(device)"
   ]
  },
  {
   "cell_type": "code",
   "execution_count": 31,
   "id": "4e18e3bc-7566-47fb-b8df-2ed06daabbb3",
   "metadata": {
    "execution": {
     "iopub.execute_input": "2025-05-18T15:16:20.874241Z",
     "iopub.status.busy": "2025-05-18T15:16:20.873158Z",
     "iopub.status.idle": "2025-05-18T15:31:59.616624Z",
     "shell.execute_reply": "2025-05-18T15:31:59.615930Z",
     "shell.execute_reply.started": "2025-05-18T15:16:20.874193Z"
    },
    "tags": []
   },
   "outputs": [
    {
     "data": {
      "image/png": "[encoded data removed]",
      "text/plain": [
       "<Figure size 1200x500 with 2 Axes>"
      ]
     },
     "metadata": {},
     "output_type": "display_data"
    },
    {
     "name": "stderr",
     "output_type": "stream",
     "text": [
      "100%|██████████| 15/15 [15:38<00:00, 62.58s/it]"
     ]
    },
    {
     "name": "stdout",
     "output_type": "stream",
     "text": [
      "Epoch 15/15 | LR: 0.000104 | Train Loss: 0.3533, Train f1: 0.70 | Val Loss: 0.3423, Val f1: 0.71\n",
      "EarlyStopping counter: 2 out of 2\n",
      "No improvement after loss switch. Switching optimizer to Adam.\n"
     ]
    },
    {
     "name": "stderr",
     "output_type": "stream",
     "text": [
      "\n"
     ]
    }
   ],
   "source": [
    "train_losses, val_losses = [], []\n",
    "train_accuracies, val_accuracies = [], []\n",
    "\n",
    "metric = MultilabelF1Score(num_labels=20)  \n",
    "criterion = nn.BCEWithLogitsLoss()\n",
    "optimizer = optim.Adam(model.parameters(), lr=0.001) \n",
    "scheduler = optim.lr_scheduler.StepLR(optimizer, step_size=2, gamma=0.5)\n",
    "\n",
    "early_stopping_optimizer_switch = EarlyStopping(patience=2, verbose=True)\n",
    "early_stopping_loss_switch = EarlyStopping(patience=2, verbose=True)\n",
    "\n",
    "warmup_epochs = 3\n",
    "base_lr = 0.01\n",
    "loss_switched = False\n",
    "optimizer_switched = False\n",
    "num_epochs=15\n",
    "\n",
    "for epoch in tqdm(range(num_epochs)):\n",
    "    model.train()\n",
    "    running_loss = 0\n",
    "    \n",
    "    if epoch < warmup_epochs:\n",
    "         optimizer = warmup_lr_scheduler(optimizer, epoch, warmup_epochs, base_lr, warmup_lr_start=1e-5)\n",
    "    else:  \n",
    "         scheduler.step()\n",
    "        \n",
    "    all_preds_train = []\n",
    "    all_labels_train = []\n",
    "    \n",
    "\n",
    "    for batch in tqdm(train_loader):\n",
    "        optimizer.zero_grad()\n",
    "        input_ids = batch['input_ids'].to(device)\n",
    "        attention_mask = batch['attention_mask'].to(device)\n",
    "        labels = batch['label'].to(device)\n",
    "        outputs = model(input_ids, attention_mask)\n",
    "        loss = criterion(outputs, labels)\n",
    "        loss.backward()\n",
    "        optimizer.step()\n",
    " \n",
    "\n",
    "        running_loss += loss.item() * input_ids.size(0)\n",
    "        predicted =  torch.sigmoid(outputs)\n",
    "        \n",
    "        all_preds_train.append(predicted.cpu())\n",
    "        all_labels_train.append(labels.cpu())\n",
    "\n",
    "    all_preds_train = torch.cat(all_preds_train, dim=0)\n",
    "    all_labels_train = torch.cat(all_labels_train, dim=0)\n",
    "    \n",
    "    train_loss = running_loss / len(train_loader.dataset)\n",
    "    train_acc =  metric(all_preds_train,all_labels_train)\n",
    "    \n",
    "    all_preds_val = []\n",
    "    all_labels_val = []\n",
    "    \n",
    "    model.eval()\n",
    "    running_val_loss = 0.0\n",
    "    with torch.no_grad():\n",
    "        for batch in tqdm(val_loader):\n",
    "            input_ids = batch['input_ids'].to(device)\n",
    "            attention_mask = batch['attention_mask'].to(device)\n",
    "            batch_labels = batch['label'].to(device)\n",
    "            outputs = model(input_ids, attention_mask)\n",
    "        \n",
    "            loss = criterion(outputs, batch_labels)\n",
    "            running_val_loss += loss.item() * input_ids.size(0)\n",
    "            predicted = torch.sigmoid(outputs).to(device)\n",
    "\n",
    "            all_preds_val.append(predicted.cpu())\n",
    "            all_labels_val.append(batch_labels.cpu())\n",
    "            \n",
    "    all_preds_val = torch.cat(all_preds_val, dim=0)\n",
    "    all_labels_val = torch.cat(all_labels_val, dim=0)   \n",
    "    \n",
    "    val_loss = running_val_loss / len(val_loader.dataset)\n",
    "    val_acc = metric(all_preds_val,all_labels_val)\n",
    "\n",
    "    train_losses.append(train_loss)\n",
    "    val_losses.append(val_loss)\n",
    "    train_accuracies.append(train_acc.cpu().item())\n",
    "    val_accuracies.append(val_acc.cpu().item())\n",
    "\n",
    "    clear_output(wait=True)\n",
    "    plt.figure(figsize=(12,5))\n",
    "    plt.subplot(1,2,1)\n",
    "    plt.plot(range(1, len(train_losses)+1), train_losses, label=\"Train Loss\")\n",
    "    plt.plot(range(1, len(val_losses)+1), val_losses, label=\"Validation Loss\")\n",
    "    plt.xlabel(\"Epoch\")\n",
    "    plt.ylabel(\"Loss\")\n",
    "    plt.title(\"Loss over Epochs\")\n",
    "    plt.legend()\n",
    "    \n",
    "    plt.subplot(1,2,2)\n",
    "    plt.plot(range(1, len(train_accuracies)+1), train_accuracies, label=\"Train f1\")\n",
    "    plt.plot(range(1, len(val_accuracies)+1), val_accuracies, label=\"Validation f1\")\n",
    "    plt.xlabel(\"Epoch\")\n",
    "    plt.ylabel(\"F1\")\n",
    "    plt.title(\"F1 over Epochs\")\n",
    "    plt.legend()\n",
    "    plt.show()\n",
    "    print(f\"Epoch {epoch+1}/{num_epochs} | LR: {optimizer.param_groups[0]['lr']:.6f} | Train Loss: {train_loss:.4f}, Train f1: {train_acc:.2f} | Val Loss: {val_loss:.4f}, Val f1: {val_acc:.2f}\")\n",
    "\n",
    "    early_stopping_optimizer_switch(val_loss, model)\n",
    "    if early_stopping_optimizer_switch.early_stop and not optimizer_switched:\n",
    "        print(\"No improvement after loss switch. Switching optimizer to Adam.\")\n",
    "        optimizer = optim.SGD(model.parameters(), lr=0.001, momentum=0.9, weight_decay=0.0001)\n",
    "        base_lr = 0.001\n",
    "        optimizer_switched = True\n",
    "        early_stopping_optimizer_switch = EarlyStopping(patience=3, verbose=True)"
   ]
  },
  {
   "cell_type": "code",
   "execution_count": null,
   "id": "216a668e-f21a-482c-9da9-4565c3b82a46",
   "metadata": {},
   "outputs": [],
   "source": []
  },
  {
   "cell_type": "code",
   "execution_count": null,
   "id": "f64a6904-bdce-47f2-a74e-7a3ef1a20797",
   "metadata": {},
   "outputs": [],
   "source": []
  },
  {
   "cell_type": "markdown",
   "id": "8ee42b76-789f-473d-8d89-9acc231c2740",
   "metadata": {
    "tags": []
   },
   "source": [
    "### Часть 4: Попытки генерации\n",
    "\n"
   ]
  },
  {
   "cell_type": "code",
   "execution_count": 27,
   "id": "f0181a4e-a401-4648-aef4-20196ebb67a0",
   "metadata": {
    "execution": {
     "iopub.execute_input": "2025-05-18T21:58:59.048065Z",
     "iopub.status.busy": "2025-05-18T21:58:59.047086Z",
     "iopub.status.idle": "2025-05-18T21:59:33.708201Z",
     "shell.execute_reply": "2025-05-18T21:59:33.707531Z",
     "shell.execute_reply.started": "2025-05-18T21:58:59.048023Z"
    },
    "tags": []
   },
   "outputs": [],
   "source": [
    "model_name = 'sberbank-ai/rugpt2large'\n",
    "tokenizer = GPT2Tokenizer.from_pretrained(model_name)\n",
    "model = GPT2LMHeadModel.from_pretrained(model_name).to(device)"
   ]
  },
  {
   "cell_type": "code",
   "execution_count": 32,
   "id": "bab84963-2f51-4bdb-9f34-ff74e55f5f3a",
   "metadata": {
    "execution": {
     "iopub.execute_input": "2025-05-18T22:00:22.006227Z",
     "iopub.status.busy": "2025-05-18T22:00:22.005264Z",
     "iopub.status.idle": "2025-05-18T22:00:31.628045Z",
     "shell.execute_reply": "2025-05-18T22:00:31.627340Z",
     "shell.execute_reply.started": "2025-05-18T22:00:22.006191Z"
    },
    "tags": []
   },
   "outputs": [],
   "source": [
    "start=[]\n",
    "label=[]\n",
    "for i in range(1000):\n",
    "    start.append(df[df.labels==df.labels.unique()[i]].reset_index(drop=True).clean_text_rnn[0])\n",
    "    label.append(df[df.labels==df.labels.unique()[i]].reset_index(drop=True).labels[0])\n",
    "    for i in range(len(start)):\n",
    "        start[i]=' '.join(start[i].split()[:10]) #1000 промптов для первых 1000 уникальных меток из каждой уникальной метки берем первое предложение и от него первые 10 слов"
   ]
  },
  {
   "cell_type": "code",
   "execution_count": 33,
   "id": "c53df3a2-de45-41a3-bc2a-606ff0164276",
   "metadata": {
    "execution": {
     "iopub.execute_input": "2025-05-18T22:00:34.285666Z",
     "iopub.status.busy": "2025-05-18T22:00:34.284688Z",
     "iopub.status.idle": "2025-05-18T22:46:46.842062Z",
     "shell.execute_reply": "2025-05-18T22:46:46.841331Z",
     "shell.execute_reply.started": "2025-05-18T22:00:34.285623Z"
    },
    "tags": []
   },
   "outputs": [
    {
     "name": "stderr",
     "output_type": "stream",
     "text": [
      "2025-05-18 22:00:50.796050: W tensorflow/compiler/tf2tensorrt/utils/py_utils.cc:38] TF-TRT Warning: Could not find TensorRT\n"
     ]
    }
   ],
   "source": [
    "gen_text=[]\n",
    "for i in start:\n",
    "    prompt_text = i\n",
    "    input_ids = tokenizer.encode(prompt_text, return_tensors='pt').cuda()\n",
    "    \n",
    "    output_ids = model.generate(\n",
    "    input_ids=input_ids,\n",
    "    max_length=110,\n",
    "    temperature=0.8,\n",
    "    top_k=40,\n",
    "    top_p=0.95,\n",
    "    do_sample=True,\n",
    "    num_return_sequences=1)\n",
    "    \n",
    "    generated_text = tokenizer.decode(output_ids[0], skip_special_tokens=True)\n",
    "    gen_text.append(generated_text)\n",
    "    "
   ]
  },
  {
   "cell_type": "code",
   "execution_count": 34,
   "id": "11ec0c4d-cabd-425a-9e5f-471a2cc58355",
   "metadata": {
    "execution": {
     "iopub.execute_input": "2025-05-18T22:46:46.844736Z",
     "iopub.status.busy": "2025-05-18T22:46:46.843474Z",
     "iopub.status.idle": "2025-05-18T22:46:48.693199Z",
     "shell.execute_reply": "2025-05-18T22:46:48.692431Z",
     "shell.execute_reply.started": "2025-05-18T22:46:46.844702Z"
    },
    "tags": []
   },
   "outputs": [],
   "source": [
    "new_labels=np.append(label,df.labels.values)\n",
    "new_texts=np.append(gen_text,df['text'].values)\n",
    "new_df=pd.DataFrame({'labels':new_labels,\n",
    "              'text':new_texts})\n",
    "new_df.to_csv('train_gen.csv', index=False)"
   ]
  },
  {
   "cell_type": "code",
   "execution_count": 35,
   "id": "0842dc09-fb02-415d-aa95-99845d17b44c",
   "metadata": {
    "execution": {
     "iopub.execute_input": "2025-05-18T22:46:48.703548Z",
     "iopub.status.busy": "2025-05-18T22:46:48.703039Z",
     "iopub.status.idle": "2025-05-18T22:46:48.720470Z",
     "shell.execute_reply": "2025-05-18T22:46:48.719751Z",
     "shell.execute_reply.started": "2025-05-18T22:46:48.703514Z"
    }
   },
   "outputs": [],
   "source": [
    "def tf_idf_rus(text, method='lemmer'):\n",
    "    text = text.lower()\n",
    "    text = re.sub(r'[^а-яё\\s-]', '', text)\n",
    "    text = re.sub(r'-',' ',text)\n",
    "    tokens = text.split()\n",
    "    if method == 'lemmer':\n",
    "        tokens = [lemmer_rus.parse(token)[0].normal_form for token in tokens]\n",
    "    elif method == 'stemmer':\n",
    "        tokens = [stemmer_rus.stem(token) for token in tokens]\n",
    "    tokens = [token for token in tokens if token not in stop_words_rus and len(token) > 2]\n",
    "    return ' '.join(tokens)"
   ]
  },
  {
   "cell_type": "code",
   "execution_count": 36,
   "id": "b6ea4a42-2b18-4604-9579-8d58694446d8",
   "metadata": {
    "execution": {
     "iopub.execute_input": "2025-05-18T22:46:48.722191Z",
     "iopub.status.busy": "2025-05-18T22:46:48.721422Z",
     "iopub.status.idle": "2025-05-18T22:54:05.761803Z",
     "shell.execute_reply": "2025-05-18T22:54:05.761094Z",
     "shell.execute_reply.started": "2025-05-18T22:46:48.722155Z"
    },
    "tags": []
   },
   "outputs": [],
   "source": [
    "new_df['clean_text']= new_df.text.apply(lambda x: tf_idf_rus(x,method='lemmer'))\n",
    "#labels_tensor=torch.FloatTensor(np.array([np.fromstring(row, dtype=int, sep=' ') for row in new_df['labels'].values]))"
   ]
  },
  {
   "cell_type": "code",
   "execution_count": 37,
   "id": "b14dc4c0-0999-479a-a8c0-23ee7416a891",
   "metadata": {
    "execution": {
     "iopub.execute_input": "2025-05-18T22:54:05.764739Z",
     "iopub.status.busy": "2025-05-18T22:54:05.763839Z",
     "iopub.status.idle": "2025-05-18T22:54:05.786951Z",
     "shell.execute_reply": "2025-05-18T22:54:05.786135Z",
     "shell.execute_reply.started": "2025-05-18T22:54:05.764699Z"
    },
    "tags": []
   },
   "outputs": [],
   "source": [
    "df_mixed=new_df.sample(frac=1).reset_index(drop=True)"
   ]
  },
  {
   "cell_type": "code",
   "execution_count": 38,
   "id": "b41b1cd0-5178-48f4-a8fa-fe7a97c3a643",
   "metadata": {
    "execution": {
     "iopub.execute_input": "2025-05-18T22:54:05.788562Z",
     "iopub.status.busy": "2025-05-18T22:54:05.787745Z",
     "iopub.status.idle": "2025-05-18T22:54:05.871431Z",
     "shell.execute_reply": "2025-05-18T22:54:05.870580Z",
     "shell.execute_reply.started": "2025-05-18T22:54:05.788535Z"
    },
    "tags": []
   },
   "outputs": [],
   "source": [
    "labels_tensor=torch.FloatTensor(np.array([np.fromstring(row, dtype=int, sep=' ') for row in df_mixed['labels'].values]))"
   ]
  },
  {
   "cell_type": "code",
   "execution_count": 39,
   "id": "f866913a-849d-4072-81a8-f63d07ed895f",
   "metadata": {
    "execution": {
     "iopub.execute_input": "2025-05-18T22:54:05.873174Z",
     "iopub.status.busy": "2025-05-18T22:54:05.872526Z",
     "iopub.status.idle": "2025-05-18T22:54:11.396462Z",
     "shell.execute_reply": "2025-05-18T22:54:11.395650Z",
     "shell.execute_reply.started": "2025-05-18T22:54:05.873146Z"
    }
   },
   "outputs": [],
   "source": [
    "tf_idf = TfidfVectorizer(\n",
    "    max_df=0.95,      \n",
    "    min_df=1,\n",
    "    norm='l2',        \n",
    "sublinear_tf=True\n",
    ")\n",
    "X = tf_idf.fit_transform(df_mixed.clean_text) \n",
    "X_tensor = torch.FloatTensor(X.toarray())"
   ]
  },
  {
   "cell_type": "code",
   "execution_count": 42,
   "id": "fe44f9e8-0ef1-48e2-ade2-8bf9e5d48df6",
   "metadata": {
    "execution": {
     "iopub.execute_input": "2025-05-18T22:54:42.462204Z",
     "iopub.status.busy": "2025-05-18T22:54:42.461215Z",
     "iopub.status.idle": "2025-05-18T22:54:43.099824Z",
     "shell.execute_reply": "2025-05-18T22:54:43.099033Z",
     "shell.execute_reply.started": "2025-05-18T22:54:42.462160Z"
    },
    "tags": []
   },
   "outputs": [],
   "source": [
    "train_dataset=My_Dataset(X_tensor,labels_tensor,split='train')\n",
    "train_loader = DataLoader(train_dataset, batch_size=32, shuffle=True)\n",
    "\n",
    "val_dataset=My_Dataset(X_tensor,labels_tensor,split='val')\n",
    "val_loader = DataLoader(val_dataset, batch_size=32, shuffle=False)\n",
    "\n",
    "num_classes = 20\n",
    "num_uwords=X_tensor.shape[1]\n",
    "\n",
    "model = nn.Sequential(\n",
    "    nn.Linear(num_uwords,2048),\n",
    "    nn.BatchNorm1d(2048),\n",
    "    nn.ReLU(),\n",
    "    nn.Dropout(p=0.4),\n",
    "    \n",
    "    nn.Linear(2048,1024),\n",
    "    nn.BatchNorm1d(1024),\n",
    "    nn.LeakyReLU(0.2),\n",
    "    nn.Dropout(p=0.4),\n",
    "    \n",
    "    nn.Linear(1024,512),\n",
    "    nn.ReLU(),\n",
    "    nn.Dropout(p=0.4),\n",
    "    nn.Linear(512,num_classes)\n",
    ")\n",
    "device = torch.device(\"cuda\" if torch.cuda.is_available() else \"cpu\")\n",
    "model = model.to(device)"
   ]
  },
  {
   "cell_type": "code",
   "execution_count": 43,
   "id": "038ee709-b7e5-4b49-a193-13fe59c9709a",
   "metadata": {
    "execution": {
     "iopub.execute_input": "2025-05-18T22:54:45.878130Z",
     "iopub.status.busy": "2025-05-18T22:54:45.876948Z",
     "iopub.status.idle": "2025-05-18T22:59:40.720393Z",
     "shell.execute_reply": "2025-05-18T22:59:40.719660Z",
     "shell.execute_reply.started": "2025-05-18T22:54:45.878082Z"
    },
    "tags": []
   },
   "outputs": [
    {
     "data": {
      "image/png": "[encoded data removed]",
      "text/plain": [
       "<Figure size 1200x500 with 2 Axes>"
      ]
     },
     "metadata": {},
     "output_type": "display_data"
    },
    {
     "name": "stderr",
     "output_type": "stream",
     "text": [
      "100%|██████████| 15/15 [04:54<00:00, 19.65s/it]"
     ]
    },
    {
     "name": "stdout",
     "output_type": "stream",
     "text": [
      "Epoch 15/15 | LR: 0.001000 | Train Loss: 0.0880, Train f1: 0.93 | Val Loss: 0.2744, Val f1: 0.82\n",
      "EarlyStopping counter: 10 out of 2\n"
     ]
    },
    {
     "name": "stderr",
     "output_type": "stream",
     "text": [
      "\n"
     ]
    }
   ],
   "source": [
    "train_losses, val_losses = [], []\n",
    "train_accuracies, val_accuracies = [], []\n",
    "\n",
    "metric = MultilabelF1Score(num_labels=20)  \n",
    "criterion = nn.BCEWithLogitsLoss()\n",
    "optimizer = optim.Adam(model.parameters(), lr=0.001) \n",
    "scheduler = optim.lr_scheduler.StepLR(optimizer, step_size=2, gamma=0.5)\n",
    "\n",
    "early_stopping_optimizer_switch = EarlyStopping(patience=2, verbose=True)\n",
    "early_stopping_loss_switch = EarlyStopping(patience=2, verbose=True)\n",
    "\n",
    "warmup_epochs = 2\n",
    "base_lr = 0.01\n",
    "loss_switched = False\n",
    "optimizer_switched = False\n",
    "num_epochs=15\n",
    "\n",
    "for epoch in tqdm(range(num_epochs)):\n",
    "    model.train()\n",
    "    running_loss, correct, total = 0.0, 0, 0\n",
    "    \n",
    "    # if epoch < warmup_epochs:\n",
    "    #      optimizer = warmup_lr_scheduler(optimizer, epoch, warmup_epochs, base_lr, warmup_lr_start=1e-5)\n",
    "    # else:  \n",
    "    #      scheduler.step()\n",
    "        \n",
    "    all_preds_train = []\n",
    "    all_labels_train = []\n",
    "    \n",
    "    for inputs, targets in train_loader:\n",
    "        inputs = inputs.to(device)\n",
    "        targets= targets.to(device)\n",
    "        optimizer.zero_grad()\n",
    "        outputs = model(inputs)\n",
    "        loss = criterion(outputs, targets)\n",
    "        loss.backward()\n",
    "        optimizer.step()\n",
    "\n",
    "        running_loss += loss.item() * inputs.size(0)\n",
    "        predicted =  torch.sigmoid(outputs)\n",
    "        \n",
    "        all_preds_train.append(predicted.cpu())\n",
    "        all_labels_train.append(targets.cpu())\n",
    "\n",
    "    all_preds_train = torch.cat(all_preds_train, dim=0)\n",
    "    all_labels_train = torch.cat(all_labels_train, dim=0)\n",
    "    \n",
    "    train_loss = running_loss / len(train_loader.dataset)\n",
    "    train_acc =  metric(all_preds_train,all_labels_train)\n",
    "    \n",
    "    all_preds_val = []\n",
    "    all_labels_val = []\n",
    "    \n",
    "    model.eval()\n",
    "    running_val_loss, correct, total = 0.0, 0, 0\n",
    "    with torch.no_grad():\n",
    "        for inputs, targets in val_loader:\n",
    "            inputs, targets = inputs.to(device), targets.to(device)\n",
    "            outputs = model(inputs)\n",
    "            loss = criterion(outputs, targets)\n",
    "            running_val_loss += loss.item() * inputs.size(0)\n",
    "            predicted = torch.sigmoid(outputs).to(device)\n",
    "\n",
    "            all_preds_val.append(predicted.cpu())\n",
    "            all_labels_val.append(targets.cpu())\n",
    "            \n",
    "    all_preds_val = torch.cat(all_preds_val, dim=0)\n",
    "    all_labels_val = torch.cat(all_labels_val, dim=0)   \n",
    "    \n",
    "    val_loss = running_val_loss / len(val_loader.dataset)\n",
    "    val_acc = metric(all_preds_val,all_labels_val)\n",
    "\n",
    "    train_losses.append(train_loss)\n",
    "    val_losses.append(val_loss)\n",
    "    train_accuracies.append(train_acc.cpu().item())\n",
    "    val_accuracies.append(val_acc.cpu().item())\n",
    "\n",
    "    clear_output(wait=True)\n",
    "    plt.figure(figsize=(12,5))\n",
    "    plt.subplot(1,2,1)\n",
    "    plt.plot(range(1, len(train_losses)+1), train_losses, label=\"Train Loss\")\n",
    "    plt.plot(range(1, len(val_losses)+1), val_losses, label=\"Validation Loss\")\n",
    "    plt.xlabel(\"Epoch\")\n",
    "    plt.ylabel(\"Loss\")\n",
    "    plt.title(\"Loss over Epochs\")\n",
    "    plt.legend()\n",
    "    \n",
    "    plt.subplot(1,2,2)\n",
    "    plt.plot(range(1, len(train_accuracies)+1), train_accuracies, label=\"Train f1\")\n",
    "    plt.plot(range(1, len(val_accuracies)+1), val_accuracies, label=\"Validation f1\")\n",
    "    plt.xlabel(\"Epoch\")\n",
    "    plt.ylabel(\"F1\")\n",
    "    plt.title(\"F1 over Epochs\")\n",
    "    plt.legend()\n",
    "    plt.show()\n",
    "    print(f\"Epoch {epoch+1}/{num_epochs} | LR: {optimizer.param_groups[0]['lr']:.6f} | Train Loss: {train_loss:.4f}, Train f1: {train_acc:.2f} | Val Loss: {val_loss:.4f}, Val f1: {val_acc:.2f}\")\n",
    "\n",
    "    early_stopping_optimizer_switch(val_loss, model)\n",
    "    if early_stopping_optimizer_switch.early_stop and not optimizer_switched:\n",
    "        print(\"No improvement after loss switch. Switching optimizer to Adam.\")\n",
    "        optimizer = optim.SGD(model.parameters(), lr=0.001, momentum=0.9, weight_decay=0.0001)\n",
    "        base_lr = 0.001\n",
    "        optimizer_switched = True\n",
    "        early_stopping_optimizer_switch = EarlyStopping(patience=2, verbose=True)"
   ]
  },
  {
   "cell_type": "markdown",
   "id": "213f7b8c-e614-4287-8222-b0d24d215b24",
   "metadata": {},
   "source": [
    "##### Выводы при добавлении генерации в датасет: переобучение не ушло, сгенеренные данные добавлялись сначала во весь трейн, а потом там перемешивались и датасет делился на трейн валидцию, те моделька также предсказывает какую-то часть меток сгенеренных, скор не улучшился, но тут кстати в препроцессинге текста убирались англ слова, чтобы было легче строить генерацию"
   ]
  },
  {
   "cell_type": "markdown",
   "id": "ee66e61b-1d79-4eee-80dc-e67e5f99975c",
   "metadata": {
    "tags": []
   },
   "source": [
    "# Скор "
   ]
  },
  {
   "cell_type": "code",
   "execution_count": 7,
   "id": "059c61ee-4845-43f6-a76d-2c0dc02fedfa",
   "metadata": {
    "execution": {
     "iopub.execute_input": "2025-05-18T21:42:31.785003Z",
     "iopub.status.busy": "2025-05-18T21:42:31.784116Z",
     "iopub.status.idle": "2025-05-18T21:42:31.809576Z",
     "shell.execute_reply": "2025-05-18T21:42:31.808915Z",
     "shell.execute_reply.started": "2025-05-18T21:42:31.784971Z"
    },
    "tags": []
   },
   "outputs": [],
   "source": [
    "with open('requirements.txt', 'r') as f:\n",
    "    lines = f.readlines()\n",
    "\n",
    "with open('requirements.txt', 'w') as f:\n",
    "    for line in lines:\n",
    "        if '/app/ml_kernel' not in line.strip():\n",
    "            f.write(line)\n",
    "            "
   ]
  },
  {
   "cell_type": "code",
   "execution_count": 8,
   "id": "2016050f-43b2-4e54-8aad-542bd89f5985",
   "metadata": {
    "execution": {
     "iopub.execute_input": "2025-05-18T21:42:37.417821Z",
     "iopub.status.busy": "2025-05-18T21:42:37.416866Z",
     "iopub.status.idle": "2025-05-18T21:44:51.342987Z",
     "shell.execute_reply": "2025-05-18T21:44:51.342170Z",
     "shell.execute_reply.started": "2025-05-18T21:42:37.417778Z"
    }
   },
   "outputs": [
    {
     "name": "stdout",
     "output_type": "stream",
     "text": [
      "Defaulting to user installation because normal site-packages is not writeable\n",
      "Processing /default/cloud_ml (from -r requirements.txt (line 54))\n",
      "  Preparing metadata (setup.py) ... \u001b[?25ldone\n",
      "\u001b[?25hCollecting en-core-web-sm@ https://github.com/explosion/spacy-models/releases/download/en_core_web_sm-3.5.0/en_core_web_sm-3.5.0-py3-none-any.whl#sha256=0964370218b7e1672a30ac50d72cdc6b16f7c867496f1d60925691188f4d2510 (from -r requirements.txt (line 108))\n",
      "  Using cached https://github.com/explosion/spacy-models/releases/download/en_core_web_sm-3.5.0/en_core_web_sm-3.5.0-py3-none-any.whl (12.8 MB)\n",
      "Collecting jaxlib@ https://storage.googleapis.com/jax-releases/cuda11/jaxlib-0.4.13+cuda11.cudnn86-cp310-cp310-manylinux2014_x86_64.whl#sha256=af30095a0adf342b837a0ed9607e13177ee66f4e654c031a383aa546cd21d815 (from -r requirements.txt (line 210))\n",
      "  Using cached https://storage.googleapis.com/jax-releases/cuda11/jaxlib-0.4.13+cuda11.cudnn86-cp310-cp310-manylinux2014_x86_64.whl (188.3 MB)\n",
      "Collecting tensorflow@ https://storage.googleapis.com/tensorflow/linux/gpu/tensorflow-2.12.0-cp310-cp310-manylinux_2_17_x86_64.manylinux2014_x86_64.whl (from -r requirements.txt (line 442))\n",
      "  Downloading https://storage.googleapis.com/tensorflow/linux/gpu/tensorflow-2.12.0-cp310-cp310-manylinux_2_17_x86_64.manylinux2014_x86_64.whl (585.9 MB)\n",
      "\u001b[2K     \u001b[90m━━━━━━━━━━━━━━━━━━━━━━━━━━━━━━━━━━━━━━\u001b[0m \u001b[32m585.9/585.9 MB\u001b[0m \u001b[31m11.1 MB/s\u001b[0m eta \u001b[36m0:00:00\u001b[0m00:01\u001b[0m00:01\u001b[0m\n",
      "\u001b[?25hCollecting torch@ https://download.pytorch.org/whl/cu118/torch-2.0.1%2Bcu118-cp310-cp310-linux_x86_64.whl#sha256=a7a49d459bf4862f64f7bc1a68beccf8881c2fa9f3e0569608e16ba6f85ebf7b (from -r requirements.txt (line 465))\n",
      "  Downloading https://download.pytorch.org/whl/cu118/torch-2.0.1%2Bcu118-cp310-cp310-linux_x86_64.whl (2267.3 MB)\n",
      "\u001b[2K     \u001b[90m━━━━━━━━━━━━━━━━━━━━━━━━━━━━━━━━━━━━━━━━\u001b[0m \u001b[32m2.3/2.3 GB\u001b[0m \u001b[31m?\u001b[0m eta \u001b[36m0:00:00\u001b[0ma \u001b[36m0:00:01\u001b[0m00:01\u001b[0m\n",
      "\u001b[?25hCollecting torchaudio@ https://download.pytorch.org/whl/cu118/torchaudio-2.0.2%2Bcu118-cp310-cp310-linux_x86_64.whl#sha256=26692645ea061a005c57ec581a2d0425210ac6ba9f923edf11cc9b0ef3a111e9 (from -r requirements.txt (line 466))\n",
      "  Downloading https://download.pytorch.org/whl/cu118/torchaudio-2.0.2%2Bcu118-cp310-cp310-linux_x86_64.whl (4.4 MB)\n",
      "\u001b[2K     \u001b[90m━━━━━━━━━━━━━━━━━━━━━━━━━━━━━━━━━━━━━━━━\u001b[0m \u001b[32m4.4/4.4 MB\u001b[0m \u001b[31m5.1 MB/s\u001b[0m eta \u001b[36m0:00:00\u001b[0mta \u001b[36m0:00:01\u001b[0mm\n",
      "\u001b[?25hCollecting torchvision@ https://download.pytorch.org/whl/cu118/torchvision-0.15.2%2Bcu118-cp310-cp310-linux_x86_64.whl#sha256=19ca4ab5d6179bbe53cff79df1a855ee6533c2861ddc7389f68349d8b9f8302a (from -r requirements.txt (line 471))\n",
      "  Downloading https://download.pytorch.org/whl/cu118/torchvision-0.15.2%2Bcu118-cp310-cp310-linux_x86_64.whl (6.1 MB)\n",
      "\u001b[2K     \u001b[90m━━━━━━━━━━━━━━━━━━━━━━━━━━━━━━━━━━━━━━━━\u001b[0m \u001b[32m6.1/6.1 MB\u001b[0m \u001b[31m1.5 MB/s\u001b[0m eta \u001b[36m0:00:00\u001b[0m0:00:01\u001b[0m\n",
      "\u001b[?25hRequirement already satisfied: absl-py==1.4.0 in /usr/local/lib/python3.10/dist-packages (from -r requirements.txt (line 1)) (1.4.0)\n",
      "Requirement already satisfied: aiobotocore==2.1.2 in /usr/local/lib/python3.10/dist-packages (from -r requirements.txt (line 2)) (2.1.2)\n",
      "Requirement already satisfied: aiohttp==3.8.5 in /usr/local/lib/python3.10/dist-packages (from -r requirements.txt (line 3)) (3.8.5)\n",
      "Requirement already satisfied: aiohttp-retry==2.8.3 in /usr/local/lib/python3.10/dist-packages (from -r requirements.txt (line 4)) (2.8.3)\n",
      "Requirement already satisfied: aioitertools==0.11.0 in /usr/local/lib/python3.10/dist-packages (from -r requirements.txt (line 5)) (0.11.0)\n",
      "Requirement already satisfied: aiosignal==1.3.1 in /usr/local/lib/python3.10/dist-packages (from -r requirements.txt (line 6)) (1.3.1)\n",
      "Requirement already satisfied: alabaster==0.7.13 in /usr/local/lib/python3.10/dist-packages (from -r requirements.txt (line 7)) (0.7.13)\n",
      "Requirement already satisfied: albumentations==1.2.1 in /usr/local/lib/python3.10/dist-packages (from -r requirements.txt (line 8)) (1.2.1)\n",
      "Requirement already satisfied: altair==4.2.2 in /usr/local/lib/python3.10/dist-packages (from -r requirements.txt (line 9)) (4.2.2)\n",
      "Requirement already satisfied: amqp==5.1.1 in /usr/local/lib/python3.10/dist-packages (from -r requirements.txt (line 10)) (5.1.1)\n",
      "Requirement already satisfied: antlr4-python3-runtime==4.9.3 in /usr/local/lib/python3.10/dist-packages (from -r requirements.txt (line 11)) (4.9.3)\n",
      "Requirement already satisfied: anyio==3.7.1 in /usr/local/lib/python3.10/dist-packages (from -r requirements.txt (line 12)) (3.7.1)\n",
      "Requirement already satisfied: appdirs==1.4.4 in /usr/local/lib/python3.10/dist-packages (from -r requirements.txt (line 13)) (1.4.4)\n",
      "Requirement already satisfied: argon2-cffi==21.3.0 in /usr/local/lib/python3.10/dist-packages (from -r requirements.txt (line 14)) (21.3.0)\n",
      "Requirement already satisfied: argon2-cffi-bindings==21.2.0 in /usr/local/lib/python3.10/dist-packages (from -r requirements.txt (line 15)) (21.2.0)\n",
      "Requirement already satisfied: array-record==0.4.0 in /usr/local/lib/python3.10/dist-packages (from -r requirements.txt (line 16)) (0.4.0)\n",
      "Requirement already satisfied: arviz==0.15.1 in /usr/local/lib/python3.10/dist-packages (from -r requirements.txt (line 17)) (0.15.1)\n",
      "Requirement already satisfied: astropy==5.2.2 in /usr/local/lib/python3.10/dist-packages (from -r requirements.txt (line 18)) (5.2.2)\n",
      "Requirement already satisfied: astunparse==1.6.3 in /usr/local/lib/python3.10/dist-packages (from -r requirements.txt (line 19)) (1.6.3)\n",
      "Requirement already satisfied: async-timeout==4.0.2 in /usr/local/lib/python3.10/dist-packages (from -r requirements.txt (line 20)) (4.0.2)\n",
      "Requirement already satisfied: asyncssh==2.13.2 in /usr/local/lib/python3.10/dist-packages (from -r requirements.txt (line 21)) (2.13.2)\n",
      "Requirement already satisfied: atpublic==4.0 in /usr/local/lib/python3.10/dist-packages (from -r requirements.txt (line 22)) (4.0)\n",
      "Requirement already satisfied: attrs==23.1.0 in /usr/local/lib/python3.10/dist-packages (from -r requirements.txt (line 23)) (23.1.0)\n",
      "Requirement already satisfied: audioread==3.0.0 in /usr/local/lib/python3.10/dist-packages (from -r requirements.txt (line 24)) (3.0.0)\n",
      "Requirement already satisfied: autograd==1.6.2 in /usr/local/lib/python3.10/dist-packages (from -r requirements.txt (line 25)) (1.6.2)\n",
      "Requirement already satisfied: Babel==2.12.1 in /usr/local/lib/python3.10/dist-packages (from -r requirements.txt (line 26)) (2.12.1)\n",
      "Requirement already satisfied: backcall==0.2.0 in /usr/local/lib/python3.10/dist-packages (from -r requirements.txt (line 27)) (0.2.0)\n",
      "Requirement already satisfied: bcrypt==4.0.1 in /usr/local/lib/python3.10/dist-packages (from -r requirements.txt (line 28)) (4.0.1)\n",
      "Requirement already satisfied: beautifulsoup4==4.11.2 in /usr/local/lib/python3.10/dist-packages (from -r requirements.txt (line 29)) (4.11.2)\n",
      "Requirement already satisfied: billiard==4.1.0 in /usr/local/lib/python3.10/dist-packages (from -r requirements.txt (line 30)) (4.1.0)\n",
      "Requirement already satisfied: bleach==6.0.0 in /usr/local/lib/python3.10/dist-packages (from -r requirements.txt (line 31)) (6.0.0)\n",
      "Requirement already satisfied: blinker==1.4 in /usr/lib/python3/dist-packages (from -r requirements.txt (line 32)) (1.4)\n",
      "Requirement already satisfied: blis==0.7.10 in /usr/local/lib/python3.10/dist-packages (from -r requirements.txt (line 33)) (0.7.10)\n",
      "Requirement already satisfied: blosc2==2.0.0 in /usr/local/lib/python3.10/dist-packages (from -r requirements.txt (line 34)) (2.0.0)\n",
      "Requirement already satisfied: bokeh==3.1.1 in /usr/local/lib/python3.10/dist-packages (from -r requirements.txt (line 35)) (3.1.1)\n",
      "Requirement already satisfied: boto3==1.20.24 in /usr/local/lib/python3.10/dist-packages (from -r requirements.txt (line 36)) (1.20.24)\n",
      "Requirement already satisfied: botocore==1.23.24 in /usr/local/lib/python3.10/dist-packages (from -r requirements.txt (line 37)) (1.23.24)\n",
      "Requirement already satisfied: branca==0.6.0 in /usr/local/lib/python3.10/dist-packages (from -r requirements.txt (line 38)) (0.6.0)\n",
      "Requirement already satisfied: build==0.10.0 in /usr/local/lib/python3.10/dist-packages (from -r requirements.txt (line 39)) (0.10.0)\n",
      "Requirement already satisfied: CacheControl==0.13.1 in /usr/local/lib/python3.10/dist-packages (from -r requirements.txt (line 40)) (0.13.1)\n",
      "Requirement already satisfied: cachetools==5.3.1 in /usr/local/lib/python3.10/dist-packages (from -r requirements.txt (line 41)) (5.3.1)\n",
      "Requirement already satisfied: catalogue==2.0.9 in /usr/local/lib/python3.10/dist-packages (from -r requirements.txt (line 42)) (2.0.9)\n",
      "Requirement already satisfied: celery==5.3.1 in /usr/local/lib/python3.10/dist-packages (from -r requirements.txt (line 43)) (5.3.1)\n",
      "Requirement already satisfied: certifi==2023.7.22 in /usr/local/lib/python3.10/dist-packages (from -r requirements.txt (line 44)) (2023.7.22)\n",
      "Requirement already satisfied: cffi==1.15.1 in /usr/local/lib/python3.10/dist-packages (from -r requirements.txt (line 45)) (1.15.1)\n",
      "Requirement already satisfied: chardet==4.0.0 in /usr/local/lib/python3.10/dist-packages (from -r requirements.txt (line 46)) (4.0.0)\n",
      "Requirement already satisfied: charset-normalizer==2.0.12 in /usr/local/lib/python3.10/dist-packages (from -r requirements.txt (line 47)) (2.0.12)\n",
      "Requirement already satisfied: chex==0.1.7 in /usr/local/lib/python3.10/dist-packages (from -r requirements.txt (line 48)) (0.1.7)\n",
      "Requirement already satisfied: click==8.1.6 in /usr/local/lib/python3.10/dist-packages (from -r requirements.txt (line 49)) (8.1.6)\n",
      "Requirement already satisfied: click-didyoumean==0.3.0 in /usr/local/lib/python3.10/dist-packages (from -r requirements.txt (line 50)) (0.3.0)\n",
      "Requirement already satisfied: click-plugins==1.1.1 in /usr/local/lib/python3.10/dist-packages (from -r requirements.txt (line 51)) (1.1.1)\n",
      "Requirement already satisfied: click-repl==0.3.0 in /usr/local/lib/python3.10/dist-packages (from -r requirements.txt (line 52)) (0.3.0)\n",
      "Requirement already satisfied: cligj==0.7.2 in /usr/local/lib/python3.10/dist-packages (from -r requirements.txt (line 53)) (0.7.2)\n",
      "Requirement already satisfied: cloudpickle==2.2.1 in /usr/local/lib/python3.10/dist-packages (from -r requirements.txt (line 55)) (2.2.1)\n",
      "Requirement already satisfied: cmake==3.25.2 in /usr/local/lib/python3.10/dist-packages (from -r requirements.txt (line 56)) (3.25.2)\n",
      "Requirement already satisfied: cmdstanpy==1.1.0 in /usr/local/lib/python3.10/dist-packages (from -r requirements.txt (line 57)) (1.1.0)\n",
      "Requirement already satisfied: colorama==0.4.6 in /usr/local/lib/python3.10/dist-packages (from -r requirements.txt (line 58)) (0.4.6)\n",
      "Requirement already satisfied: colorcet==3.0.1 in /usr/local/lib/python3.10/dist-packages (from -r requirements.txt (line 59)) (3.0.1)\n",
      "Requirement already satisfied: colorlover==0.3.0 in /usr/local/lib/python3.10/dist-packages (from -r requirements.txt (line 60)) (0.3.0)\n",
      "Requirement already satisfied: community==1.0.0b1 in /usr/local/lib/python3.10/dist-packages (from -r requirements.txt (line 61)) (1.0.0b1)\n",
      "Requirement already satisfied: confection==0.1.0 in /usr/local/lib/python3.10/dist-packages (from -r requirements.txt (line 62)) (0.1.0)\n",
      "Requirement already satisfied: configobj==5.0.8 in /usr/local/lib/python3.10/dist-packages (from -r requirements.txt (line 63)) (5.0.8)\n",
      "Requirement already satisfied: cons==0.4.6 in /usr/local/lib/python3.10/dist-packages (from -r requirements.txt (line 64)) (0.4.6)\n",
      "Requirement already satisfied: contextlib2==21.6.0 in /usr/local/lib/python3.10/dist-packages (from -r requirements.txt (line 65)) (21.6.0)\n",
      "Requirement already satisfied: contourpy==1.1.0 in /usr/local/lib/python3.10/dist-packages (from -r requirements.txt (line 66)) (1.1.0)\n",
      "Requirement already satisfied: convertdate==2.4.0 in /usr/local/lib/python3.10/dist-packages (from -r requirements.txt (line 67)) (2.4.0)\n",
      "Requirement already satisfied: cryptography==3.4.8 in /usr/lib/python3/dist-packages (from -r requirements.txt (line 68)) (3.4.8)\n",
      "Requirement already satisfied: cufflinks==0.17.3 in /usr/local/lib/python3.10/dist-packages (from -r requirements.txt (line 69)) (0.17.3)\n",
      "Requirement already satisfied: cupy-cuda11x==11.0.0 in /usr/local/lib/python3.10/dist-packages (from -r requirements.txt (line 70)) (11.0.0)\n",
      "Requirement already satisfied: cvxopt==1.3.1 in /usr/local/lib/python3.10/dist-packages (from -r requirements.txt (line 71)) (1.3.1)\n",
      "Requirement already satisfied: cvxpy==1.3.2 in /usr/local/lib/python3.10/dist-packages (from -r requirements.txt (line 72)) (1.3.2)\n",
      "Requirement already satisfied: cycler==0.11.0 in /usr/local/lib/python3.10/dist-packages (from -r requirements.txt (line 73)) (0.11.0)\n",
      "Requirement already satisfied: cymem==2.0.7 in /usr/local/lib/python3.10/dist-packages (from -r requirements.txt (line 74)) (2.0.7)\n",
      "Requirement already satisfied: Cython==3.0.11 in /kernel/lib/python3.10/site-packages (from -r requirements.txt (line 75)) (3.0.11)\n",
      "Requirement already satisfied: dask==2022.12.1 in /usr/local/lib/python3.10/dist-packages (from -r requirements.txt (line 76)) (2022.12.1)\n",
      "Requirement already satisfied: datascience==0.17.6 in /usr/local/lib/python3.10/dist-packages (from -r requirements.txt (line 77)) (0.17.6)\n",
      "Requirement already satisfied: DAWG-Python==0.7.2 in /usr/local/lib/python3.10/dist-packages (from -r requirements.txt (line 78)) (0.7.2)\n",
      "Requirement already satisfied: db-dtypes==1.1.1 in /usr/local/lib/python3.10/dist-packages (from -r requirements.txt (line 79)) (1.1.1)\n",
      "Requirement already satisfied: dbus-python==1.2.18 in /usr/lib/python3/dist-packages (from -r requirements.txt (line 80)) (1.2.18)\n",
      "Requirement already satisfied: debugpy==1.8.5 in /kernel/lib/python3.10/site-packages (from -r requirements.txt (line 81)) (1.8.5)\n",
      "Requirement already satisfied: decorator==4.4.2 in /usr/local/lib/python3.10/dist-packages (from -r requirements.txt (line 82)) (4.4.2)\n",
      "Requirement already satisfied: defusedxml==0.7.1 in /usr/local/lib/python3.10/dist-packages (from -r requirements.txt (line 83)) (0.7.1)\n",
      "Requirement already satisfied: dictdiffer==0.9.0 in /usr/local/lib/python3.10/dist-packages (from -r requirements.txt (line 84)) (0.9.0)\n",
      "Requirement already satisfied: diskcache==5.6.1 in /usr/local/lib/python3.10/dist-packages (from -r requirements.txt (line 85)) (5.6.1)\n",
      "Requirement already satisfied: distributed==2022.12.1 in /usr/local/lib/python3.10/dist-packages (from -r requirements.txt (line 86)) (2022.12.1)\n",
      "Requirement already satisfied: distro==1.7.0 in /usr/lib/python3/dist-packages (from -r requirements.txt (line 87)) (1.7.0)\n",
      "Requirement already satisfied: distro-info==1.1+ubuntu0.1 in /usr/lib/python3/dist-packages (from -r requirements.txt (line 88)) (1.1+ubuntu0.1)\n",
      "Requirement already satisfied: dlib==19.24.2 in /usr/local/lib/python3.10/dist-packages (from -r requirements.txt (line 89)) (19.24.2)\n",
      "Requirement already satisfied: dm-tree==0.1.8 in /usr/local/lib/python3.10/dist-packages (from -r requirements.txt (line 90)) (0.1.8)\n",
      "Requirement already satisfied: docopt==0.6.2 in /usr/local/lib/python3.10/dist-packages (from -r requirements.txt (line 91)) (0.6.2)\n",
      "Requirement already satisfied: docutils==0.18.1 in /usr/local/lib/python3.10/dist-packages (from -r requirements.txt (line 92)) (0.18.1)\n",
      "Requirement already satisfied: dopamine-rl==4.0.6 in /usr/local/lib/python3.10/dist-packages (from -r requirements.txt (line 93)) (4.0.6)\n",
      "Requirement already satisfied: dpath==2.1.6 in /usr/local/lib/python3.10/dist-packages (from -r requirements.txt (line 94)) (2.1.6)\n",
      "Requirement already satisfied: duckdb==0.8.1 in /usr/local/lib/python3.10/dist-packages (from -r requirements.txt (line 95)) (0.8.1)\n",
      "Requirement already satisfied: dulwich==0.21.5 in /usr/local/lib/python3.10/dist-packages (from -r requirements.txt (line 96)) (0.21.5)\n",
      "Requirement already satisfied: dvc==2.58.2 in /usr/local/lib/python3.10/dist-packages (from -r requirements.txt (line 97)) (2.58.2)\n",
      "Requirement already satisfied: dvc-data==0.51.0 in /usr/local/lib/python3.10/dist-packages (from -r requirements.txt (line 98)) (0.51.0)\n",
      "Requirement already satisfied: dvc-http==2.30.2 in /usr/local/lib/python3.10/dist-packages (from -r requirements.txt (line 99)) (2.30.2)\n",
      "Requirement already satisfied: dvc-objects==0.25.0 in /usr/local/lib/python3.10/dist-packages (from -r requirements.txt (line 100)) (0.25.0)\n",
      "Requirement already satisfied: dvc-render==0.5.3 in /usr/local/lib/python3.10/dist-packages (from -r requirements.txt (line 101)) (0.5.3)\n",
      "Requirement already satisfied: dvc-studio-client==0.13.0 in /usr/local/lib/python3.10/dist-packages (from -r requirements.txt (line 102)) (0.13.0)\n",
      "Requirement already satisfied: dvc-task==0.3.0 in /usr/local/lib/python3.10/dist-packages (from -r requirements.txt (line 103)) (0.3.0)\n",
      "Requirement already satisfied: earthengine-api==0.1.361 in /usr/local/lib/python3.10/dist-packages (from -r requirements.txt (line 104)) (0.1.361)\n",
      "Requirement already satisfied: easydict==1.10 in /usr/local/lib/python3.10/dist-packages (from -r requirements.txt (line 105)) (1.10)\n",
      "Requirement already satisfied: ecos==2.0.12 in /usr/local/lib/python3.10/dist-packages (from -r requirements.txt (line 106)) (2.0.12)\n",
      "Requirement already satisfied: editdistance==0.6.2 in /usr/local/lib/python3.10/dist-packages (from -r requirements.txt (line 107)) (0.6.2)\n",
      "Requirement already satisfied: entrypoints==0.4 in /usr/local/lib/python3.10/dist-packages (from -r requirements.txt (line 109)) (0.4)\n",
      "Requirement already satisfied: ephem==4.1.4 in /usr/local/lib/python3.10/dist-packages (from -r requirements.txt (line 110)) (4.1.4)\n",
      "Requirement already satisfied: et-xmlfile==1.1.0 in /usr/local/lib/python3.10/dist-packages (from -r requirements.txt (line 111)) (1.1.0)\n",
      "Requirement already satisfied: etils==1.4.0 in /usr/local/lib/python3.10/dist-packages (from -r requirements.txt (line 112)) (1.4.0)\n",
      "Requirement already satisfied: etuples==0.3.9 in /usr/local/lib/python3.10/dist-packages (from -r requirements.txt (line 113)) (0.3.9)\n",
      "Requirement already satisfied: exceptiongroup==1.1.2 in /usr/local/lib/python3.10/dist-packages (from -r requirements.txt (line 114)) (1.1.2)\n",
      "Requirement already satisfied: fastai==2.7.12 in /usr/local/lib/python3.10/dist-packages (from -r requirements.txt (line 115)) (2.7.12)\n",
      "Requirement already satisfied: fastcore==1.5.29 in /usr/local/lib/python3.10/dist-packages (from -r requirements.txt (line 116)) (1.5.29)\n",
      "Requirement already satisfied: fastdownload==0.0.7 in /usr/local/lib/python3.10/dist-packages (from -r requirements.txt (line 117)) (0.0.7)\n",
      "Requirement already satisfied: fastjsonschema==2.18.0 in /usr/local/lib/python3.10/dist-packages (from -r requirements.txt (line 118)) (2.18.0)\n",
      "Requirement already satisfied: fastprogress==1.0.3 in /usr/local/lib/python3.10/dist-packages (from -r requirements.txt (line 119)) (1.0.3)\n",
      "Requirement already satisfied: fastrlock==0.8.1 in /usr/local/lib/python3.10/dist-packages (from -r requirements.txt (line 120)) (0.8.1)\n",
      "Requirement already satisfied: filelock==3.12.2 in /usr/local/lib/python3.10/dist-packages (from -r requirements.txt (line 121)) (3.12.2)\n",
      "Requirement already satisfied: Fiona==1.9.4.post1 in /usr/local/lib/python3.10/dist-packages (from -r requirements.txt (line 122)) (1.9.4.post1)\n",
      "Requirement already satisfied: firebase-admin==5.3.0 in /usr/local/lib/python3.10/dist-packages (from -r requirements.txt (line 123)) (5.3.0)\n",
      "Requirement already satisfied: Flask==2.2.5 in /usr/local/lib/python3.10/dist-packages (from -r requirements.txt (line 124)) (2.2.5)\n",
      "Requirement already satisfied: flatbuffers==23.5.26 in /usr/local/lib/python3.10/dist-packages (from -r requirements.txt (line 125)) (23.5.26)\n",
      "Requirement already satisfied: flatten-dict==0.4.2 in /usr/local/lib/python3.10/dist-packages (from -r requirements.txt (line 126)) (0.4.2)\n",
      "Requirement already satisfied: flax==0.7.0 in /usr/local/lib/python3.10/dist-packages (from -r requirements.txt (line 127)) (0.7.0)\n",
      "Requirement already satisfied: flufl.lock==8.0.2 in /usr/local/lib/python3.10/dist-packages (from -r requirements.txt (line 128)) (8.0.2)\n",
      "Requirement already satisfied: focal-loss-torch==0.1.2 in /home/jupyter/.local/lib/python3.10/site-packages (from -r requirements.txt (line 129)) (0.1.2)\n",
      "Requirement already satisfied: folium==0.14.0 in /usr/local/lib/python3.10/dist-packages (from -r requirements.txt (line 130)) (0.14.0)\n",
      "Requirement already satisfied: fonttools==4.41.1 in /usr/local/lib/python3.10/dist-packages (from -r requirements.txt (line 131)) (4.41.1)\n",
      "Requirement already satisfied: frozendict==2.3.8 in /usr/local/lib/python3.10/dist-packages (from -r requirements.txt (line 132)) (2.3.8)\n",
      "Requirement already satisfied: frozenlist==1.4.0 in /usr/local/lib/python3.10/dist-packages (from -r requirements.txt (line 133)) (1.4.0)\n",
      "Requirement already satisfied: fsspec==2023.6.0 in /usr/local/lib/python3.10/dist-packages (from -r requirements.txt (line 134)) (2023.6.0)\n",
      "Requirement already satisfied: funcy==2.0 in /usr/local/lib/python3.10/dist-packages (from -r requirements.txt (line 135)) (2.0)\n",
      "Requirement already satisfied: future==0.18.3 in /usr/local/lib/python3.10/dist-packages (from -r requirements.txt (line 136)) (0.18.3)\n",
      "Requirement already satisfied: gast==0.4.0 in /usr/local/lib/python3.10/dist-packages (from -r requirements.txt (line 137)) (0.4.0)\n",
      "Requirement already satisfied: gcsfs==2023.6.0 in /usr/local/lib/python3.10/dist-packages (from -r requirements.txt (line 138)) (2023.6.0)\n",
      "Requirement already satisfied: gdown==4.6.6 in /usr/local/lib/python3.10/dist-packages (from -r requirements.txt (line 139)) (4.6.6)\n",
      "Requirement already satisfied: gensim==4.3.1 in /usr/local/lib/python3.10/dist-packages (from -r requirements.txt (line 140)) (4.3.1)\n",
      "Requirement already satisfied: geographiclib==2.0 in /usr/local/lib/python3.10/dist-packages (from -r requirements.txt (line 141)) (2.0)\n",
      "Requirement already satisfied: geopandas==0.13.2 in /usr/local/lib/python3.10/dist-packages (from -r requirements.txt (line 142)) (0.13.2)\n",
      "Requirement already satisfied: geopy==2.3.0 in /usr/local/lib/python3.10/dist-packages (from -r requirements.txt (line 143)) (2.3.0)\n",
      "Requirement already satisfied: gin-config==0.5.0 in /usr/local/lib/python3.10/dist-packages (from -r requirements.txt (line 144)) (0.5.0)\n",
      "Requirement already satisfied: gitdb==4.0.10 in /usr/local/lib/python3.10/dist-packages (from -r requirements.txt (line 145)) (4.0.10)\n",
      "Requirement already satisfied: GitPython==3.1.32 in /usr/local/lib/python3.10/dist-packages (from -r requirements.txt (line 146)) (3.1.32)\n",
      "Requirement already satisfied: glob2==0.7 in /usr/local/lib/python3.10/dist-packages (from -r requirements.txt (line 147)) (0.7)\n",
      "Requirement already satisfied: google==2.0.3 in /usr/local/lib/python3.10/dist-packages (from -r requirements.txt (line 148)) (2.0.3)\n",
      "Requirement already satisfied: google-api-core==2.11.1 in /usr/local/lib/python3.10/dist-packages (from -r requirements.txt (line 149)) (2.11.1)\n",
      "Requirement already satisfied: google-api-python-client==2.84.0 in /usr/local/lib/python3.10/dist-packages (from -r requirements.txt (line 150)) (2.84.0)\n",
      "Requirement already satisfied: google-auth==2.17.3 in /usr/local/lib/python3.10/dist-packages (from -r requirements.txt (line 151)) (2.17.3)\n",
      "Requirement already satisfied: google-auth-httplib2==0.1.0 in /usr/local/lib/python3.10/dist-packages (from -r requirements.txt (line 152)) (0.1.0)\n",
      "Requirement already satisfied: google-auth-oauthlib==1.0.0 in /usr/local/lib/python3.10/dist-packages (from -r requirements.txt (line 153)) (1.0.0)\n",
      "Requirement already satisfied: google-cloud-bigquery==3.10.0 in /usr/local/lib/python3.10/dist-packages (from -r requirements.txt (line 154)) (3.10.0)\n",
      "Requirement already satisfied: google-cloud-bigquery-connection==1.12.1 in /usr/local/lib/python3.10/dist-packages (from -r requirements.txt (line 155)) (1.12.1)\n",
      "Requirement already satisfied: google-cloud-bigquery-storage==2.22.0 in /usr/local/lib/python3.10/dist-packages (from -r requirements.txt (line 156)) (2.22.0)\n",
      "Requirement already satisfied: google-cloud-core==2.3.3 in /usr/local/lib/python3.10/dist-packages (from -r requirements.txt (line 157)) (2.3.3)\n",
      "Requirement already satisfied: google-cloud-datastore==2.15.2 in /usr/local/lib/python3.10/dist-packages (from -r requirements.txt (line 158)) (2.15.2)\n",
      "Requirement already satisfied: google-cloud-firestore==2.11.1 in /usr/local/lib/python3.10/dist-packages (from -r requirements.txt (line 159)) (2.11.1)\n",
      "Requirement already satisfied: google-cloud-functions==1.13.1 in /usr/local/lib/python3.10/dist-packages (from -r requirements.txt (line 160)) (1.13.1)\n",
      "Requirement already satisfied: google-cloud-language==2.9.1 in /usr/local/lib/python3.10/dist-packages (from -r requirements.txt (line 161)) (2.9.1)\n",
      "Requirement already satisfied: google-cloud-storage==2.8.0 in /usr/local/lib/python3.10/dist-packages (from -r requirements.txt (line 162)) (2.8.0)\n",
      "Requirement already satisfied: google-cloud-translate==3.11.2 in /usr/local/lib/python3.10/dist-packages (from -r requirements.txt (line 163)) (3.11.2)\n",
      "Requirement already satisfied: google-crc32c==1.5.0 in /usr/local/lib/python3.10/dist-packages (from -r requirements.txt (line 164)) (1.5.0)\n",
      "Requirement already satisfied: google-pasta==0.2.0 in /usr/local/lib/python3.10/dist-packages (from -r requirements.txt (line 165)) (0.2.0)\n",
      "Requirement already satisfied: google-resumable-media==2.5.0 in /usr/local/lib/python3.10/dist-packages (from -r requirements.txt (line 166)) (2.5.0)\n",
      "Requirement already satisfied: googleapis-common-protos==1.59.1 in /usr/local/lib/python3.10/dist-packages (from -r requirements.txt (line 167)) (1.59.1)\n",
      "Requirement already satisfied: googledrivedownloader==0.4 in /usr/local/lib/python3.10/dist-packages (from -r requirements.txt (line 168)) (0.4)\n",
      "Requirement already satisfied: grandalf==0.8 in /usr/local/lib/python3.10/dist-packages (from -r requirements.txt (line 169)) (0.8)\n",
      "Requirement already satisfied: graphviz==0.20.1 in /usr/local/lib/python3.10/dist-packages (from -r requirements.txt (line 170)) (0.20.1)\n",
      "Requirement already satisfied: greenlet==2.0.2 in /usr/local/lib/python3.10/dist-packages (from -r requirements.txt (line 171)) (2.0.2)\n",
      "Requirement already satisfied: grpc-google-iam-v1==0.12.6 in /usr/local/lib/python3.10/dist-packages (from -r requirements.txt (line 172)) (0.12.6)\n",
      "Requirement already satisfied: grpcio==1.56.2 in /usr/local/lib/python3.10/dist-packages (from -r requirements.txt (line 173)) (1.56.2)\n",
      "Requirement already satisfied: grpcio-status==1.48.2 in /usr/local/lib/python3.10/dist-packages (from -r requirements.txt (line 174)) (1.48.2)\n",
      "Requirement already satisfied: gspread==3.4.2 in /usr/local/lib/python3.10/dist-packages (from -r requirements.txt (line 175)) (3.4.2)\n",
      "Requirement already satisfied: gspread-dataframe==3.3.1 in /usr/local/lib/python3.10/dist-packages (from -r requirements.txt (line 176)) (3.3.1)\n",
      "Requirement already satisfied: gym==0.25.2 in /usr/local/lib/python3.10/dist-packages (from -r requirements.txt (line 177)) (0.25.2)\n",
      "Requirement already satisfied: gym-notices==0.0.8 in /usr/local/lib/python3.10/dist-packages (from -r requirements.txt (line 178)) (0.0.8)\n",
      "Requirement already satisfied: h5netcdf==1.2.0 in /usr/local/lib/python3.10/dist-packages (from -r requirements.txt (line 179)) (1.2.0)\n",
      "Requirement already satisfied: h5py==3.8.0 in /usr/local/lib/python3.10/dist-packages (from -r requirements.txt (line 180)) (3.8.0)\n",
      "Requirement already satisfied: holidays==0.29 in /usr/local/lib/python3.10/dist-packages (from -r requirements.txt (line 181)) (0.29)\n",
      "Requirement already satisfied: holoviews==1.15.4 in /usr/local/lib/python3.10/dist-packages (from -r requirements.txt (line 182)) (1.15.4)\n",
      "Requirement already satisfied: html5lib==1.1 in /usr/local/lib/python3.10/dist-packages (from -r requirements.txt (line 183)) (1.1)\n",
      "Requirement already satisfied: httpimport==1.3.1 in /usr/local/lib/python3.10/dist-packages (from -r requirements.txt (line 184)) (1.3.1)\n",
      "Requirement already satisfied: httplib2==0.21.0 in /usr/local/lib/python3.10/dist-packages (from -r requirements.txt (line 185)) (0.21.0)\n",
      "Requirement already satisfied: huggingface-hub==0.31.2 in /home/jupyter/.local/lib/python3.10/site-packages (from -r requirements.txt (line 186)) (0.31.2)\n",
      "Requirement already satisfied: humanize==4.6.0 in /usr/local/lib/python3.10/dist-packages (from -r requirements.txt (line 187)) (4.6.0)\n",
      "Requirement already satisfied: hydra-core==1.3.2 in /usr/local/lib/python3.10/dist-packages (from -r requirements.txt (line 188)) (1.3.2)\n",
      "Requirement already satisfied: hyperopt==0.2.7 in /usr/local/lib/python3.10/dist-packages (from -r requirements.txt (line 189)) (0.2.7)\n",
      "Requirement already satisfied: idna==3.4 in /usr/local/lib/python3.10/dist-packages (from -r requirements.txt (line 190)) (3.4)\n",
      "Requirement already satisfied: imageio==2.25.1 in /usr/local/lib/python3.10/dist-packages (from -r requirements.txt (line 191)) (2.25.1)\n",
      "Requirement already satisfied: imageio-ffmpeg==0.4.8 in /usr/local/lib/python3.10/dist-packages (from -r requirements.txt (line 192)) (0.4.8)\n",
      "Requirement already satisfied: imagesize==1.4.1 in /usr/local/lib/python3.10/dist-packages (from -r requirements.txt (line 193)) (1.4.1)\n",
      "Requirement already satisfied: imbalanced-learn==0.10.1 in /usr/local/lib/python3.10/dist-packages (from -r requirements.txt (line 194)) (0.10.1)\n",
      "Requirement already satisfied: imgaug==0.4.0 in /usr/local/lib/python3.10/dist-packages (from -r requirements.txt (line 195)) (0.4.0)\n",
      "Requirement already satisfied: importlib-metadata==4.6.4 in /usr/lib/python3/dist-packages (from -r requirements.txt (line 196)) (4.6.4)\n",
      "Requirement already satisfied: importlib-resources==6.0.0 in /usr/local/lib/python3.10/dist-packages (from -r requirements.txt (line 197)) (6.0.0)\n",
      "Requirement already satisfied: imutils==0.5.4 in /usr/local/lib/python3.10/dist-packages (from -r requirements.txt (line 198)) (0.5.4)\n",
      "Requirement already satisfied: inflect==6.0.5 in /usr/local/lib/python3.10/dist-packages (from -r requirements.txt (line 199)) (6.0.5)\n",
      "Requirement already satisfied: iniconfig==2.0.0 in /usr/local/lib/python3.10/dist-packages (from -r requirements.txt (line 200)) (2.0.0)\n",
      "Requirement already satisfied: intel-openmp==2023.2.0 in /usr/local/lib/python3.10/dist-packages (from -r requirements.txt (line 201)) (2023.2.0)\n",
      "Requirement already satisfied: ipykernel==5.5.6 in /usr/local/lib/python3.10/dist-packages (from -r requirements.txt (line 202)) (5.5.6)\n",
      "Requirement already satisfied: ipython==7.34.0 in /usr/local/lib/python3.10/dist-packages (from -r requirements.txt (line 203)) (7.34.0)\n",
      "Requirement already satisfied: ipython-genutils==0.2.0 in /usr/local/lib/python3.10/dist-packages (from -r requirements.txt (line 204)) (0.2.0)\n",
      "Requirement already satisfied: ipython-sql==0.4.1 in /usr/local/lib/python3.10/dist-packages (from -r requirements.txt (line 205)) (0.4.1)\n",
      "Requirement already satisfied: ipywidgets==7.7.1 in /usr/local/lib/python3.10/dist-packages (from -r requirements.txt (line 206)) (7.7.1)\n",
      "Requirement already satisfied: iterative-telemetry==0.0.8 in /usr/local/lib/python3.10/dist-packages (from -r requirements.txt (line 207)) (0.0.8)\n",
      "Requirement already satisfied: itsdangerous==2.1.2 in /usr/local/lib/python3.10/dist-packages (from -r requirements.txt (line 208)) (2.1.2)\n",
      "Requirement already satisfied: jax==0.4.13 in /usr/local/lib/python3.10/dist-packages (from -r requirements.txt (line 209)) (0.4.13)\n",
      "Requirement already satisfied: jedi==0.19.0 in /usr/local/lib/python3.10/dist-packages (from -r requirements.txt (line 211)) (0.19.0)\n",
      "Requirement already satisfied: jeepney==0.7.1 in /usr/lib/python3/dist-packages (from -r requirements.txt (line 212)) (0.7.1)\n",
      "Requirement already satisfied: jieba==0.42.1 in /usr/local/lib/python3.10/dist-packages (from -r requirements.txt (line 213)) (0.42.1)\n",
      "Requirement already satisfied: Jinja2==3.1.2 in /usr/local/lib/python3.10/dist-packages (from -r requirements.txt (line 214)) (3.1.2)\n",
      "Requirement already satisfied: jmespath==0.10.0 in /usr/local/lib/python3.10/dist-packages (from -r requirements.txt (line 215)) (0.10.0)\n",
      "Requirement already satisfied: joblib==1.3.1 in /usr/local/lib/python3.10/dist-packages (from -r requirements.txt (line 216)) (1.3.1)\n",
      "Requirement already satisfied: jsonpickle==3.0.1 in /usr/local/lib/python3.10/dist-packages (from -r requirements.txt (line 217)) (3.0.1)\n",
      "Requirement already satisfied: jsonschema==4.3.3 in /usr/local/lib/python3.10/dist-packages (from -r requirements.txt (line 218)) (4.3.3)\n",
      "Requirement already satisfied: jupyter-client==6.1.12 in /usr/local/lib/python3.10/dist-packages (from -r requirements.txt (line 219)) (6.1.12)\n",
      "Requirement already satisfied: jupyter-console==6.1.0 in /usr/local/lib/python3.10/dist-packages (from -r requirements.txt (line 220)) (6.1.0)\n",
      "Requirement already satisfied: jupyter-server==1.24.0 in /usr/local/lib/python3.10/dist-packages (from -r requirements.txt (line 221)) (1.24.0)\n",
      "Requirement already satisfied: jupyter_core==5.3.1 in /usr/local/lib/python3.10/dist-packages (from -r requirements.txt (line 222)) (5.3.1)\n",
      "Requirement already satisfied: jupyterlab-pygments==0.2.2 in /usr/local/lib/python3.10/dist-packages (from -r requirements.txt (line 223)) (0.2.2)\n",
      "Requirement already satisfied: jupyterlab-widgets==3.0.8 in /usr/local/lib/python3.10/dist-packages (from -r requirements.txt (line 224)) (3.0.8)\n",
      "Requirement already satisfied: kaggle==1.5.16 in /usr/local/lib/python3.10/dist-packages (from -r requirements.txt (line 225)) (1.5.16)\n",
      "Requirement already satisfied: keras==2.12.0 in /usr/local/lib/python3.10/dist-packages (from -r requirements.txt (line 226)) (2.12.0)\n",
      "Requirement already satisfied: keyring==23.5.0 in /usr/lib/python3/dist-packages (from -r requirements.txt (line 227)) (23.5.0)\n",
      "Requirement already satisfied: kiwisolver==1.4.4 in /usr/local/lib/python3.10/dist-packages (from -r requirements.txt (line 228)) (1.4.4)\n",
      "Requirement already satisfied: kombu==5.3.1 in /usr/local/lib/python3.10/dist-packages (from -r requirements.txt (line 229)) (5.3.1)\n",
      "Requirement already satisfied: langcodes==3.3.0 in /usr/local/lib/python3.10/dist-packages (from -r requirements.txt (line 230)) (3.3.0)\n",
      "Requirement already satisfied: launchpadlib==1.10.16 in /usr/lib/python3/dist-packages (from -r requirements.txt (line 231)) (1.10.16)\n",
      "Requirement already satisfied: lazr.restfulclient==0.14.4 in /usr/lib/python3/dist-packages (from -r requirements.txt (line 232)) (0.14.4)\n",
      "Requirement already satisfied: lazr.uri==1.0.6 in /usr/lib/python3/dist-packages (from -r requirements.txt (line 233)) (1.0.6)\n",
      "Requirement already satisfied: lazy_loader==0.3 in /usr/local/lib/python3.10/dist-packages (from -r requirements.txt (line 234)) (0.3)\n",
      "Requirement already satisfied: libclang==16.0.6 in /usr/local/lib/python3.10/dist-packages (from -r requirements.txt (line 235)) (16.0.6)\n",
      "Requirement already satisfied: librosa==0.10.0.post2 in /usr/local/lib/python3.10/dist-packages (from -r requirements.txt (line 236)) (0.10.0.post2)\n",
      "Requirement already satisfied: lightgbm==3.3.5 in /usr/local/lib/python3.10/dist-packages (from -r requirements.txt (line 237)) (3.3.5)\n",
      "Requirement already satisfied: lightning-utilities==0.14.3 in /home/jupyter/.local/lib/python3.10/site-packages (from -r requirements.txt (line 238)) (0.14.3)\n",
      "Requirement already satisfied: linkify-it-py==2.0.2 in /usr/local/lib/python3.10/dist-packages (from -r requirements.txt (line 239)) (2.0.2)\n",
      "Requirement already satisfied: lit==16.0.6 in /usr/local/lib/python3.10/dist-packages (from -r requirements.txt (line 240)) (16.0.6)\n",
      "Requirement already satisfied: llvmlite==0.39.1 in /usr/local/lib/python3.10/dist-packages (from -r requirements.txt (line 241)) (0.39.1)\n",
      "Requirement already satisfied: locket==1.0.0 in /usr/local/lib/python3.10/dist-packages (from -r requirements.txt (line 242)) (1.0.0)\n",
      "Requirement already satisfied: logical-unification==0.4.6 in /usr/local/lib/python3.10/dist-packages (from -r requirements.txt (line 243)) (0.4.6)\n",
      "Requirement already satisfied: LunarCalendar==0.0.9 in /usr/local/lib/python3.10/dist-packages (from -r requirements.txt (line 244)) (0.0.9)\n",
      "Requirement already satisfied: lxml==4.9.3 in /usr/local/lib/python3.10/dist-packages (from -r requirements.txt (line 245)) (4.9.3)\n",
      "Requirement already satisfied: Markdown==3.4.4 in /usr/local/lib/python3.10/dist-packages (from -r requirements.txt (line 246)) (3.4.4)\n",
      "Requirement already satisfied: markdown-it-py==3.0.0 in /usr/local/lib/python3.10/dist-packages (from -r requirements.txt (line 247)) (3.0.0)\n",
      "Requirement already satisfied: MarkupSafe==2.1.3 in /usr/local/lib/python3.10/dist-packages (from -r requirements.txt (line 248)) (2.1.3)\n",
      "Requirement already satisfied: matplotlib==3.7.1 in /usr/local/lib/python3.10/dist-packages (from -r requirements.txt (line 249)) (3.7.1)\n",
      "Requirement already satisfied: matplotlib-inline==0.1.6 in /usr/local/lib/python3.10/dist-packages (from -r requirements.txt (line 250)) (0.1.6)\n",
      "Requirement already satisfied: matplotlib-venn==0.11.9 in /usr/local/lib/python3.10/dist-packages (from -r requirements.txt (line 251)) (0.11.9)\n",
      "Requirement already satisfied: mdit-py-plugins==0.4.0 in /usr/local/lib/python3.10/dist-packages (from -r requirements.txt (line 252)) (0.4.0)\n",
      "Requirement already satisfied: mdurl==0.1.2 in /usr/local/lib/python3.10/dist-packages (from -r requirements.txt (line 253)) (0.1.2)\n",
      "Requirement already satisfied: miniKanren==1.0.3 in /usr/local/lib/python3.10/dist-packages (from -r requirements.txt (line 254)) (1.0.3)\n",
      "Requirement already satisfied: missingno==0.5.2 in /usr/local/lib/python3.10/dist-packages (from -r requirements.txt (line 255)) (0.5.2)\n",
      "Requirement already satisfied: mistune==0.8.4 in /usr/local/lib/python3.10/dist-packages (from -r requirements.txt (line 256)) (0.8.4)\n",
      "Requirement already satisfied: mizani==0.8.1 in /usr/local/lib/python3.10/dist-packages (from -r requirements.txt (line 257)) (0.8.1)\n",
      "Requirement already satisfied: mkl==2019.0 in /usr/local/lib/python3.10/dist-packages (from -r requirements.txt (line 258)) (2019.0)\n",
      "Requirement already satisfied: ml-dtypes==0.2.0 in /usr/local/lib/python3.10/dist-packages (from -r requirements.txt (line 259)) (0.2.0)\n",
      "Requirement already satisfied: mlxtend==0.22.0 in /usr/local/lib/python3.10/dist-packages (from -r requirements.txt (line 260)) (0.22.0)\n",
      "Requirement already satisfied: more-itertools==9.1.0 in /usr/local/lib/python3.10/dist-packages (from -r requirements.txt (line 261)) (9.1.0)\n",
      "Requirement already satisfied: moto==4.1.14 in /usr/local/lib/python3.10/dist-packages (from -r requirements.txt (line 262)) (4.1.14)\n",
      "Requirement already satisfied: moviepy==1.0.3 in /usr/local/lib/python3.10/dist-packages (from -r requirements.txt (line 263)) (1.0.3)\n",
      "Requirement already satisfied: mpmath==1.3.0 in /usr/local/lib/python3.10/dist-packages (from -r requirements.txt (line 264)) (1.3.0)\n",
      "Requirement already satisfied: msgpack==1.0.5 in /usr/local/lib/python3.10/dist-packages (from -r requirements.txt (line 265)) (1.0.5)\n",
      "Requirement already satisfied: multidict==6.0.4 in /usr/local/lib/python3.10/dist-packages (from -r requirements.txt (line 266)) (6.0.4)\n",
      "Requirement already satisfied: multipledispatch==1.0.0 in /usr/local/lib/python3.10/dist-packages (from -r requirements.txt (line 267)) (1.0.0)\n",
      "Requirement already satisfied: multitasking==0.0.11 in /usr/local/lib/python3.10/dist-packages (from -r requirements.txt (line 268)) (0.0.11)\n",
      "Requirement already satisfied: murmurhash==1.0.9 in /usr/local/lib/python3.10/dist-packages (from -r requirements.txt (line 269)) (1.0.9)\n",
      "Requirement already satisfied: music21==8.1.0 in /usr/local/lib/python3.10/dist-packages (from -r requirements.txt (line 270)) (8.1.0)\n",
      "Requirement already satisfied: nanotime==0.5.2 in /usr/local/lib/python3.10/dist-packages (from -r requirements.txt (line 271)) (0.5.2)\n",
      "Requirement already satisfied: natsort==8.3.1 in /usr/local/lib/python3.10/dist-packages (from -r requirements.txt (line 272)) (8.3.1)\n",
      "Requirement already satisfied: nbclient==0.8.0 in /usr/local/lib/python3.10/dist-packages (from -r requirements.txt (line 273)) (0.8.0)\n",
      "Requirement already satisfied: nbconvert==6.5.4 in /usr/local/lib/python3.10/dist-packages (from -r requirements.txt (line 274)) (6.5.4)\n",
      "Requirement already satisfied: nbformat==5.9.1 in /usr/local/lib/python3.10/dist-packages (from -r requirements.txt (line 275)) (5.9.1)\n",
      "Requirement already satisfied: nest-asyncio==1.5.6 in /usr/local/lib/python3.10/dist-packages (from -r requirements.txt (line 276)) (1.5.6)\n",
      "Requirement already satisfied: networkx==3.1 in /usr/local/lib/python3.10/dist-packages (from -r requirements.txt (line 277)) (3.1)\n",
      "Requirement already satisfied: nibabel==4.0.2 in /usr/local/lib/python3.10/dist-packages (from -r requirements.txt (line 278)) (4.0.2)\n",
      "Requirement already satisfied: nltk==3.8.1 in /usr/local/lib/python3.10/dist-packages (from -r requirements.txt (line 279)) (3.8.1)\n",
      "Requirement already satisfied: notebook==6.4.8 in /usr/local/lib/python3.10/dist-packages (from -r requirements.txt (line 280)) (6.4.8)\n",
      "Requirement already satisfied: numba==0.56.4 in /usr/local/lib/python3.10/dist-packages (from -r requirements.txt (line 281)) (0.56.4)\n",
      "Requirement already satisfied: numexpr==2.8.4 in /usr/local/lib/python3.10/dist-packages (from -r requirements.txt (line 282)) (2.8.4)\n",
      "Requirement already satisfied: numpy==1.22.4 in /usr/local/lib/python3.10/dist-packages (from -r requirements.txt (line 283)) (1.22.4)\n",
      "Requirement already satisfied: oauth2client==4.1.3 in /usr/local/lib/python3.10/dist-packages (from -r requirements.txt (line 284)) (4.1.3)\n",
      "Requirement already satisfied: oauthlib==3.2.2 in /usr/local/lib/python3.10/dist-packages (from -r requirements.txt (line 285)) (3.2.2)\n",
      "Requirement already satisfied: omegaconf==2.3.0 in /usr/local/lib/python3.10/dist-packages (from -r requirements.txt (line 286)) (2.3.0)\n",
      "Requirement already satisfied: opencv-contrib-python==4.7.0.72 in /usr/local/lib/python3.10/dist-packages (from -r requirements.txt (line 287)) (4.7.0.72)\n",
      "Requirement already satisfied: opencv-python==4.7.0.72 in /usr/local/lib/python3.10/dist-packages (from -r requirements.txt (line 288)) (4.7.0.72)\n",
      "Requirement already satisfied: opencv-python-headless==4.8.0.74 in /usr/local/lib/python3.10/dist-packages (from -r requirements.txt (line 289)) (4.8.0.74)\n",
      "Requirement already satisfied: openpyxl==3.0.10 in /usr/local/lib/python3.10/dist-packages (from -r requirements.txt (line 290)) (3.0.10)\n",
      "Requirement already satisfied: opt-einsum==3.3.0 in /usr/local/lib/python3.10/dist-packages (from -r requirements.txt (line 291)) (3.3.0)\n",
      "Requirement already satisfied: optax==0.1.7 in /usr/local/lib/python3.10/dist-packages (from -r requirements.txt (line 292)) (0.1.7)\n",
      "Requirement already satisfied: orbax-checkpoint==0.3.1 in /usr/local/lib/python3.10/dist-packages (from -r requirements.txt (line 293)) (0.3.1)\n",
      "Requirement already satisfied: orjson==3.9.4 in /usr/local/lib/python3.10/dist-packages (from -r requirements.txt (line 294)) (3.9.4)\n",
      "Requirement already satisfied: osqp==0.6.2.post8 in /usr/local/lib/python3.10/dist-packages (from -r requirements.txt (line 295)) (0.6.2.post8)\n",
      "Requirement already satisfied: packaging==23.1 in /usr/local/lib/python3.10/dist-packages (from -r requirements.txt (line 296)) (23.1)\n",
      "Requirement already satisfied: palettable==3.3.3 in /usr/local/lib/python3.10/dist-packages (from -r requirements.txt (line 297)) (3.3.3)\n",
      "Requirement already satisfied: pandas==1.5.3 in /usr/local/lib/python3.10/dist-packages (from -r requirements.txt (line 298)) (1.5.3)\n",
      "Requirement already satisfied: pandas-datareader==0.10.0 in /usr/local/lib/python3.10/dist-packages (from -r requirements.txt (line 299)) (0.10.0)\n",
      "Requirement already satisfied: pandas-gbq==0.17.9 in /usr/local/lib/python3.10/dist-packages (from -r requirements.txt (line 300)) (0.17.9)\n",
      "Requirement already satisfied: pandocfilters==1.5.0 in /usr/local/lib/python3.10/dist-packages (from -r requirements.txt (line 301)) (1.5.0)\n",
      "Requirement already satisfied: panel==1.2.1 in /usr/local/lib/python3.10/dist-packages (from -r requirements.txt (line 302)) (1.2.1)\n",
      "Requirement already satisfied: param==1.13.0 in /usr/local/lib/python3.10/dist-packages (from -r requirements.txt (line 303)) (1.13.0)\n",
      "Requirement already satisfied: paramiko==3.3.1 in /usr/local/lib/python3.10/dist-packages (from -r requirements.txt (line 304)) (3.3.1)\n",
      "Requirement already satisfied: parso==0.8.3 in /usr/local/lib/python3.10/dist-packages (from -r requirements.txt (line 305)) (0.8.3)\n",
      "Requirement already satisfied: partd==1.4.0 in /usr/local/lib/python3.10/dist-packages (from -r requirements.txt (line 306)) (1.4.0)\n",
      "Requirement already satisfied: pathlib==1.0.1 in /usr/local/lib/python3.10/dist-packages (from -r requirements.txt (line 307)) (1.0.1)\n",
      "Requirement already satisfied: pathspec==0.11.2 in /usr/local/lib/python3.10/dist-packages (from -r requirements.txt (line 308)) (0.11.2)\n",
      "Requirement already satisfied: pathy==0.10.2 in /usr/local/lib/python3.10/dist-packages (from -r requirements.txt (line 309)) (0.10.2)\n",
      "Requirement already satisfied: patsy==0.5.3 in /usr/local/lib/python3.10/dist-packages (from -r requirements.txt (line 310)) (0.5.3)\n",
      "Requirement already satisfied: pexpect==4.8.0 in /usr/local/lib/python3.10/dist-packages (from -r requirements.txt (line 311)) (4.8.0)\n",
      "Requirement already satisfied: pickleshare==0.7.5 in /usr/local/lib/python3.10/dist-packages (from -r requirements.txt (line 312)) (0.7.5)\n",
      "Requirement already satisfied: Pillow==9.4.0 in /usr/local/lib/python3.10/dist-packages (from -r requirements.txt (line 313)) (9.4.0)\n",
      "Requirement already satisfied: pip-tools==6.13.0 in /usr/local/lib/python3.10/dist-packages (from -r requirements.txt (line 314)) (6.13.0)\n",
      "Requirement already satisfied: platformdirs==3.9.1 in /usr/local/lib/python3.10/dist-packages (from -r requirements.txt (line 315)) (3.9.1)\n",
      "Requirement already satisfied: plotly==5.13.1 in /usr/local/lib/python3.10/dist-packages (from -r requirements.txt (line 316)) (5.13.1)\n",
      "Requirement already satisfied: plotnine==0.10.1 in /usr/local/lib/python3.10/dist-packages (from -r requirements.txt (line 317)) (0.10.1)\n",
      "Requirement already satisfied: pluggy==1.2.0 in /usr/local/lib/python3.10/dist-packages (from -r requirements.txt (line 318)) (1.2.0)\n",
      "Requirement already satisfied: polars==0.17.3 in /usr/local/lib/python3.10/dist-packages (from -r requirements.txt (line 319)) (0.17.3)\n",
      "Requirement already satisfied: pooch==1.6.0 in /usr/local/lib/python3.10/dist-packages (from -r requirements.txt (line 320)) (1.6.0)\n",
      "Requirement already satisfied: portpicker==1.5.2 in /usr/local/lib/python3.10/dist-packages (from -r requirements.txt (line 321)) (1.5.2)\n",
      "Requirement already satisfied: prefetch-generator==1.0.3 in /usr/local/lib/python3.10/dist-packages (from -r requirements.txt (line 322)) (1.0.3)\n",
      "Requirement already satisfied: preshed==3.0.8 in /usr/local/lib/python3.10/dist-packages (from -r requirements.txt (line 323)) (3.0.8)\n",
      "Requirement already satisfied: prettytable==0.7.2 in /usr/local/lib/python3.10/dist-packages (from -r requirements.txt (line 324)) (0.7.2)\n",
      "Requirement already satisfied: proglog==0.1.10 in /usr/local/lib/python3.10/dist-packages (from -r requirements.txt (line 325)) (0.1.10)\n",
      "Requirement already satisfied: progressbar2==4.2.0 in /usr/local/lib/python3.10/dist-packages (from -r requirements.txt (line 326)) (4.2.0)\n",
      "Requirement already satisfied: prometheus-client==0.17.1 in /usr/local/lib/python3.10/dist-packages (from -r requirements.txt (line 327)) (0.17.1)\n",
      "Requirement already satisfied: promise==2.3 in /usr/local/lib/python3.10/dist-packages (from -r requirements.txt (line 328)) (2.3)\n",
      "Requirement already satisfied: prompt-toolkit==3.0.39 in /usr/local/lib/python3.10/dist-packages (from -r requirements.txt (line 329)) (3.0.39)\n",
      "Requirement already satisfied: prophet==1.1.4 in /usr/local/lib/python3.10/dist-packages (from -r requirements.txt (line 330)) (1.1.4)\n",
      "Requirement already satisfied: proto-plus==1.22.3 in /usr/local/lib/python3.10/dist-packages (from -r requirements.txt (line 331)) (1.22.3)\n",
      "Requirement already satisfied: protobuf==3.20.3 in /usr/local/lib/python3.10/dist-packages (from -r requirements.txt (line 332)) (3.20.3)\n",
      "Requirement already satisfied: psutil==6.0.0 in /kernel/lib/python3.10/site-packages (from -r requirements.txt (line 333)) (6.0.0)\n",
      "Requirement already satisfied: psycopg2-binary==2.9.6 in /usr/local/lib/python3.10/dist-packages (from -r requirements.txt (line 334)) (2.9.6)\n",
      "Requirement already satisfied: ptyprocess==0.7.0 in /usr/local/lib/python3.10/dist-packages (from -r requirements.txt (line 335)) (0.7.0)\n",
      "Requirement already satisfied: py-cpuinfo==9.0.0 in /usr/local/lib/python3.10/dist-packages (from -r requirements.txt (line 336)) (9.0.0)\n",
      "Requirement already satisfied: py4j==0.10.9.7 in /usr/local/lib/python3.10/dist-packages (from -r requirements.txt (line 337)) (0.10.9.7)\n",
      "Requirement already satisfied: pyarrow==9.0.0 in /usr/local/lib/python3.10/dist-packages (from -r requirements.txt (line 338)) (9.0.0)\n",
      "Requirement already satisfied: pyasn1==0.5.0 in /usr/local/lib/python3.10/dist-packages (from -r requirements.txt (line 339)) (0.5.0)\n",
      "Requirement already satisfied: pyasn1-modules==0.3.0 in /usr/local/lib/python3.10/dist-packages (from -r requirements.txt (line 340)) (0.3.0)\n",
      "Requirement already satisfied: pycocotools==2.0.6 in /usr/local/lib/python3.10/dist-packages (from -r requirements.txt (line 341)) (2.0.6)\n",
      "Requirement already satisfied: pycparser==2.21 in /usr/local/lib/python3.10/dist-packages (from -r requirements.txt (line 342)) (2.21)\n",
      "Requirement already satisfied: pyct==0.5.0 in /usr/local/lib/python3.10/dist-packages (from -r requirements.txt (line 343)) (0.5.0)\n",
      "Requirement already satisfied: pydantic==1.10.12 in /usr/local/lib/python3.10/dist-packages (from -r requirements.txt (line 344)) (1.10.12)\n",
      "Requirement already satisfied: pydata-google-auth==1.8.1 in /usr/local/lib/python3.10/dist-packages (from -r requirements.txt (line 345)) (1.8.1)\n",
      "Requirement already satisfied: pydot==1.4.2 in /usr/local/lib/python3.10/dist-packages (from -r requirements.txt (line 346)) (1.4.2)\n",
      "Requirement already satisfied: pydot-ng==2.0.0 in /usr/local/lib/python3.10/dist-packages (from -r requirements.txt (line 347)) (2.0.0)\n",
      "Requirement already satisfied: pydotplus==2.0.2 in /usr/local/lib/python3.10/dist-packages (from -r requirements.txt (line 348)) (2.0.2)\n",
      "Requirement already satisfied: PyDrive==1.3.1 in /usr/local/lib/python3.10/dist-packages (from -r requirements.txt (line 349)) (1.3.1)\n",
      "Requirement already satisfied: pyerfa==2.0.0.3 in /usr/local/lib/python3.10/dist-packages (from -r requirements.txt (line 350)) (2.0.0.3)\n",
      "Requirement already satisfied: pygame==2.5.0 in /usr/local/lib/python3.10/dist-packages (from -r requirements.txt (line 351)) (2.5.0)\n",
      "Requirement already satisfied: pygit2==1.12.2 in /usr/local/lib/python3.10/dist-packages (from -r requirements.txt (line 352)) (1.12.2)\n",
      "Requirement already satisfied: Pygments==2.14.0 in /usr/local/lib/python3.10/dist-packages (from -r requirements.txt (line 353)) (2.14.0)\n",
      "Requirement already satisfied: PyGObject==3.42.1 in /usr/lib/python3/dist-packages (from -r requirements.txt (line 354)) (3.42.1)\n",
      "Requirement already satisfied: pygtrie==2.5.0 in /usr/local/lib/python3.10/dist-packages (from -r requirements.txt (line 355)) (2.5.0)\n",
      "Requirement already satisfied: PyJWT==2.3.0 in /usr/lib/python3/dist-packages (from -r requirements.txt (line 356)) (2.3.0)\n",
      "Requirement already satisfied: pymc==5.1.2 in /usr/local/lib/python3.10/dist-packages (from -r requirements.txt (line 357)) (5.1.2)\n",
      "Requirement already satisfied: PyMeeus==0.5.12 in /usr/local/lib/python3.10/dist-packages (from -r requirements.txt (line 358)) (0.5.12)\n",
      "Requirement already satisfied: pymorphy2==0.9.1 in /usr/local/lib/python3.10/dist-packages (from -r requirements.txt (line 359)) (0.9.1)\n",
      "Requirement already satisfied: pymorphy2-dicts-ru==2.4.417127.4579844 in /usr/local/lib/python3.10/dist-packages (from -r requirements.txt (line 360)) (2.4.417127.4579844)\n",
      "Requirement already satisfied: pymystem3==0.2.0 in /usr/local/lib/python3.10/dist-packages (from -r requirements.txt (line 361)) (0.2.0)\n",
      "Requirement already satisfied: PyNaCl==1.5.0 in /usr/local/lib/python3.10/dist-packages (from -r requirements.txt (line 362)) (1.5.0)\n",
      "Requirement already satisfied: PyOpenGL==3.1.7 in /usr/local/lib/python3.10/dist-packages (from -r requirements.txt (line 363)) (3.1.7)\n",
      "Requirement already satisfied: pyparsing==3.1.0 in /usr/local/lib/python3.10/dist-packages (from -r requirements.txt (line 364)) (3.1.0)\n",
      "Requirement already satisfied: pyproj==3.6.0 in /usr/local/lib/python3.10/dist-packages (from -r requirements.txt (line 365)) (3.6.0)\n",
      "Requirement already satisfied: pyproject_hooks==1.0.0 in /usr/local/lib/python3.10/dist-packages (from -r requirements.txt (line 366)) (1.0.0)\n",
      "Requirement already satisfied: pyrsistent==0.19.3 in /usr/local/lib/python3.10/dist-packages (from -r requirements.txt (line 367)) (0.19.3)\n",
      "Requirement already satisfied: PySocks==1.7.1 in /usr/local/lib/python3.10/dist-packages (from -r requirements.txt (line 368)) (1.7.1)\n",
      "Requirement already satisfied: pytensor==2.10.1 in /usr/local/lib/python3.10/dist-packages (from -r requirements.txt (line 369)) (2.10.1)\n",
      "Requirement already satisfied: pytest==7.2.2 in /usr/local/lib/python3.10/dist-packages (from -r requirements.txt (line 370)) (7.2.2)\n",
      "Requirement already satisfied: python-apt==2.4.0+ubuntu2 in /usr/lib/python3/dist-packages (from -r requirements.txt (line 371)) (2.4.0+ubuntu2)\n",
      "Requirement already satisfied: python-dateutil==2.8.2 in /usr/local/lib/python3.10/dist-packages (from -r requirements.txt (line 372)) (2.8.2)\n",
      "Requirement already satisfied: python-louvain==0.16 in /usr/local/lib/python3.10/dist-packages (from -r requirements.txt (line 373)) (0.16)\n",
      "Requirement already satisfied: python-slugify==8.0.1 in /usr/local/lib/python3.10/dist-packages (from -r requirements.txt (line 374)) (8.0.1)\n",
      "Requirement already satisfied: python-utils==3.7.0 in /usr/local/lib/python3.10/dist-packages (from -r requirements.txt (line 375)) (3.7.0)\n",
      "Requirement already satisfied: pytz==2022.7.1 in /usr/local/lib/python3.10/dist-packages (from -r requirements.txt (line 376)) (2022.7.1)\n",
      "Requirement already satisfied: pyviz-comms==2.3.2 in /usr/local/lib/python3.10/dist-packages (from -r requirements.txt (line 377)) (2.3.2)\n",
      "Requirement already satisfied: PyWavelets==1.4.1 in /usr/local/lib/python3.10/dist-packages (from -r requirements.txt (line 378)) (1.4.1)\n",
      "Requirement already satisfied: PyYAML==6.0.1 in /usr/local/lib/python3.10/dist-packages (from -r requirements.txt (line 379)) (6.0.1)\n",
      "Requirement already satisfied: pyzmq==26.2.0 in /kernel/lib/python3.10/site-packages (from -r requirements.txt (line 380)) (26.2.0)\n",
      "Requirement already satisfied: qdldl==0.1.7.post0 in /usr/local/lib/python3.10/dist-packages (from -r requirements.txt (line 381)) (0.1.7.post0)\n",
      "Requirement already satisfied: qudida==0.0.4 in /usr/local/lib/python3.10/dist-packages (from -r requirements.txt (line 382)) (0.0.4)\n",
      "Requirement already satisfied: regex==2022.10.31 in /usr/local/lib/python3.10/dist-packages (from -r requirements.txt (line 383)) (2022.10.31)\n",
      "Requirement already satisfied: requests==2.27.1 in /usr/local/lib/python3.10/dist-packages (from -r requirements.txt (line 384)) (2.27.1)\n",
      "Requirement already satisfied: requests-oauthlib==1.3.1 in /usr/local/lib/python3.10/dist-packages (from -r requirements.txt (line 385)) (1.3.1)\n",
      "Requirement already satisfied: requests-unixsocket==0.2.0 in /usr/local/lib/python3.10/dist-packages (from -r requirements.txt (line 386)) (0.2.0)\n",
      "Requirement already satisfied: requirements-parser==0.5.0 in /usr/local/lib/python3.10/dist-packages (from -r requirements.txt (line 387)) (0.5.0)\n",
      "Requirement already satisfied: responses==0.23.1 in /usr/local/lib/python3.10/dist-packages (from -r requirements.txt (line 388)) (0.23.1)\n",
      "Requirement already satisfied: rich==13.4.2 in /usr/local/lib/python3.10/dist-packages (from -r requirements.txt (line 389)) (13.4.2)\n",
      "Requirement already satisfied: rpy2==3.4.2 in /usr/local/lib/python3.10/dist-packages (from -r requirements.txt (line 390)) (3.4.2)\n",
      "Requirement already satisfied: rsa==4.9 in /usr/local/lib/python3.10/dist-packages (from -r requirements.txt (line 391)) (4.9)\n",
      "Requirement already satisfied: ruamel.yaml==0.17.32 in /usr/local/lib/python3.10/dist-packages (from -r requirements.txt (line 392)) (0.17.32)\n",
      "Requirement already satisfied: ruamel.yaml.clib==0.2.7 in /usr/local/lib/python3.10/dist-packages (from -r requirements.txt (line 393)) (0.2.7)\n",
      "Requirement already satisfied: s3fs==0.5.2 in /usr/local/lib/python3.10/dist-packages (from -r requirements.txt (line 394)) (0.5.2)\n",
      "Requirement already satisfied: s3transfer==0.5.2 in /usr/local/lib/python3.10/dist-packages (from -r requirements.txt (line 395)) (0.5.2)\n",
      "Requirement already satisfied: safetensors==0.5.3 in /home/jupyter/.local/lib/python3.10/site-packages (from -r requirements.txt (line 396)) (0.5.3)\n",
      "Requirement already satisfied: scikit-image==0.19.3 in /usr/local/lib/python3.10/dist-packages (from -r requirements.txt (line 397)) (0.19.3)\n",
      "Requirement already satisfied: scikit-learn==1.2.2 in /usr/local/lib/python3.10/dist-packages (from -r requirements.txt (line 398)) (1.2.2)\n",
      "Requirement already satisfied: scipy==1.10.1 in /usr/local/lib/python3.10/dist-packages (from -r requirements.txt (line 399)) (1.10.1)\n",
      "Requirement already satisfied: scmrepo==1.2.1 in /usr/local/lib/python3.10/dist-packages (from -r requirements.txt (line 400)) (1.2.1)\n",
      "Requirement already satisfied: scp==0.13.3 in /usr/local/lib/python3.10/dist-packages (from -r requirements.txt (line 401)) (0.13.3)\n",
      "Requirement already satisfied: scs==3.2.3 in /usr/local/lib/python3.10/dist-packages (from -r requirements.txt (line 402)) (3.2.3)\n",
      "Requirement already satisfied: seaborn==0.12.2 in /usr/local/lib/python3.10/dist-packages (from -r requirements.txt (line 403)) (0.12.2)\n",
      "Requirement already satisfied: SecretStorage==3.3.1 in /usr/lib/python3/dist-packages (from -r requirements.txt (line 404)) (3.3.1)\n",
      "Requirement already satisfied: Send2Trash==1.8.2 in /usr/local/lib/python3.10/dist-packages (from -r requirements.txt (line 405)) (1.8.2)\n",
      "Requirement already satisfied: shapely==2.0.1 in /usr/local/lib/python3.10/dist-packages (from -r requirements.txt (line 406)) (2.0.1)\n",
      "Requirement already satisfied: shortuuid==1.0.11 in /usr/local/lib/python3.10/dist-packages (from -r requirements.txt (line 407)) (1.0.11)\n",
      "Requirement already satisfied: shtab==1.6.4 in /usr/local/lib/python3.10/dist-packages (from -r requirements.txt (line 408)) (1.6.4)\n",
      "Requirement already satisfied: six==1.16.0 in /usr/lib/python3/dist-packages (from -r requirements.txt (line 409)) (1.16.0)\n",
      "Requirement already satisfied: sklearn-pandas==2.2.0 in /usr/local/lib/python3.10/dist-packages (from -r requirements.txt (line 410)) (2.2.0)\n",
      "Requirement already satisfied: smart-open==6.3.0 in /usr/local/lib/python3.10/dist-packages (from -r requirements.txt (line 411)) (6.3.0)\n",
      "Requirement already satisfied: smmap==5.0.0 in /usr/local/lib/python3.10/dist-packages (from -r requirements.txt (line 412)) (5.0.0)\n",
      "Requirement already satisfied: sniffio==1.3.0 in /usr/local/lib/python3.10/dist-packages (from -r requirements.txt (line 413)) (1.3.0)\n",
      "Requirement already satisfied: snowballstemmer==2.2.0 in /usr/local/lib/python3.10/dist-packages (from -r requirements.txt (line 414)) (2.2.0)\n",
      "Requirement already satisfied: sortedcontainers==2.4.0 in /usr/local/lib/python3.10/dist-packages (from -r requirements.txt (line 415)) (2.4.0)\n",
      "Requirement already satisfied: soundfile==0.12.1 in /usr/local/lib/python3.10/dist-packages (from -r requirements.txt (line 416)) (0.12.1)\n",
      "Requirement already satisfied: soupsieve==2.4.1 in /usr/local/lib/python3.10/dist-packages (from -r requirements.txt (line 417)) (2.4.1)\n",
      "Requirement already satisfied: soxr==0.3.5 in /usr/local/lib/python3.10/dist-packages (from -r requirements.txt (line 418)) (0.3.5)\n",
      "Requirement already satisfied: spacy==3.5.4 in /usr/local/lib/python3.10/dist-packages (from -r requirements.txt (line 419)) (3.5.4)\n",
      "Requirement already satisfied: spacy-legacy==3.0.12 in /usr/local/lib/python3.10/dist-packages (from -r requirements.txt (line 420)) (3.0.12)\n",
      "Requirement already satisfied: spacy-loggers==1.0.4 in /usr/local/lib/python3.10/dist-packages (from -r requirements.txt (line 421)) (1.0.4)\n",
      "Requirement already satisfied: Sphinx==5.0.2 in /usr/local/lib/python3.10/dist-packages (from -r requirements.txt (line 422)) (5.0.2)\n",
      "Requirement already satisfied: sphinxcontrib-applehelp==1.0.4 in /usr/local/lib/python3.10/dist-packages (from -r requirements.txt (line 423)) (1.0.4)\n",
      "Requirement already satisfied: sphinxcontrib-devhelp==1.0.2 in /usr/local/lib/python3.10/dist-packages (from -r requirements.txt (line 424)) (1.0.2)\n",
      "Requirement already satisfied: sphinxcontrib-htmlhelp==2.0.1 in /usr/local/lib/python3.10/dist-packages (from -r requirements.txt (line 425)) (2.0.1)\n",
      "Requirement already satisfied: sphinxcontrib-jsmath==1.0.1 in /usr/local/lib/python3.10/dist-packages (from -r requirements.txt (line 426)) (1.0.1)\n",
      "Requirement already satisfied: sphinxcontrib-qthelp==1.0.3 in /usr/local/lib/python3.10/dist-packages (from -r requirements.txt (line 427)) (1.0.3)\n",
      "Requirement already satisfied: sphinxcontrib-serializinghtml==1.1.5 in /usr/local/lib/python3.10/dist-packages (from -r requirements.txt (line 428)) (1.1.5)\n",
      "Requirement already satisfied: SQLAlchemy==2.0.19 in /usr/local/lib/python3.10/dist-packages (from -r requirements.txt (line 429)) (2.0.19)\n",
      "Requirement already satisfied: sqlparse==0.4.4 in /usr/local/lib/python3.10/dist-packages (from -r requirements.txt (line 430)) (0.4.4)\n",
      "Requirement already satisfied: sqltrie==0.7.0 in /usr/local/lib/python3.10/dist-packages (from -r requirements.txt (line 431)) (0.7.0)\n",
      "Requirement already satisfied: srsly==2.4.7 in /usr/local/lib/python3.10/dist-packages (from -r requirements.txt (line 432)) (2.4.7)\n",
      "Requirement already satisfied: statsmodels==0.13.5 in /usr/local/lib/python3.10/dist-packages (from -r requirements.txt (line 433)) (0.13.5)\n",
      "Requirement already satisfied: stt-metrics==0.12 in /usr/local/lib/python3.10/dist-packages (from -r requirements.txt (line 434)) (0.12)\n",
      "Requirement already satisfied: sympy==1.11.1 in /usr/local/lib/python3.10/dist-packages (from -r requirements.txt (line 435)) (1.11.1)\n",
      "Requirement already satisfied: tables==3.8.0 in /usr/local/lib/python3.10/dist-packages (from -r requirements.txt (line 436)) (3.8.0)\n",
      "Requirement already satisfied: tabulate==0.9.0 in /usr/local/lib/python3.10/dist-packages (from -r requirements.txt (line 437)) (0.9.0)\n",
      "Requirement already satisfied: tblib==2.0.0 in /usr/local/lib/python3.10/dist-packages (from -r requirements.txt (line 438)) (2.0.0)\n",
      "Requirement already satisfied: tenacity==8.2.2 in /usr/local/lib/python3.10/dist-packages (from -r requirements.txt (line 439)) (8.2.2)\n",
      "Requirement already satisfied: tensorboard==2.12.3 in /usr/local/lib/python3.10/dist-packages (from -r requirements.txt (line 440)) (2.12.3)\n",
      "Requirement already satisfied: tensorboard-data-server==0.7.1 in /usr/local/lib/python3.10/dist-packages (from -r requirements.txt (line 441)) (0.7.1)\n",
      "Requirement already satisfied: tensorflow-datasets==4.9.2 in /usr/local/lib/python3.10/dist-packages (from -r requirements.txt (line 443)) (4.9.2)\n",
      "Requirement already satisfied: tensorflow-estimator==2.12.0 in /usr/local/lib/python3.10/dist-packages (from -r requirements.txt (line 444)) (2.12.0)\n",
      "Requirement already satisfied: tensorflow-gcs-config==2.12.0 in /usr/local/lib/python3.10/dist-packages (from -r requirements.txt (line 445)) (2.12.0)\n",
      "Requirement already satisfied: tensorflow-hub==0.14.0 in /usr/local/lib/python3.10/dist-packages (from -r requirements.txt (line 446)) (0.14.0)\n",
      "Requirement already satisfied: tensorflow-io-gcs-filesystem==0.32.0 in /usr/local/lib/python3.10/dist-packages (from -r requirements.txt (line 447)) (0.32.0)\n",
      "Requirement already satisfied: tensorflow-metadata==1.13.1 in /usr/local/lib/python3.10/dist-packages (from -r requirements.txt (line 448)) (1.13.1)\n",
      "Requirement already satisfied: tensorflow-probability==0.20.1 in /usr/local/lib/python3.10/dist-packages (from -r requirements.txt (line 449)) (0.20.1)\n",
      "Requirement already satisfied: tensorstore==0.1.40 in /usr/local/lib/python3.10/dist-packages (from -r requirements.txt (line 450)) (0.1.40)\n",
      "Requirement already satisfied: termcolor==2.3.0 in /usr/local/lib/python3.10/dist-packages (from -r requirements.txt (line 451)) (2.3.0)\n",
      "Requirement already satisfied: terminado==0.17.1 in /usr/local/lib/python3.10/dist-packages (from -r requirements.txt (line 452)) (0.17.1)\n",
      "Requirement already satisfied: text-unidecode==1.3 in /usr/local/lib/python3.10/dist-packages (from -r requirements.txt (line 453)) (1.3)\n",
      "Requirement already satisfied: textblob==0.17.1 in /usr/local/lib/python3.10/dist-packages (from -r requirements.txt (line 454)) (0.17.1)\n",
      "Requirement already satisfied: tf-slim==1.1.0 in /usr/local/lib/python3.10/dist-packages (from -r requirements.txt (line 455)) (1.1.0)\n",
      "Requirement already satisfied: thinc==8.1.10 in /usr/local/lib/python3.10/dist-packages (from -r requirements.txt (line 456)) (8.1.10)\n",
      "Requirement already satisfied: threadpoolctl==3.2.0 in /usr/local/lib/python3.10/dist-packages (from -r requirements.txt (line 457)) (3.2.0)\n",
      "Requirement already satisfied: tifffile==2023.7.18 in /usr/local/lib/python3.10/dist-packages (from -r requirements.txt (line 458)) (2023.7.18)\n",
      "Requirement already satisfied: tinycss2==1.2.1 in /usr/local/lib/python3.10/dist-packages (from -r requirements.txt (line 459)) (1.2.1)\n",
      "Requirement already satisfied: tokenizers==0.13.3 in /home/jupyter/.local/lib/python3.10/site-packages (from -r requirements.txt (line 460)) (0.13.3)\n",
      "Requirement already satisfied: toml==0.10.2 in /usr/local/lib/python3.10/dist-packages (from -r requirements.txt (line 461)) (0.10.2)\n",
      "Requirement already satisfied: tomli==2.0.1 in /usr/local/lib/python3.10/dist-packages (from -r requirements.txt (line 462)) (2.0.1)\n",
      "Requirement already satisfied: tomlkit==0.12.1 in /usr/local/lib/python3.10/dist-packages (from -r requirements.txt (line 463)) (0.12.1)\n",
      "Requirement already satisfied: toolz==0.12.0 in /usr/local/lib/python3.10/dist-packages (from -r requirements.txt (line 464)) (0.12.0)\n",
      "Requirement already satisfied: torchdata==0.6.1 in /usr/local/lib/python3.10/dist-packages (from -r requirements.txt (line 467)) (0.6.1)\n",
      "Requirement already satisfied: torchmetrics==1.7.1 in /home/jupyter/.local/lib/python3.10/site-packages (from -r requirements.txt (line 468)) (1.7.1)\n",
      "Requirement already satisfied: torchsummary==1.5.1 in /usr/local/lib/python3.10/dist-packages (from -r requirements.txt (line 469)) (1.5.1)\n",
      "Requirement already satisfied: torchtext==0.15.2 in /usr/local/lib/python3.10/dist-packages (from -r requirements.txt (line 470)) (0.15.2)\n",
      "Requirement already satisfied: tornado==6.3.1 in /usr/local/lib/python3.10/dist-packages (from -r requirements.txt (line 472)) (6.3.1)\n",
      "Requirement already satisfied: tqdm==4.65.0 in /usr/local/lib/python3.10/dist-packages (from -r requirements.txt (line 473)) (4.65.0)\n",
      "Requirement already satisfied: traitlets==5.7.1 in /usr/local/lib/python3.10/dist-packages (from -r requirements.txt (line 474)) (5.7.1)\n",
      "Requirement already satisfied: transformers==4.30.2 in /home/jupyter/.local/lib/python3.10/site-packages (from -r requirements.txt (line 475)) (4.30.2)\n",
      "Requirement already satisfied: triton==2.0.0 in /usr/local/lib/python3.10/dist-packages (from -r requirements.txt (line 476)) (2.0.0)\n",
      "Requirement already satisfied: tweepy==4.13.0 in /usr/local/lib/python3.10/dist-packages (from -r requirements.txt (line 477)) (4.13.0)\n",
      "Requirement already satisfied: typer==0.9.0 in /usr/local/lib/python3.10/dist-packages (from -r requirements.txt (line 478)) (0.9.0)\n",
      "Requirement already satisfied: types-PyYAML==6.0.12.11 in /usr/local/lib/python3.10/dist-packages (from -r requirements.txt (line 479)) (6.0.12.11)\n",
      "Requirement already satisfied: types-setuptools==68.0.0.3 in /usr/local/lib/python3.10/dist-packages (from -r requirements.txt (line 480)) (68.0.0.3)\n",
      "Requirement already satisfied: typing_extensions==4.7.1 in /usr/local/lib/python3.10/dist-packages (from -r requirements.txt (line 481)) (4.7.1)\n",
      "Requirement already satisfied: tzdata==2023.3 in /usr/local/lib/python3.10/dist-packages (from -r requirements.txt (line 482)) (2023.3)\n",
      "Requirement already satisfied: tzlocal==5.0.1 in /usr/local/lib/python3.10/dist-packages (from -r requirements.txt (line 483)) (5.0.1)\n",
      "Requirement already satisfied: uc-micro-py==1.0.2 in /usr/local/lib/python3.10/dist-packages (from -r requirements.txt (line 484)) (1.0.2)\n",
      "Requirement already satisfied: unattended-upgrades==0.1 in /usr/lib/python3/dist-packages (from -r requirements.txt (line 485)) (0.1)\n",
      "Requirement already satisfied: uritemplate==4.1.1 in /usr/local/lib/python3.10/dist-packages (from -r requirements.txt (line 486)) (4.1.1)\n",
      "Requirement already satisfied: urllib3==1.26.16 in /usr/local/lib/python3.10/dist-packages (from -r requirements.txt (line 487)) (1.26.16)\n",
      "Requirement already satisfied: vega-datasets==0.9.0 in /usr/local/lib/python3.10/dist-packages (from -r requirements.txt (line 488)) (0.9.0)\n",
      "Requirement already satisfied: vine==5.0.0 in /usr/local/lib/python3.10/dist-packages (from -r requirements.txt (line 489)) (5.0.0)\n",
      "Requirement already satisfied: voluptuous==0.13.1 in /usr/local/lib/python3.10/dist-packages (from -r requirements.txt (line 490)) (0.13.1)\n",
      "Requirement already satisfied: wadllib==1.3.6 in /usr/lib/python3/dist-packages (from -r requirements.txt (line 491)) (1.3.6)\n",
      "Requirement already satisfied: wasabi==1.1.2 in /usr/local/lib/python3.10/dist-packages (from -r requirements.txt (line 492)) (1.1.2)\n",
      "Requirement already satisfied: wcwidth==0.2.6 in /usr/local/lib/python3.10/dist-packages (from -r requirements.txt (line 493)) (0.2.6)\n",
      "Requirement already satisfied: webcolors==1.13 in /usr/local/lib/python3.10/dist-packages (from -r requirements.txt (line 494)) (1.13)\n",
      "Requirement already satisfied: webencodings==0.5.1 in /usr/local/lib/python3.10/dist-packages (from -r requirements.txt (line 495)) (0.5.1)\n",
      "Requirement already satisfied: websocket-client==1.6.1 in /usr/local/lib/python3.10/dist-packages (from -r requirements.txt (line 496)) (1.6.1)\n",
      "Requirement already satisfied: Werkzeug==2.3.6 in /usr/local/lib/python3.10/dist-packages (from -r requirements.txt (line 497)) (2.3.6)\n",
      "Requirement already satisfied: widgetsnbextension==3.6.4 in /usr/local/lib/python3.10/dist-packages (from -r requirements.txt (line 498)) (3.6.4)\n",
      "Requirement already satisfied: wordcloud==1.8.2.2 in /usr/local/lib/python3.10/dist-packages (from -r requirements.txt (line 499)) (1.8.2.2)\n",
      "Requirement already satisfied: wrapt==1.14.1 in /usr/local/lib/python3.10/dist-packages (from -r requirements.txt (line 500)) (1.14.1)\n",
      "Requirement already satisfied: xarray==2022.12.0 in /usr/local/lib/python3.10/dist-packages (from -r requirements.txt (line 501)) (2022.12.0)\n",
      "Requirement already satisfied: xarray-einstats==0.6.0 in /usr/local/lib/python3.10/dist-packages (from -r requirements.txt (line 502)) (0.6.0)\n",
      "Requirement already satisfied: xgboost==1.7.6 in /usr/local/lib/python3.10/dist-packages (from -r requirements.txt (line 503)) (1.7.6)\n",
      "Requirement already satisfied: xlrd==2.0.1 in /usr/local/lib/python3.10/dist-packages (from -r requirements.txt (line 504)) (2.0.1)\n",
      "Requirement already satisfied: xmltodict==0.13.0 in /usr/local/lib/python3.10/dist-packages (from -r requirements.txt (line 505)) (0.13.0)\n",
      "Requirement already satisfied: xyzservices==2023.7.0 in /usr/local/lib/python3.10/dist-packages (from -r requirements.txt (line 506)) (2023.7.0)\n",
      "Requirement already satisfied: yadisk==1.2.14 in /usr/local/lib/python3.10/dist-packages (from -r requirements.txt (line 507)) (1.2.14)\n",
      "Requirement already satisfied: yarl==1.9.2 in /usr/local/lib/python3.10/dist-packages (from -r requirements.txt (line 508)) (1.9.2)\n",
      "Requirement already satisfied: yellowbrick==1.5 in /usr/local/lib/python3.10/dist-packages (from -r requirements.txt (line 509)) (1.5)\n",
      "Requirement already satisfied: yfinance==0.2.25 in /usr/local/lib/python3.10/dist-packages (from -r requirements.txt (line 510)) (0.2.25)\n",
      "Requirement already satisfied: zc.lockfile==3.0.post1 in /usr/local/lib/python3.10/dist-packages (from -r requirements.txt (line 511)) (3.0.post1)\n",
      "Requirement already satisfied: zict==3.0.0 in /usr/local/lib/python3.10/dist-packages (from -r requirements.txt (line 512)) (3.0.0)\n",
      "Requirement already satisfied: zipp==3.16.2 in /usr/local/lib/python3.10/dist-packages (from -r requirements.txt (line 513)) (3.16.2)\n",
      "Requirement already satisfied: setuptools>=60.0.0 in /kernel/lib/python3.10/site-packages (from arviz==0.15.1->-r requirements.txt (line 17)) (65.5.0)\n",
      "Requirement already satisfied: wheel<1.0,>=0.23.0 in /usr/local/lib/python3.10/dist-packages (from astunparse==1.6.3->-r requirements.txt (line 19)) (0.41.1)\n",
      "Collecting setuptools>=60.0.0 (from arviz==0.15.1->-r requirements.txt (line 17))\n",
      "  Downloading setuptools-80.7.1-py3-none-any.whl.metadata (6.6 kB)\n",
      "Requirement already satisfied: pip in /kernel/lib/python3.10/site-packages (from fastai==2.7.12->-r requirements.txt (line 115)) (23.0.1)\n",
      "Collecting pycairo>=1.16.0 (from PyGObject==3.42.1->-r requirements.txt (line 354))\n",
      "  Downloading pycairo-1.28.0.tar.gz (662 kB)\n",
      "\u001b[2K     \u001b[90m━━━━━━━━━━━━━━━━━━━━━━━━━━━━━━━━━━━━━\u001b[0m \u001b[32m662.5/662.5 kB\u001b[0m \u001b[31m109.1 kB/s\u001b[0m eta \u001b[36m0:00:00\u001b[0ma \u001b[36m0:00:01\u001b[0m\n",
      "\u001b[?25h  Preparing metadata (pyproject.toml) ... \u001b[?25ldone\n",
      "\n",
      "\u001b[1m[\u001b[0m\u001b[34;49mnotice\u001b[0m\u001b[1;39;49m]\u001b[0m\u001b[39;49m A new release of pip is available: \u001b[0m\u001b[31;49m23.0.1\u001b[0m\u001b[39;49m -> \u001b[0m\u001b[32;49m25.1.1\u001b[0m\n",
      "\u001b[1m[\u001b[0m\u001b[34;49mnotice\u001b[0m\u001b[1;39;49m]\u001b[0m\u001b[39;49m To update, run: \u001b[0m\u001b[32;49mpython3 -m pip install --upgrade pip\u001b[0m\n",
      "\u001b[31mERROR: Exception:\n",
      "Traceback (most recent call last):\n",
      "  File \"/kernel/lib/python3.10/site-packages/pip/_internal/cli/base_command.py\", line 105, in _run_wrapper\n",
      "    status = _inner_run()\n",
      "  File \"/kernel/lib/python3.10/site-packages/pip/_internal/cli/base_command.py\", line 96, in _inner_run\n",
      "    return self.run(options, args)\n",
      "  File \"/kernel/lib/python3.10/site-packages/pip/_internal/cli/req_command.py\", line 67, in wrapper\n",
      "    return func(self, options, args)\n",
      "  File \"/kernel/lib/python3.10/site-packages/pip/_internal/commands/install.py\", line 379, in run\n",
      "    requirement_set = resolver.resolve(\n",
      "  File \"/kernel/lib/python3.10/site-packages/pip/_internal/resolution/resolvelib/resolver.py\", line 95, in resolve\n",
      "    result = self._result = resolver.resolve(\n",
      "  File \"/kernel/lib/python3.10/site-packages/pip/_vendor/resolvelib/resolvers.py\", line 546, in resolve\n",
      "    state = resolution.resolve(requirements, max_rounds=max_rounds)\n",
      "  File \"/kernel/lib/python3.10/site-packages/pip/_vendor/resolvelib/resolvers.py\", line 427, in resolve\n",
      "    failure_causes = self._attempt_to_pin_criterion(name)\n",
      "  File \"/kernel/lib/python3.10/site-packages/pip/_vendor/resolvelib/resolvers.py\", line 239, in _attempt_to_pin_criterion\n",
      "    criteria = self._get_updated_criteria(candidate)\n",
      "  File \"/kernel/lib/python3.10/site-packages/pip/_vendor/resolvelib/resolvers.py\", line 230, in _get_updated_criteria\n",
      "    self._add_to_criteria(criteria, requirement, parent=candidate)\n",
      "  File \"/kernel/lib/python3.10/site-packages/pip/_vendor/resolvelib/resolvers.py\", line 173, in _add_to_criteria\n",
      "    if not criterion.candidates:\n",
      "  File \"/kernel/lib/python3.10/site-packages/pip/_vendor/resolvelib/structs.py\", line 156, in __bool__\n",
      "    return bool(self._sequence)\n",
      "  File \"/kernel/lib/python3.10/site-packages/pip/_internal/resolution/resolvelib/found_candidates.py\", line 174, in __bool__\n",
      "    return any(self)\n",
      "  File \"/kernel/lib/python3.10/site-packages/pip/_internal/resolution/resolvelib/found_candidates.py\", line 162, in <genexpr>\n",
      "    return (c for c in iterator if id(c) not in self._incompatible_ids)\n",
      "  File \"/kernel/lib/python3.10/site-packages/pip/_internal/resolution/resolvelib/found_candidates.py\", line 53, in _iter_built\n",
      "    candidate = func()\n",
      "  File \"/kernel/lib/python3.10/site-packages/pip/_internal/resolution/resolvelib/factory.py\", line 186, in _make_candidate_from_link\n",
      "    base: Optional[BaseCandidate] = self._make_base_candidate_from_link(\n",
      "  File \"/kernel/lib/python3.10/site-packages/pip/_internal/resolution/resolvelib/factory.py\", line 232, in _make_base_candidate_from_link\n",
      "    self._link_candidate_cache[link] = LinkCandidate(\n",
      "  File \"/kernel/lib/python3.10/site-packages/pip/_internal/resolution/resolvelib/candidates.py\", line 303, in __init__\n",
      "    super().__init__(\n",
      "  File \"/kernel/lib/python3.10/site-packages/pip/_internal/resolution/resolvelib/candidates.py\", line 158, in __init__\n",
      "    self.dist = self._prepare()\n",
      "  File \"/kernel/lib/python3.10/site-packages/pip/_internal/resolution/resolvelib/candidates.py\", line 235, in _prepare\n",
      "    dist = self._prepare_distribution()\n",
      "  File \"/kernel/lib/python3.10/site-packages/pip/_internal/resolution/resolvelib/candidates.py\", line 314, in _prepare_distribution\n",
      "    return preparer.prepare_linked_requirement(self._ireq, parallel_builds=True)\n",
      "  File \"/kernel/lib/python3.10/site-packages/pip/_internal/operations/prepare.py\", line 527, in prepare_linked_requirement\n",
      "    return self._prepare_linked_requirement(req, parallel_builds)\n",
      "  File \"/kernel/lib/python3.10/site-packages/pip/_internal/operations/prepare.py\", line 642, in _prepare_linked_requirement\n",
      "    dist = _get_prepared_distribution(\n",
      "  File \"/kernel/lib/python3.10/site-packages/pip/_internal/operations/prepare.py\", line 72, in _get_prepared_distribution\n",
      "    abstract_dist.prepare_distribution_metadata(\n",
      "  File \"/kernel/lib/python3.10/site-packages/pip/_internal/distributions/sdist.py\", line 69, in prepare_distribution_metadata\n",
      "    self.req.prepare_metadata()\n",
      "  File \"/kernel/lib/python3.10/site-packages/pip/_internal/req/req_install.py\", line 575, in prepare_metadata\n",
      "    self.metadata_directory = generate_metadata(\n",
      "  File \"/kernel/lib/python3.10/site-packages/pip/_internal/operations/build/metadata.py\", line 35, in generate_metadata\n",
      "    distinfo_dir = backend.prepare_metadata_for_build_wheel(metadata_dir)\n",
      "  File \"/kernel/lib/python3.10/site-packages/pip/_internal/utils/misc.py\", line 727, in prepare_metadata_for_build_wheel\n",
      "    return super().prepare_metadata_for_build_wheel(\n",
      "  File \"/kernel/lib/python3.10/site-packages/pip/_vendor/pyproject_hooks/_impl.py\", line 186, in prepare_metadata_for_build_wheel\n",
      "    return self._call_hook('prepare_metadata_for_build_wheel', {\n",
      "  File \"/kernel/lib/python3.10/site-packages/pip/_vendor/pyproject_hooks/_impl.py\", line 321, in _call_hook\n",
      "    raise BackendUnavailable(data.get('traceback', ''))\n",
      "pip._vendor.pyproject_hooks._impl.BackendUnavailable: Traceback (most recent call last):\n",
      "  File \"/kernel/lib/python3.10/site-packages/pip/_vendor/pyproject_hooks/_in_process/_in_process.py\", line 77, in _build_backend\n",
      "    obj = import_module(mod_path)\n",
      "  File \"/usr/lib/python3.10/importlib/__init__.py\", line 126, in import_module\n",
      "    return _bootstrap._gcd_import(name[level:], package, level)\n",
      "  File \"<frozen importlib._bootstrap>\", line 1050, in _gcd_import\n",
      "  File \"<frozen importlib._bootstrap>\", line 1027, in _find_and_load\n",
      "  File \"<frozen importlib._bootstrap>\", line 1004, in _find_and_load_unlocked\n",
      "ModuleNotFoundError: No module named 'mesonpy'\n",
      "\u001b[0m\u001b[31m\n",
      "\u001b[0m\u001b[?25h"
     ]
    }
   ],
   "source": [
    "pip install -r requirements.txt"
   ]
  },
  {
   "cell_type": "code",
   "execution_count": 9,
   "id": "6f84c659-7e5c-46a6-ad5d-aed5f99f8110",
   "metadata": {
    "execution": {
     "iopub.execute_input": "2025-05-18T21:45:02.369859Z",
     "iopub.status.busy": "2025-05-18T21:45:02.368794Z",
     "iopub.status.idle": "2025-05-18T21:45:02.426704Z",
     "shell.execute_reply": "2025-05-18T21:45:02.425959Z",
     "shell.execute_reply.started": "2025-05-18T21:45:02.369808Z"
    },
    "tags": []
   },
   "outputs": [],
   "source": [
    "import torch\n",
    "import torch.nn as nn\n",
    "import torch.optim as optim\n",
    "import torch.nn.functional as F\n",
    "import torchvision\n",
    "from torchvision import transforms, datasets,models\n",
    "from torch.utils.data import DataLoader, Dataset\n",
    "import torchvision.transforms as transforms\n",
    "import matplotlib.pyplot as plt\n",
    "import matplotlib.image as mpimg\n",
    "from IPython.display import clear_output\n",
    "from tqdm import tqdm\n",
    "import os\n",
    "import zipfile\n",
    "import seaborn as sns\n",
    "import pandas as pd\n",
    "import numpy as np\n",
    "\n",
    "import re\n",
    "import nltk\n",
    "from nltk.corpus import stopwords\n",
    "from nltk.tokenize import word_tokenize\n",
    "import pymorphy2\n",
    "from nltk.stem.snowball import RussianStemmer\n",
    "from sklearn.model_selection import train_test_split\n",
    "from sklearn.feature_extraction.text import TfidfVectorizer\n",
    "import transformers\n",
    "import torchmetrics\n",
    "from torchmetrics.classification import MultilabelF1Score\n",
    "from nltk.stem import PorterStemmer\n",
    "from nltk.stem import WordNetLemmatizer\n",
    "from collections import defaultdict\n",
    "from gensim.models import Word2Vec\n",
    "from collections import Counter\n",
    "from nltk.tokenize import word_tokenize\n",
    "from transformers import AutoModel, AutoTokenizer\n",
    "from transformers import GPT2LMHeadModel, GPT2Tokenizer"
   ]
  },
  {
   "cell_type": "code",
   "execution_count": 41,
   "id": "0c0a47a5-e764-417f-bf01-81fccff54ec3",
   "metadata": {
    "execution": {
     "iopub.execute_input": "2025-05-18T22:54:28.151818Z",
     "iopub.status.busy": "2025-05-18T22:54:28.150803Z",
     "iopub.status.idle": "2025-05-18T22:54:28.544429Z",
     "shell.execute_reply": "2025-05-18T22:54:28.543619Z",
     "shell.execute_reply.started": "2025-05-18T22:54:28.151779Z"
    },
    "tags": []
   },
   "outputs": [
    {
     "name": "stderr",
     "output_type": "stream",
     "text": [
      "[nltk_data] Downloading package stopwords to\n",
      "[nltk_data]     /home/jupyter/nltk_data...\n",
      "[nltk_data]   Package stopwords is already up-to-date!\n",
      "[nltk_data] Downloading package omw-1.4 to /home/jupyter/nltk_data...\n",
      "[nltk_data]   Package omw-1.4 is already up-to-date!\n"
     ]
    }
   ],
   "source": [
    "class EarlyStopping:\n",
    "    def __init__(self, patience=5, verbose=False, delta=0):\n",
    "        self.patience = patience #отвечает за период в течении которого не улучшается метрика \n",
    "        self.verbose = verbose\n",
    "        self.counter = 0 #счетчик увеличивается каждую эпоху, если не было улучшения \n",
    "        self.best_score = None\n",
    "        self.early_stop = False\n",
    "        self.delta = delta\n",
    "        self.best_model_state = None\n",
    "\n",
    "    def __call__(self, val_metric, model):\n",
    "        score = -val_metric  # Assuming lower loss is better\n",
    "        if self.best_score is None:\n",
    "            self.best_score = score\n",
    "            self.best_model_state = model.state_dict()\n",
    "        elif score < self.best_score + self.delta: #делта чтобы не сохранялись совсем маленькие приросты \n",
    "            self.counter += 1\n",
    "            if self.verbose:\n",
    "                print(f\"EarlyStopping counter: {self.counter} out of {self.patience}\")\n",
    "            if self.counter >= self.patience:\n",
    "                self.early_stop = True\n",
    "        else:\n",
    "            self.best_score = score\n",
    "            self.best_model_state = model.state_dict()\n",
    "            self.counter = 0\n",
    "            \n",
    "def warmup_lr_scheduler(optimizer, epoch, warmup_epochs, base_lr, warmup_lr_start=1e-5):\n",
    "    if epoch < warmup_epochs: # пока идут эпохт вормапа lr изменяется по определенному закону \n",
    "        lr = warmup_lr_start + (base_lr - warmup_lr_start) * (epoch / warmup_epochs)\n",
    "        for param_group in optimizer.param_groups:\n",
    "            param_group['lr'] = lr\n",
    "    return optimizer  \n",
    "def tf_idf_both(text):\n",
    "    \n",
    "    text = text.lower()\n",
    "    text = re.sub(r'https?://\\S+|www\\.\\S+', '', text) #удаляем ссылки \n",
    "    text = re.sub(r'@\\S+', '', text) #удаляем теги почт и тг\n",
    "    text = re.sub(r'[^a-zA-Zа-яА-ЯёЁ\\s-]', '', text)  #убираем все кроме рус/англ букв и - \n",
    "    text = re.sub(r'-',' ',text) #были слова по типу \"перфоманс-инсталляция\" сделали так чтобы убрать - и не было слипаний \n",
    "    \n",
    "    tokens = text.split()\n",
    "    #для русского лемматизация для английского стемминг\n",
    "    tokens = [lemmer_rus.parse(token)[0].normal_form if re.search('[а-яё]', token) else stemmer_eng.stem(token) for token in tokens]\n",
    "    \n",
    "    tokens = [token for token in tokens if token not in (stop_words_eng and stop_words_rus) and len(token) > 2]\n",
    "    return ' '.join(tokens)\n",
    "\n",
    "class My_Dataset(Dataset):\n",
    "    def __init__(self, text, label, split='train'):\n",
    "        n=text.shape[0]\n",
    "        self.split=split\n",
    "        if self.split == 'train':\n",
    "            self.text=text[:int(n*0.7)]\n",
    "            self.label=label[:int(n*0.7)]\n",
    "        elif self.split == 'val':\n",
    "            self.text=text[int(n*0.7):]\n",
    "            self.label=label[int(n*0.7):]\n",
    "        else:\n",
    "            self.text=text\n",
    "            self.label=label\n",
    "                \n",
    "    def __len__(self):\n",
    "        return self.text.shape[0]  \n",
    "\n",
    "    def __getitem__(self, idx):\n",
    "        return self.text[idx], self.label[idx]\n",
    "    \n",
    "class test_Dataset(Dataset):\n",
    "    def __init__(self, text):\n",
    "            self.text=text\n",
    "                \n",
    "    def __len__(self):\n",
    "        return self.text.shape[0]  \n",
    "\n",
    "    def __getitem__(self, idx):\n",
    "        return self.text[idx]    \n",
    "    \n",
    "nltk.download('stopwords') \n",
    "nltk.download('omw-1.4')\n",
    "import inspect\n",
    "if not hasattr(inspect, 'getargspec'):\n",
    "    import collections\n",
    "    def getargspec(func):\n",
    "        sig = inspect.signature(func)\n",
    "        args = []\n",
    "        varargs = None\n",
    "        varkw = None\n",
    "        defaults = []\n",
    "        for param in sig.parameters.values():\n",
    "            if param.kind == param.VAR_POSITIONAL:\n",
    "                varargs = param.name\n",
    "            elif param.kind == param.VAR_KEYWORD:\n",
    "                varkw = param.name\n",
    "            else:\n",
    "                args.append(param.name)\n",
    "                if param.default is not param.empty:\n",
    "                    defaults.append(param.default)\n",
    "        return collections.namedtuple('ArgSpec', 'args varargs keywords defaults')(args, varargs, varkw, tuple(defaults) if defaults else None)\n",
    "    inspect.getargspec = getargspec\n",
    "lemmer_rus = pymorphy2.MorphAnalyzer() \n",
    "lemmer_eng = WordNetLemmatizer()\n",
    "#лемматизация \n",
    "stemmer_rus = RussianStemmer()\n",
    "stemmer_eng =PorterStemmer()#стемматизация\n",
    "\n",
    "stop_words_rus = set(stopwords.words('russian'))\n",
    "stop_words_eng =set(stopwords.words('english'))    "
   ]
  },
  {
   "cell_type": "code",
   "execution_count": 14,
   "id": "0e7bbe0b-acfc-4a20-b3e5-91437deb11df",
   "metadata": {
    "execution": {
     "iopub.execute_input": "2025-05-18T20:52:15.736646Z",
     "iopub.status.busy": "2025-05-18T20:52:15.735804Z",
     "iopub.status.idle": "2025-05-18T21:02:08.673670Z",
     "shell.execute_reply": "2025-05-18T21:02:08.672817Z",
     "shell.execute_reply.started": "2025-05-18T20:52:15.736603Z"
    },
    "tags": []
   },
   "outputs": [
    {
     "data": {
      "image/png": "[encoded data removed]",
      "text/plain": [
       "<Figure size 1200x500 with 2 Axes>"
      ]
     },
     "metadata": {},
     "output_type": "display_data"
    },
    {
     "name": "stderr",
     "output_type": "stream",
     "text": [
      "100%|██████████| 15/15 [09:52<00:00, 39.47s/it]"
     ]
    },
    {
     "name": "stdout",
     "output_type": "stream",
     "text": [
      "Epoch 15/15 | LR: 0.001000 | Train Loss: 0.0465, Train f1: 0.97\n"
     ]
    },
    {
     "name": "stderr",
     "output_type": "stream",
     "text": [
      "\n"
     ]
    }
   ],
   "source": [
    "df=pd.read_csv('content2/train.csv')\n",
    "df['clean_text']= df.text.apply(lambda x: tf_idf_both(x))\n",
    "labels_tensor=torch.FloatTensor(np.array([np.fromstring(row, dtype=int, sep=' ') for row in df['labels'].values]))\n",
    "\n",
    "tf_idf = TfidfVectorizer(\n",
    "     max_df=0.95,      \n",
    "     min_df=1,\n",
    "     norm='l2',        \n",
    " sublinear_tf=True\n",
    ")\n",
    "X = tf_idf.fit_transform(df.clean_text) \n",
    "X_tensor = torch.FloatTensor(X.toarray())\n",
    "\n",
    "\n",
    "train_dataset=My_Dataset(X_tensor,labels_tensor,split=None)\n",
    "train_loader = DataLoader(train_dataset, batch_size=32, shuffle=True)\n",
    "\n",
    "num_classes = 20\n",
    "num_uwords=X_tensor.shape[1]\n",
    "\n",
    "model = nn.Sequential(\n",
    "    nn.Linear(num_uwords,2048),\n",
    "    nn.BatchNorm1d(2048),\n",
    "    nn.ReLU(),\n",
    "    nn.Dropout(p=0.4),\n",
    "    \n",
    "    nn.Linear(2048,1024),\n",
    "    nn.BatchNorm1d(1024),\n",
    "    nn.LeakyReLU(0.2),\n",
    "    nn.Dropout(p=0.4),\n",
    "    \n",
    "    nn.Linear(1024,512),\n",
    "    nn.ReLU(),\n",
    "    nn.Dropout(p=0.4),\n",
    "    nn.Linear(512,num_classes)\n",
    ")\n",
    "device = torch.device(\"cuda\" if torch.cuda.is_available() else \"cpu\")\n",
    "model = model.to(device)\n",
    "\n",
    "train_losses, val_losses = [], []\n",
    "train_accuracies, val_accuracies = [], []\n",
    "\n",
    "metric = MultilabelF1Score(num_labels=20)  \n",
    "criterion = nn.BCEWithLogitsLoss()\n",
    "optimizer = optim.Adam(model.parameters(), lr=0.001) \n",
    "scheduler = optim.lr_scheduler.StepLR(optimizer, step_size=2, gamma=0.5)\n",
    "\n",
    "early_stopping_optimizer_switch = EarlyStopping(patience=2, verbose=True)\n",
    "early_stopping_loss_switch = EarlyStopping(patience=2, verbose=True)\n",
    "\n",
    "warmup_epochs = 2\n",
    "base_lr = 0.01\n",
    "loss_switched = False\n",
    "optimizer_switched = False\n",
    "num_epochs=15\n",
    "\n",
    "for epoch in tqdm(range(num_epochs)):\n",
    "    model.train()\n",
    "    running_loss = 0\n",
    "    \n",
    "    # if epoch < warmup_epochs:\n",
    "    #      optimizer = warmup_lr_scheduler(optimizer, epoch, warmup_epochs, base_lr, warmup_lr_start=1e-5)\n",
    "    # else:  \n",
    "    #      scheduler.step()\n",
    "        \n",
    "    all_preds_train = []\n",
    "    all_labels_train = []\n",
    "    \n",
    "    for inputs, targets in train_loader:\n",
    "        inputs = inputs.to(device)\n",
    "        targets= targets.to(device)\n",
    "        optimizer.zero_grad()\n",
    "        outputs = model(inputs)\n",
    "        loss = criterion(outputs, targets)\n",
    "        loss.backward()\n",
    "        optimizer.step()\n",
    "\n",
    "        running_loss += loss.item() * inputs.size(0)\n",
    "        predicted =  torch.sigmoid(outputs)\n",
    "        \n",
    "        all_preds_train.append(predicted.cpu())\n",
    "        all_labels_train.append(targets.cpu())\n",
    "\n",
    "    all_preds_train = torch.cat(all_preds_train, dim=0)\n",
    "    all_labels_train = torch.cat(all_labels_train, dim=0)\n",
    "    \n",
    "    train_loss = running_loss / len(train_loader.dataset)\n",
    "    train_acc =  metric(all_preds_train,all_labels_train)\n",
    "    \n",
    "\n",
    "    train_losses.append(train_loss)\n",
    "    train_accuracies.append(train_acc.cpu().item())\n",
    "\n",
    "    clear_output(wait=True)\n",
    "    plt.figure(figsize=(12,5))\n",
    "    plt.subplot(1,2,1)\n",
    "    plt.plot(range(1, len(train_losses)+1), train_losses, label=\"Train Loss\")\n",
    "    plt.xlabel(\"Epoch\")\n",
    "    plt.ylabel(\"Loss\")\n",
    "    plt.title(\"Loss over Epochs\")\n",
    "    plt.legend()\n",
    "    \n",
    "    plt.subplot(1,2,2)\n",
    "    plt.plot(range(1, len(train_accuracies)+1), train_accuracies, label=\"Train f1\")\n",
    "    plt.xlabel(\"Epoch\")\n",
    "    plt.ylabel(\"F1\")\n",
    "    plt.title(\"F1 over Epochs\")\n",
    "    plt.legend()\n",
    "    plt.show()\n",
    "    print(f\"Epoch {epoch+1}/{num_epochs} | LR: {optimizer.param_groups[0]['lr']:.6f} | Train Loss: {train_loss:.4f}, Train f1: {train_acc:.2f}\")# | Val Loss: {val_loss:.4f}, Val f1: {val_acc:.2f}\")\n",
    "\n",
    "    early_stopping_optimizer_switch(train_loss, model)\n",
    "    if early_stopping_optimizer_switch.early_stop and not optimizer_switched:\n",
    "        print(\"No improvement after loss switch. Switching optimizer to Adam.\")\n",
    "        optimizer =optim.Adam(model.parameters(), lr=0.001)\n",
    "        base_lr = 0.001\n",
    "        optimizer_switched = True\n",
    "        early_stopping_optimizer_switch = EarlyStopping(patience=2, verbose=True)"
   ]
  },
  {
   "cell_type": "code",
   "execution_count": 15,
   "id": "401c7dea-4161-4ac4-aa05-2c068bc85cf3",
   "metadata": {
    "execution": {
     "iopub.execute_input": "2025-05-18T21:02:32.643471Z",
     "iopub.status.busy": "2025-05-18T21:02:32.642477Z",
     "iopub.status.idle": "2025-05-18T21:04:30.279343Z",
     "shell.execute_reply": "2025-05-18T21:04:30.278492Z",
     "shell.execute_reply.started": "2025-05-18T21:02:32.643430Z"
    },
    "tags": []
   },
   "outputs": [
    {
     "name": "stdout",
     "output_type": "stream",
     "text": [
      "7392\n"
     ]
    }
   ],
   "source": [
    "model.load_state_dict(early_stopping_optimizer_switch.best_model_state)\n",
    "test=pd.read_csv('content2/test.csv')\n",
    "\n",
    "test['clean_text']=test.text.apply(lambda x: tf_idf_both(x))\n",
    "\n",
    "X = tf_idf.transform(test.clean_text) \n",
    "X_tensor = torch.FloatTensor(X.toarray())\n",
    "\n",
    "\n",
    "test_dataset=test_Dataset(X_tensor)\n",
    "test_loader = DataLoader(test_dataset, batch_size=32, shuffle=False)\n",
    "\n",
    "model.eval()\n",
    "test_predictions = []\n",
    "for inputs in test_loader:\n",
    "    inputs=inputs.to(device)\n",
    "    with torch.no_grad():\n",
    "        outputs=model(inputs)\n",
    "        preds=torch.sigmoid(outputs)\n",
    "        preds = (preds >= 0.5).float()\n",
    "        test_predictions.extend(preds.cpu().numpy().tolist())\n",
    "print(len(test_predictions))      \n",
    "\n",
    "tags=pd.read_csv('/home/jupyter/datasphere/project/content2/sample_submission.csv')\n",
    "tags['labels']=[' '.join(map(str, map(int, i))) for i in test_predictions]\n",
    "tags.to_csv('end.csv', index=False) \n"
   ]
  }
 ],
 "metadata": {
  "kernelspec": {
   "display_name": "DataSphere Kernel",
   "language": "python",
   "name": "python3"
  },
  "language_info": {
   "codemirror_mode": {
    "name": "ipython",
    "version": 3
   },
   "file_extension": ".py",
   "mimetype": "text/x-python",
   "name": "python",
   "nbconvert_exporter": "python",
   "pygments_lexer": "ipython3",
   "version": "3.10.12"
  }
 },
 "nbformat": 4,
 "nbformat_minor": 5
}
