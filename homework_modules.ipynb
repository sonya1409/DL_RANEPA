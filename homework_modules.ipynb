{
 "cells": [
  {
   "cell_type": "code",
   "execution_count": 1,
   "metadata": {},
   "outputs": [],
   "source": [
    "#conda update sympy"
   ]
  },
  {
   "cell_type": "code",
   "execution_count": 4,
   "metadata": {
    "id": "3MeKai5Xj6eX"
   },
   "outputs": [],
   "source": [
    "import numpy as np\n",
    "import torch\n",
    "from torch.autograd import Variable\n",
    "import unittest"
   ]
  },
  {
   "cell_type": "markdown",
   "metadata": {
    "id": "wwlFrG-Tj6eY"
   },
   "source": [
    "**Module** is an abstract class which defines fundamental methods necessary for a training a neural network. You do not need to change anything here, just read the comments."
   ]
  },
  {
   "cell_type": "code",
   "execution_count": 5,
   "metadata": {
    "id": "W8BLmtZ3j6eZ"
   },
   "outputs": [],
   "source": [
    "class Module(object):\n",
    "    \"\"\"\n",
    "    Basically, you can think of a module as of a something (black box)\n",
    "    which can process `input` data and produce `ouput` data.\n",
    "    This is like applying a function which is called `forward`:\n",
    "\n",
    "        output = module.forward(input)\n",
    "\n",
    "    The module should be able to perform a backward pass: to differentiate the `forward` function.\n",
    "    More, it should be able to differentiate it if is a part of chain (chain rule).\n",
    "    The latter implies there is a gradient from previous step of a chain rule.\n",
    "\n",
    "        gradInput = module.backward(input, gradOutput)\n",
    "    \"\"\"\n",
    "    def __init__ (self):\n",
    "        self.output = None\n",
    "        self.gradInput = None\n",
    "        self.training = True\n",
    "\n",
    "    def forward(self, input):\n",
    "        \"\"\"\n",
    "        Takes an input object, and computes the corresponding output of the module.\n",
    "        \"\"\"\n",
    "        return self.updateOutput(input)\n",
    "\n",
    "    def backward(self,input, gradOutput):\n",
    "        \"\"\"\n",
    "        Performs a backpropagation step through the module, with respect to the given input.\n",
    "\n",
    "        This includes\n",
    "         - computing a gradient w.r.t. `input` (is needed for further backprop),\n",
    "         - computing a gradient w.r.t. parameters (to update parameters while optimizing).\n",
    "        \"\"\"\n",
    "        self.updateGradInput(input, gradOutput)\n",
    "        self.accGradParameters(input, gradOutput)\n",
    "        return self.gradInput\n",
    "\n",
    "\n",
    "    def updateOutput(self, input):\n",
    "        \"\"\"\n",
    "        Computes the output using the current parameter set of the class and input.\n",
    "        This function returns the result which is stored in the `output` field.\n",
    "\n",
    "        Make sure to both store the data in `output` field and return it.\n",
    "        \"\"\"\n",
    "\n",
    "        # The easiest case:\n",
    "\n",
    "        # self.output = input\n",
    "        # return self.output\n",
    "\n",
    "        pass\n",
    "\n",
    "    def updateGradInput(self, input, gradOutput):\n",
    "        \"\"\"\n",
    "        Computing the gradient of the module with respect to its own input.\n",
    "        This is returned in `gradInput`. Also, the `gradInput` state variable is updated accordingly.\n",
    "\n",
    "        The shape of `gradInput` is always the same as the shape of `input`.\n",
    "\n",
    "        Make sure to both store the gradients in `gradInput` field and return it.\n",
    "        \"\"\"\n",
    "\n",
    "        # The easiest case:\n",
    "\n",
    "        # self.gradInput = gradOutput\n",
    "        # return self.gradInput\n",
    "\n",
    "        pass\n",
    "\n",
    "    def accGradParameters(self, input, gradOutput):\n",
    "        \"\"\"\n",
    "        Computing the gradient of the module with respect to its own parameters.\n",
    "        No need to override if module has no parameters (e.g. ReLU).\n",
    "        \"\"\"\n",
    "        pass\n",
    "\n",
    "    def zeroGradParameters(self):\n",
    "        \"\"\"\n",
    "        Zeroes `gradParams` variable if the module has params.\n",
    "        \"\"\"\n",
    "        pass\n",
    "\n",
    "    def getParameters(self):\n",
    "        \"\"\"\n",
    "        Returns a list with its parameters.\n",
    "        If the module does not have parameters return empty list.\n",
    "        \"\"\"\n",
    "        return []\n",
    "\n",
    "    def getGradParameters(self):\n",
    "        \"\"\"\n",
    "        Returns a list with gradients with respect to its parameters.\n",
    "        If the module does not have parameters return empty list.\n",
    "        \"\"\"\n",
    "        return []\n",
    "\n",
    "    def train(self):\n",
    "        \"\"\"\n",
    "        Sets training mode for the module.\n",
    "        Training and testing behaviour differs for Dropout, BatchNorm.\n",
    "        \"\"\"\n",
    "        self.training = True\n",
    "\n",
    "    def evaluate(self):\n",
    "        \"\"\"\n",
    "        Sets evaluation mode for the module.\n",
    "        Training and testing behaviour differs for Dropout, BatchNorm.\n",
    "        \"\"\"\n",
    "        self.training = False\n",
    "\n",
    "    def __repr__(self):\n",
    "        \"\"\"\n",
    "        Pretty printing. Should be overrided in every module if you want\n",
    "        to have readable description.\n",
    "        \"\"\"\n",
    "        return \"Module\""
   ]
  },
  {
   "cell_type": "markdown",
   "metadata": {
    "id": "mKRkIjT8j6eZ"
   },
   "source": [
    "# Sequential container"
   ]
  },
  {
   "cell_type": "markdown",
   "metadata": {
    "id": "Cb98PPpJj6ea"
   },
   "source": [
    "**Define** a forward and backward pass procedures."
   ]
  },
  {
   "cell_type": "code",
   "execution_count": 6,
   "metadata": {
    "id": "7y2lav4dj6ea"
   },
   "outputs": [],
   "source": [
    "class Sequential(Module):\n",
    "    \"\"\"\n",
    "         This class implements a container, which processes `input` data sequentially. \n",
    "         \n",
    "         `input` is processed by each module (layer) in self.modules consecutively.\n",
    "         The resulting array is called `output`. \n",
    "    \"\"\"\n",
    "    \n",
    "    def __init__ (self):\n",
    "        super(Sequential, self).__init__()\n",
    "        self.modules = []\n",
    "   \n",
    "    def add(self, module):\n",
    "        \"\"\"\n",
    "        Adds a module to the container.\n",
    "        \"\"\"\n",
    "        self.modules.append(module)\n",
    "\n",
    "    def updateOutput(self, input):\n",
    "        \"\"\"\n",
    "        Basic workflow of FORWARD PASS:\n",
    "        \n",
    "            y_0    = module[0].forward(input)\n",
    "            y_1    = module[1].forward(y_0)\n",
    "            ...\n",
    "            output = module[n-1].forward(y_{n-2})   \n",
    "            \n",
    "            \n",
    "        Just write a little loop. \n",
    "        \"\"\"\n",
    "        self.output = input\n",
    "        for module in self.modules:\n",
    "            self.output = module.forward(self.output)\n",
    "        return self.output\n",
    "\n",
    "    def backward(self, input, gradOutput):\n",
    "        \"\"\"\n",
    "        Workflow of BACKWARD PASS:\n",
    "            \n",
    "            g_{n-1} = module[n-1].backward(y_{n-2}, gradOutput)\n",
    "            g_{n-2} = module[n-2].backward(y_{n-3}, g_{n-1})\n",
    "            ...\n",
    "            g_1 = module[1].backward(y_0, g_2)   \n",
    "            gradInput = module[0].backward(input, g_1)   \n",
    "             \n",
    "             \n",
    "        !!!\n",
    "                \n",
    "        To ech module you need to provide the input, module saw while forward pass, \n",
    "        it is used while computing gradients. \n",
    "        Make sure that the input for `i-th` layer the output of `module[i]` (just the same input as in forward pass) \n",
    "        and NOT `input` to this Sequential module. \n",
    "        \n",
    "        !!!\n",
    "        \n",
    "        \"\"\"\n",
    "        #прямой проход\n",
    "        self.forward = []\n",
    "        current_output = input\n",
    "        self.forward.append(current_output)\n",
    "        for module in self.modules:\n",
    "            current_output = module.forward(current_output)\n",
    "            self.forward.append(current_output)\n",
    "\n",
    "        #обратный проход\n",
    "        current_grad = gradOutput\n",
    "        for i in range(len(self.modules)-1, 0, -1):\n",
    "            current_grad = self.modules[i].backward(self.forward[i], current_grad)\n",
    "        \n",
    "        self.gradInput = self.modules[0].backward(self.forward[0], current_grad)       \n",
    "        return self.gradInput\n",
    "        \n",
    "    def zeroGradParameters(self): \n",
    "        for module in self.modules:\n",
    "            module.zeroGradParameters()\n",
    "    \n",
    "    def getParameters(self):\n",
    "        \"\"\"\n",
    "        Should gather all parameters in a list.\n",
    "        \"\"\"\n",
    "        return [x.getParameters() for x in self.modules]\n",
    "    \n",
    "    def getGradParameters(self):\n",
    "        \"\"\"\n",
    "        Should gather all gradients w.r.t parameters in a list.\n",
    "        \"\"\"\n",
    "        return [x.getGradParameters() for x in self.modules]\n",
    "    \n",
    "    def __repr__(self):\n",
    "        string = \"\".join([str(x) + '\\n' for x in self.modules])\n",
    "        return string\n",
    "    \n",
    "    def __getitem__(self,x):\n",
    "        return self.modules.__getitem__(x)\n",
    "    \n",
    "    def train(self):\n",
    "        \"\"\"\n",
    "        Propagates training parameter through all modules\n",
    "        \"\"\"\n",
    "        self.training = True\n",
    "        for module in self.modules:\n",
    "            module.train()\n",
    "    \n",
    "    def evaluate(self):\n",
    "        \"\"\"\n",
    "        Propagates training parameter through all modules\n",
    "        \"\"\"\n",
    "        self.training = False\n",
    "        for module in self.modules:\n",
    "            module.evaluate()"
   ]
  },
  {
   "cell_type": "markdown",
   "metadata": {
    "id": "zfXdYfO4j6ea"
   },
   "source": [
    "# Layers"
   ]
  },
  {
   "cell_type": "markdown",
   "metadata": {
    "id": "ZuwvBkuNj6ea"
   },
   "source": [
    "## 1 (0.2). Linear transform layer\n",
    "Also known as dense layer, fully-connected layer, FC-layer, InnerProductLayer (in caffe), affine transform\n",
    "- input:   **`batch_size x n_feats1`**\n",
    "- output: **`batch_size x n_feats2`**"
   ]
  },
  {
   "cell_type": "code",
   "execution_count": 7,
   "metadata": {
    "id": "D0uoyqkpj6ea"
   },
   "outputs": [],
   "source": [
    "class Linear(Module):\n",
    "    \"\"\"\n",
    "    A module which applies a linear transformation \n",
    "    A common name is fully-connected layer, InnerProductLayer in caffe. \n",
    "    \n",
    "    The module should work with 2D input of shape (n_samples, n_feature).\n",
    "    \"\"\"\n",
    "    def __init__(self, n_in, n_out):\n",
    "        super(Linear, self).__init__()\n",
    "       \n",
    "        # This is a nice initialization\n",
    "        stdv = 1./np.sqrt(n_in)\n",
    "        self.W = np.random.uniform(-stdv, stdv, size = (n_out, n_in))\n",
    "        self.b = np.random.uniform(-stdv, stdv, size = n_out)\n",
    "        \n",
    "        self.gradW = np.zeros_like(self.W)\n",
    "        self.gradb = np.zeros_like(self.b)\n",
    "        \n",
    "    def updateOutput(self, input):\n",
    "        # Your code goes here. ################################################\n",
    "        self.output = input @ self.W.T + self.b\n",
    "        return self.output\n",
    "    \n",
    "    def updateGradInput(self, input, gradOutput):\n",
    "        # Your code goes here. ################################################\n",
    "        self.gradInput = gradOutput @ self.W\n",
    "        return self.gradInput\n",
    "    \n",
    "    def accGradParameters(self, input, gradOutput):\n",
    "        # Your code goes here. ################################################\n",
    "        self.gradW = gradOutput.T @ input\n",
    "        self.gradb = gradOutput.sum(axis=0)\n",
    "        pass\n",
    "    \n",
    "    def zeroGradParameters(self):\n",
    "        self.gradW.fill(0)\n",
    "        self.gradb.fill(0)\n",
    "        \n",
    "    def getParameters(self):\n",
    "        return [self.W, self.b]\n",
    "    \n",
    "    def getGradParameters(self):\n",
    "        return [self.gradW, self.gradb]\n",
    "    \n",
    "    def __repr__(self):\n",
    "        s = self.W.shape\n",
    "        q = 'Linear %d -> %d' %(s[1],s[0])\n",
    "        return q"
   ]
  },
  {
   "cell_type": "markdown",
   "metadata": {
    "id": "tNOnHXZJj6eb"
   },
   "source": [
    "## 2. (0.2) SoftMax\n",
    "- input:   **`batch_size x n_feats`**\n",
    "- output: **`batch_size x n_feats`**\n",
    "\n",
    "$\\text{softmax}(x)_i = \\frac{\\exp x_i} {\\sum_j \\exp x_j}$\n",
    "\n",
    "Recall that $\\text{softmax}(x) == \\text{softmax}(x - \\text{const})$. It makes possible to avoid computing exp() from large argument."
   ]
  },
  {
   "cell_type": "code",
   "execution_count": 8,
   "metadata": {},
   "outputs": [],
   "source": [
    "class SoftMax(Module):\n",
    "    def __init__(self):\n",
    "         super(SoftMax, self).__init__()\n",
    "\n",
    "    def updateOutput(self, input):\n",
    "        # start with normalization for numerical stability\n",
    "        self.output = np.subtract(input, input.max(axis=1, keepdims=True))\n",
    "        I = np.eye(input.shape[0],input.shape[0])\n",
    "        den = 1/np.sum(np.exp(input),axis=1)\n",
    "        den_matrix = den * I\n",
    "        self.output = den_matrix @ np.exp(input) \n",
    "        return self.output\n",
    "\n",
    "    def updateGradInput(self, input, gradOutput):\n",
    "        matrix = np.empty(gradOutput.shape)\n",
    "        I_n=np.eye(gradOutput.shape[1])\n",
    "        for i in range(matrix.shape[0]):\n",
    "            dldy=gradOutput[i]\n",
    "            dydx=(self.output[i] * I_n) @ (I_n-self.output[i])\n",
    "            dldx= dldy @ dydx\n",
    "            matrix[i]=dldx\n",
    "        self.gradInput = matrix\n",
    "        # Your code goes here. ################################################\n",
    "        return self.gradInput\n",
    "\n",
    "    def __repr__(self):\n",
    "        return \"SoftMax\""
   ]
  },
  {
   "cell_type": "markdown",
   "metadata": {
    "id": "Cy3DJjynj6eb"
   },
   "source": [
    "## 3. (0.2) LogSoftMax\n",
    "- input:   **`batch_size x n_feats`**\n",
    "- output: **`batch_size x n_feats`**\n",
    "\n",
    "$\\text{logsoftmax}(x)_i = \\log\\text{softmax}(x)_i = x_i - \\log {\\sum_j \\exp x_j}$\n",
    "\n",
    "The main goal of this layer is to be used in computation of log-likelihood loss."
   ]
  },
  {
   "cell_type": "code",
   "execution_count": 9,
   "metadata": {
    "id": "Xo7DRdAJj6eb"
   },
   "outputs": [],
   "source": [
    "class LogSoftMax(Module):\n",
    "    def __init__(self):\n",
    "         super(LogSoftMax, self).__init__()\n",
    "\n",
    "    def updateOutput(self, input):\n",
    "        # start with normalization for numerical stability\n",
    "        self.output = np.subtract(input, input.max(axis=1, keepdims=True))\n",
    "        self.output = (input.T - np.log(np.sum(np.exp(input),axis=1)).T).T  \n",
    "        return self.output\n",
    "\n",
    "    def updateGradInput(self, input, gradOutput): \n",
    "        matrix = np.empty(gradOutput.shape)\n",
    "        I=np.eye(gradOutput.shape[1])\n",
    "        for i in range(matrix.shape[0]):\n",
    "            dldy=gradOutput[i]\n",
    "            dydx=(I - np.exp(self.output[i]))\n",
    "            dldx= dldy @ dydx\n",
    "            matrix[i]=dldx\n",
    "        self.gradInput= matrix\n",
    "        # Your code goes here. ################################################\n",
    "        return self.gradInput\n",
    "\n",
    "    def __repr__(self):\n",
    "        return \"LogSoftMax\""
   ]
  },
  {
   "cell_type": "markdown",
   "metadata": {
    "id": "QP5QdmmPj6eb"
   },
   "source": [
    "## 4. (0.3) Batch normalization (градиент)\n",
    "One of the most significant recent ideas that impacted NNs a lot is [**Batch normalization**](http://arxiv.org/abs/1502.03167). The idea is simple, yet effective: the features should be whitened ($mean = 0$, $std = 1$) all the way through NN. This improves the convergence for deep models letting it train them for days but not weeks. **You are** to implement the first part of the layer: features normalization. The second part (`ChannelwiseScaling` layer) is implemented below.\n",
    "\n",
    "- input:   **`batch_size x n_feats`**\n",
    "- output: **`batch_size x n_feats`**\n",
    "\n",
    "The layer should work as follows. While training (`self.training == True`) it transforms input as $$y = \\frac{x - \\mu}  {\\sqrt{\\sigma + \\epsilon}}$$\n",
    "where $\\mu$ and $\\sigma$ - mean and variance of feature values in **batch** and $\\epsilon$ is just a small number for numericall stability. Also during training, layer should maintain exponential moving average values for mean and variance:\n",
    "```\n",
    "    self.moving_mean = self.moving_mean * alpha + batch_mean * (1 - alpha)\n",
    "    self.moving_variance = self.moving_variance * alpha + batch_variance * (1 - alpha)\n",
    "```\n",
    "During testing (`self.training == False`) the layer normalizes input using moving_mean and moving_variance.\n",
    "\n",
    "Note that decomposition of batch normalization on normalization itself and channelwise scaling here is just a common **implementation** choice. In general \"batch normalization\" always assumes normalization + scaling."
   ]
  },
  {
   "cell_type": "code",
   "execution_count": 10,
   "metadata": {},
   "outputs": [],
   "source": [
    "class BatchNormalization(Module):\n",
    "     EPS = 1e-3\n",
    "     def __init__(self, alpha = 0.):\n",
    "         super(BatchNormalization, self).__init__()\n",
    "         self.alpha = alpha\n",
    "         self.moving_mean = None\n",
    "         self.moving_variance = None\n",
    "\n",
    "     def updateOutput(self, input):\n",
    "         self.batch_mean = input.mean(axis=0)\n",
    "         self.batch_variance = input.var(axis=0)  \n",
    "         if self.training:\n",
    "             self.output = (input-self.batch_mean)/np.sqrt(self.batch_variance + self.EPS)\n",
    "             if self.moving_mean is None:\n",
    "                self.moving_mean = self.batch_mean\n",
    "                self.moving_variance = self.batch_mean\n",
    "             else:\n",
    "                self.moving_mean = self.moving_mean * self.alpha + self.batch_mean * (1 - self.alpha)\n",
    "                self.moving_variance = self.moving_variance * self.alpha + self.batch_variance * (1 - self.alpha)\n",
    "         else: \n",
    "             self.output = (input-self.moving_mean )/np.sqrt(self.moving_variance + self.EPS)\n",
    "         return self.output\n",
    "\n",
    "     def updateGradInput(self, input, gradOutput):\n",
    "         if not self.training:\n",
    "             self.gradInput = gradOutput / np.sqrt(self.moving_variance + self.EPS)\n",
    "             return self.gradInput\n",
    "             \n",
    "         first= gradOutput/np.sqrt(self.batch_variance + self.EPS)\n",
    "        \n",
    "         const = -0.5 * (self.batch_variance + self.EPS)**(-3/2)\n",
    "         dldsigma = np.sum(gradOutput * (input-self.batch_mean),axis=0) * const\n",
    "        \n",
    "         second = dldsigma * (2*(input-self.batch_mean)/input.shape[0])\n",
    "\n",
    "         mu_first = np.sum(-first,axis=0)\n",
    "         mu_second = dldsigma * np.sum(-2*(input-self.batch_mean),axis=0)/(input.shape[0]-1)\n",
    "         dldmu = mu_first + mu_second\n",
    "        \n",
    "         third = dldmu/input.shape[0]\n",
    "         self.gradInput = first + second + third\n",
    "\n",
    "        \n",
    "         return self.gradInput\n",
    "\n",
    "     def __repr__(self):\n",
    "         return \"BatchNormalization\""
   ]
  },
  {
   "cell_type": "code",
   "execution_count": 11,
   "metadata": {
    "id": "8XUS3Lt-j6eb"
   },
   "outputs": [],
   "source": [
    "class ChannelwiseScaling(Module):\n",
    "    \"\"\"\n",
    "       Implements linear transform of input y = \\gamma * x + \\beta\n",
    "       where \\gamma, \\beta - learnable vectors of length x.shape[-1]\n",
    "    \"\"\"\n",
    "    def __init__(self, n_out):\n",
    "        super(ChannelwiseScaling, self).__init__()\n",
    "\n",
    "        stdv = 1./np.sqrt(n_out)\n",
    "        self.gamma = np.random.uniform(-stdv, stdv, size=n_out)\n",
    "        self.beta = np.random.uniform(-stdv, stdv, size=n_out)\n",
    "\n",
    "        self.gradGamma = np.zeros_like(self.gamma)\n",
    "        self.gradBeta = np.zeros_like(self.beta)\n",
    "\n",
    "    def updateOutput(self, input):\n",
    "        self.output = input * self.gamma + self.beta\n",
    "        return self.output\n",
    "\n",
    "    def updateGradInput(self, input, gradOutput):\n",
    "        self.gradInput = gradOutput * self.gamma\n",
    "        return self.gradInput\n",
    "\n",
    "    def accGradParameters(self, input, gradOutput):\n",
    "        self.gradBeta = np.sum(gradOutput, axis=0)\n",
    "        self.gradGamma = np.sum(gradOutput*input, axis=0)\n",
    "\n",
    "    def zeroGradParameters(self):\n",
    "        self.gradGamma.fill(0)\n",
    "        self.gradBeta.fill(0)\n",
    "\n",
    "    def getParameters(self):\n",
    "        return [self.gamma, self.beta]\n",
    "\n",
    "    def getGradParameters(self):\n",
    "        return [self.gradGamma, self.gradBeta]\n",
    "\n",
    "    def __repr__(self):\n",
    "        return \"ChannelwiseScaling\""
   ]
  },
  {
   "cell_type": "markdown",
   "metadata": {
    "id": "vA5zjM3jj6eb"
   },
   "source": [
    "Practical notes. If BatchNormalization is placed after a linear transformation layer (including dense layer, convolutions, channelwise scaling) that implements function like `y = weight * x + bias`, than bias adding become useless and could be omitted since its effect will be discarded while batch mean subtraction. If BatchNormalization (followed by `ChannelwiseScaling`) is placed before a layer that propagates scale (including ReLU, LeakyReLU) followed by any linear transformation layer than parameter `gamma` in `ChannelwiseScaling` could be freezed since it could be absorbed into the linear transformation layer."
   ]
  },
  {
   "cell_type": "markdown",
   "metadata": {
    "id": "Gackeo1cj6eb"
   },
   "source": [
    "## 5. (0.3) Dropout\n",
    "Implement [**dropout**](https://www.cs.toronto.edu/~hinton/absps/JMLRdropout.pdf). The idea and implementation is really simple: just multimply the input by $Bernoulli(p)$ mask. Here $p$ is probability of an element to be zeroed.\n",
    "\n",
    "This has proven to be an effective technique for regularization and preventing the co-adaptation of neurons.\n",
    "\n",
    "While training (`self.training == True`) it should sample a mask on each iteration (for every batch), zero out elements and multiply elements by $1 / (1 - p)$. The latter is needed for keeping mean values of features close to mean values which will be in test mode. When testing this module should implement identity transform i.e. `self.output = input`.\n",
    "\n",
    "- input:   **`batch_size x n_feats`**\n",
    "- output: **`batch_size x n_feats`**"
   ]
  },
  {
   "cell_type": "code",
   "execution_count": 12,
   "metadata": {
    "id": "NmLQV3jXj6eb"
   },
   "outputs": [],
   "source": [
    "class Dropout(Module):\n",
    "    def __init__(self, p=0.5):\n",
    "        super(Dropout, self).__init__()\n",
    "\n",
    "        self.p = p\n",
    "        self.mask = None\n",
    "\n",
    "    def updateOutput(self, input):\n",
    "        if self.training == True:\n",
    "            self.mask = np.random.binomial(1, 1 - self.p, input.shape)\n",
    "            self.output = input * self.mask / (1 - self.p)\n",
    "        else:\n",
    "            self.output = input\n",
    "        return  self.output\n",
    "\n",
    "    def updateGradInput(self, input, gradOutput):\n",
    "        if self.training == True:\n",
    "            self.gradInput = gradOutput * self.mask / (1 - self.p)\n",
    "        else:\n",
    "            self.gradInput = gradOutput  \n",
    "        return self.gradInput\n",
    "\n",
    "    def __repr__(self):\n",
    "        return \"Dropout\""
   ]
  },
  {
   "cell_type": "markdown",
   "metadata": {
    "id": "-WHGIqJFlhz2"
   },
   "source": [
    "# 6. (2.0) Conv2d\n",
    "Implement [**Conv2d**](https://pytorch.org/docs/stable/generated/torch.nn.Conv2d.html). Use only this list of parameters: (in_channels, out_channels, kernel_size, stride, padding, bias, padding_mode) and fix dilation=1 and groups=1."
   ]
  },
  {
   "cell_type": "code",
   "execution_count": 13,
   "metadata": {
    "id": "c1RjNoEXlOHP"
   },
   "outputs": [],
   "source": [
    "# class Conv2d(Module):\n",
    "#     def __init__(self, in_channels, out_channels, kernel_size,\n",
    "#                  stride=1, padding=0, bias=True, padding_mode='zeros'):\n",
    "#         super(Conv2d, self).__init__()\n",
    "\n",
    "#         self.in_channels = in_channels\n",
    "#         self.out_channels = out_channels\n",
    "#         self.kernel_size = kernel_size\n",
    "#         self.stride = stride\n",
    "#         self.padding = padding\n",
    "#         self.bias = bias\n",
    "#         self.padding_mode = padding_mode\n",
    "        \n",
    "#         self.weights = np.random.randn(out_channels, in_channels, kernel_size, kernel_size) / np.sqrt(in_channels * kernel_size * kernel_size)\n",
    "#     def updateOutput(self, input):\n",
    "        \n",
    "#         # Your code goes here. ################################################\n",
    "#         return  self.output\n",
    "\n",
    "#     def updateGradInput(self, input, gradOutput):\n",
    "#         # Your code goes here. ################################################\n",
    "#         return self.gradInput\n",
    "\n",
    "#     def __repr__(self):\n",
    "#         return \"Conv2d\""
   ]
  },
  {
   "cell_type": "markdown",
   "metadata": {
    "id": "updUVZE9qixP"
   },
   "source": [
    "# 7. (0.5) Implement [**MaxPool2d**](https://pytorch.org/docs/stable/generated/torch.nn.MaxPool2d.html) and [**AvgPool2d**](https://pytorch.org/docs/stable/generated/torch.nn.AvgPool2d.html). Use only parameters like kernel_size, stride, padding (negative infinity for maxpool and zero for avgpool) and other parameters fixed as in framework."
   ]
  },
  {
   "cell_type": "code",
   "execution_count": 14,
   "metadata": {},
   "outputs": [],
   "source": [
    "class MaxPool2d(Module):\n",
    "    def __init__(self, kernel_size, stride=None, padding=0):\n",
    "        super(MaxPool2d, self).__init__()\n",
    "        \n",
    "        self.kernel_size = kernel_size if isinstance(kernel_size, tuple) else (kernel_size, kernel_size)\n",
    "        self.stride = stride if isinstance(stride, tuple) else (stride, stride) if stride is not None else self.kernel_size\n",
    "        self.padding = padding if isinstance(padding, tuple) else (padding, padding)\n",
    "        \n",
    "        # Cache for storing max locations for backward pass\n",
    "        self.max_indices = None\n",
    "        self.input_shape = None\n",
    "\n",
    "    def updateOutput(self, input):\n",
    "        self.input_shape=input.shape\n",
    "        batch_size, channels, height, width = self.input_shape\n",
    "        out_h = (height + 2 * self.padding[0] - self.kernel_size[0]) // self.stride[0] + 1\n",
    "        out_w = (width + 2 * self.padding[1] - self.kernel_size[1]) // self.stride[1] + 1\n",
    "        \n",
    "\n",
    "        if np.any(self.padding):\n",
    "            padded = np.pad(input, \n",
    "                          ((0, 0), (0, 0), \n",
    "                           (self.padding[0], self.padding[0]), \n",
    "                           (self.padding[1], self.padding[1])), \n",
    "                          mode='constant')\n",
    "        else:\n",
    "            padded = input\n",
    "            \n",
    "        col = np.zeros((batch_size, channels, self.kernel_size[0], self.kernel_size[1], out_h, out_w))\n",
    "        for y in range(self.kernel_size[0]):\n",
    "            y_max = y + self.stride[0] * out_h\n",
    "            for x in range(self.kernel_size[1]):\n",
    "                x_max = x + self.stride[1] * out_w\n",
    "                col[:, :, y, x, :, :] = padded[:, :, y:y_max:self.stride[0], x:x_max:self.stride[1]]\n",
    "                \n",
    "        col = col.transpose(0, 1, 4, 5, 2, 3).reshape(-1, self.kernel_size[0]*self.kernel_size[1])\n",
    "\n",
    "        max_values = np.max(col, axis=1)\n",
    "        self.max_indices = np.argmax(col, axis=1)\n",
    "        \n",
    "\n",
    "        self.output = max_values.reshape(batch_size, channels, out_h, out_w)\n",
    "\n",
    "        \n",
    "        return self.output\n",
    "    \n",
    "    def updateGradInput(self, input, gradOutput):\n",
    "        batch_size, channels, out_h, out_w = gradOutput.shape\n",
    "        grad_flat = gradOutput.transpose(0, 1, 2, 3).ravel()\n",
    "        \n",
    "        # Create gradient matrix\n",
    "        grad_col = np.zeros((len(self.max_indices), self.kernel_size[0]*self.kernel_size[1]))\n",
    "        grad_col[np.arange(len(self.max_indices)), self.max_indices] = grad_flat\n",
    "        \n",
    "        # Reshape gradient to original window format\n",
    "        grad_col = grad_col.reshape(batch_size, channels, out_h, out_w, self.kernel_size[0], self.kernel_size[1])\n",
    "        grad_col = grad_col.transpose(0, 1, 4, 5, 2, 3)\n",
    "        \n",
    "        # Reconstruct gradient image\n",
    "        self.gradInput = np.zeros((batch_size, channels, \n",
    "                                 self.input_shape[2] + 2*self.padding[0], \n",
    "                                 self.input_shape[3] + 2*self.padding[1]))\n",
    "        \n",
    "        for y in range(self.kernel_size[0]):\n",
    "            y_max = y + self.stride[0] * out_h\n",
    "            for x in range(self.kernel_size[1]):\n",
    "                x_max = x + self.stride[1] * out_w\n",
    "                self.gradInput[:, :, y:y_max:self.stride[0], x:x_max:self.stride[1]] += grad_col[:, :, y, x, :, :]\n",
    "        \n",
    "        # Remove padding if needed\n",
    "        if np.any(self.padding):\n",
    "            self.gradInput = self.gradInput[:, :, \n",
    "                                          self.padding[0]:self.input_shape[2]+self.padding[0], \n",
    "                                          self.padding[1]:self.input_shape[3]+self.padding[1]]\n",
    "        \n",
    "        return self.gradInput\n",
    "    \n",
    "    def __repr__(self):\n",
    "        return \"MaxPool2d\""
   ]
  },
  {
   "cell_type": "code",
   "execution_count": 15,
   "metadata": {},
   "outputs": [],
   "source": [
    "\n",
    "class AvgPool2d(Module):\n",
    "    def __init__(self, kernel_size, stride=None, padding=0):\n",
    "        super(AvgPool2d, self).__init__()\n",
    "        \n",
    "        self.kernel_size =kernel_size if isinstance(kernel_size, tuple) else (kernel_size, kernel_size)\n",
    "        self.stride=stride if isinstance(stride, tuple) else (stride, stride) if stride is not None else self.kernel_size\n",
    "        self.padding= padding if isinstance(padding, tuple) else (padding, padding)\n",
    "        \n",
    "        self.input_shape = None\n",
    "        \n",
    "    def updateOutput(self, input):\n",
    "        self.input_shape = input.shape\n",
    "        batch_size, channels, height, width =input.shape\n",
    "        out_h = (height+2* self.padding[0]- self.kernel_size[0])//self.stride[0]+1\n",
    "        out_w = (width+2*self.padding[1] -self.kernel_size[1])//self.stride[1]+1\n",
    "        \n",
    "\n",
    "        if np.any(self.padding):\n",
    "            padded = np.pad(input, \n",
    "                          ((0, 0), (0, 0), \n",
    "                           (self.padding[0], self.padding[0]), \n",
    "                           (self.padding[1], self.padding[1])), \n",
    "                          mode='constant')\n",
    "        else:\n",
    "            padded=input\n",
    "            \n",
    "        col =np.zeros((batch_size, channels, self.kernel_size[0], self.kernel_size[1], out_h, out_w))\n",
    "        \n",
    "        for y in range(self.kernel_size[0]):\n",
    "            y_max= y +self.stride[0]*out_h\n",
    "            for x in range(self.kernel_size[1]):\n",
    "                x_max= x+self.stride[1]*out_w\n",
    "                col[:, :, y, x, :, :] = padded[:, :, y:y_max:self.stride[0], x:x_max:self.stride[1]]\n",
    "                \n",
    "        col=col.transpose(0, 1, 4, 5, 2, 3).reshape(-1, self.kernel_size[0]*self.kernel_size[1])\n",
    "\n",
    "        avg_values=np.mean(col, axis=1)\n",
    "\n",
    "        self.output=avg_values.reshape(batch_size, channels, out_h, out_w)\n",
    "        \n",
    "        return self.output\n",
    "    \n",
    "    def updateGradInput(self, input, gradOutput):\n",
    "        batch_size, channels, out_h, out_w=gradOutput.shape\n",
    "        norm_factor=1/(self.kernel_size[0]*self.kernel_size[1])\n",
    "        grad_flat=gradOutput.transpose(0, 1, 2, 3).ravel() * norm_factor\n",
    "        \n",
    "\n",
    "        grad_col=np.zeros((len(grad_flat), self.kernel_size[0]*self.kernel_size[1]))\n",
    "        grad_col[:]=grad_flat[:, np.newaxis]\n",
    "        \n",
    "\n",
    "        grad_col=grad_col.reshape(batch_size, channels, out_h, out_w, self.kernel_size[0], self.kernel_size[1])\n",
    "        grad_col=grad_col.transpose(0, 1, 4, 5, 2, 3)\n",
    "        \n",
    "\n",
    "        self.gradInput=np.zeros((batch_size, channels, \n",
    "                                 self.input_shape[2]+2*self.padding[0], \n",
    "                                 self.input_shape[3]+2*self.padding[1]))\n",
    "        \n",
    "        for y in range(self.kernel_size[0]):\n",
    "            y_max=y+self.stride[0]*out_h\n",
    "            for x in range(self.kernel_size[1]):\n",
    "                x_max=x+self.stride[1]*out_w\n",
    "                self.gradInput[:, :, y:y_max:self.stride[0], x:x_max:self.stride[1]] +=grad_col[:, :, y, x, :, :]\n",
    "        \n",
    "\n",
    "        if np.any(self.padding):\n",
    "            self.gradInput=self.gradInput[:, :, \n",
    "                                          self.padding[0]:self.input_shape[2]+self.padding[0], \n",
    "                                          self.padding[1]:self.input_shape[3]+self.padding[1]]\n",
    "        \n",
    "        return self.gradInput\n",
    "    \n",
    "    def __repr__(self):\n",
    "        return \"AvgPool2d\""
   ]
  },
  {
   "cell_type": "markdown",
   "metadata": {
    "id": "KTN5R3CwrukV"
   },
   "source": [
    "# 8. (0.3) Implement **GlobalMaxPool2d** and **GlobalAvgPool2d**. They do not have testing and parameters are up to you but they must aggregate information within channels. Write test functions for these layers on your own."
   ]
  },
  {
   "cell_type": "code",
   "execution_count": 16,
   "metadata": {},
   "outputs": [],
   "source": [
    "class GlobalMaxPool2d(Module):\n",
    "    def __init__(self):\n",
    "        super(GlobalMaxPool2d, self).__init__()\n",
    "        self.max_indices =None  \n",
    "        self.input_shape=None\n",
    "        \n",
    "    def updateOutput(self, input):\n",
    "        self.input_shape=input.shape\n",
    "        batch_size, channels, height, width =input.shape\n",
    "\n",
    "        reshaped = input.reshape(batch_size, channels, -1)\n",
    "        self.output = np.max(reshaped, axis=2)\n",
    "\n",
    "        self.max_indices = np.argmax(reshaped, axis=2)\n",
    "        \n",
    "        return self.output  \n",
    "    \n",
    "    def updateGradInput(self, input, gradOutput):\n",
    "        batch_size, channels = gradOutput.shape\n",
    "        height, width= self.input_shape[2], self.input_shape[3]\n",
    "\n",
    "        self.gradInput=np.zeros(self.input_shape)\n",
    "        grad_reshaped=self.gradInput.reshape(batch_size, channels, -1)\n",
    "        for b in range(batch_size):\n",
    "            for c in range(channels):\n",
    "                grad_reshaped[b, c, self.max_indices[b, c]]=gradOutput[b, c]\n",
    "        \n",
    "        return self.gradInput\n",
    "    \n",
    "    def __repr__(self):\n",
    "        return \"GlobalMaxPool2d\"\n",
    "\n",
    "\n",
    "class GlobalAvgPool2d(Module):\n",
    "    def __init__(self):\n",
    "        super(GlobalAvgPool2d, self).__init__()\n",
    "        self.input_shape =None\n",
    "        \n",
    "    def updateOutput(self,input):\n",
    "      \n",
    "        self.input_shape=input.shape\n",
    "        batch_size, channels,height,width= input.shape\n",
    "        \n",
    "       \n",
    "        self.output=np.mean(input,axis=(2,3))\n",
    "        return self.output  \n",
    "    \n",
    "    def updateGradInput(self, input, gradOutput):\n",
    "        batch_size, channels=gradOutput.shape\n",
    "        height, width =self.input_shape[2],self.input_shape[3]\n",
    "        norm_factor = 1/(height * width)\n",
    "        \n",
    "        self.gradInput=np.zeros(self.input_shape)\n",
    "        for b in range(batch_size):\n",
    "            for c in range(channels):\n",
    "                self.gradInput[b, c]=gradOutput[b, c]*norm_factor\n",
    "        \n",
    "        return self.gradInput\n",
    "    \n",
    "    def __repr__(self):\n",
    "        return \"GlobalAvgPool2d\"\n",
    "\n",
    "\n",
    "\n"
   ]
  },
  {
   "cell_type": "code",
   "execution_count": null,
   "metadata": {},
   "outputs": [],
   "source": []
  },
  {
   "cell_type": "markdown",
   "metadata": {
    "id": "cYeBQDBhtViy"
   },
   "source": [
    "# 9. (0.2) Implement [**Flatten**](https://pytorch.org/docs/stable/generated/torch.flatten.html) "
   ]
  },
  {
   "cell_type": "code",
   "execution_count": 15,
   "metadata": {},
   "outputs": [],
   "source": [
    "class Flatten(Module):\n",
    "    def __init__(self, start_dim=0, end_dim=-1):\n",
    "        super(Flatten, self).__init__()\n",
    "        self.start_dim = start_dim\n",
    "        self.end_dim = end_dim\n",
    "\n",
    "    def updateOutput(self, input):\n",
    "\n",
    "        array = []\n",
    "        for i in input.shape:\n",
    "            array.append(i)\n",
    "            \n",
    "        if (self.start_dim<0):\n",
    "            self.start_dim=self.start_dim+len(array)\n",
    "        if self.end_dim<0:\n",
    "            self.end_dim=self.end_dim+len(array)\n",
    "            \n",
    "        end=array[self.end_dim+1:]\n",
    "        del array[self.start_dim:]\n",
    "        array.append(np.prod(input.shape[self.start_dim:(self.end_dim+1)]))\n",
    "        array.extend(end)\n",
    "        self.output= input.reshape(array)\n",
    "        return self.output\n",
    "\n",
    "    def updateGradInput(self, input, gradOutput):\n",
    "        shape = input.shape\n",
    "        #num_features = np.prod(shape[self.start_dim:self.end_dim])\n",
    "        self.gradInput = gradOutput.reshape(shape[0], *shape[1:])\n",
    "        return self.gradInput\n",
    "\n",
    "    def __repr__(self):\n",
    "        return \"Flatten\"\n"
   ]
  },
  {
   "cell_type": "markdown",
   "metadata": {
    "id": "o36vPHSSj6eb"
   },
   "source": [
    "# Activation functions\n"
   ]
  },
  {
   "cell_type": "markdown",
   "metadata": {
    "id": "l_pryRQIj6ec"
   },
   "source": [
    "Here's the complete example for the **Rectified Linear Unit** non-linearity (aka **ReLU**):"
   ]
  },
  {
   "cell_type": "code",
   "execution_count": 16,
   "metadata": {
    "id": "sgm8bXjKj6ec"
   },
   "outputs": [],
   "source": [
    "class ReLU(Module):\n",
    "    def __init__(self):\n",
    "         super(ReLU, self).__init__()\n",
    "\n",
    "    def updateOutput(self, input):\n",
    "        self.output = np.maximum(input, 0)\n",
    "        return self.output\n",
    "\n",
    "    def updateGradInput(self, input, gradOutput):\n",
    "        self.gradInput = np.multiply(gradOutput , input > 0)\n",
    "        return self.gradInput\n",
    "\n",
    "    def __repr__(self):\n",
    "        return \"ReLU\""
   ]
  },
  {
   "cell_type": "markdown",
   "metadata": {
    "id": "yB0UHGagj6ec"
   },
   "source": [
    "## 10. (0.1) Leaky ReLU\n",
    "Implement [**Leaky Rectified Linear Unit**](http://en.wikipedia.org/wiki%2FRectifier_%28neural_networks%29%23Leaky_ReLUs). Expriment with slope."
   ]
  },
  {
   "cell_type": "code",
   "execution_count": 17,
   "metadata": {
    "id": "agwfkwO0j6ec"
   },
   "outputs": [],
   "source": [
    "class LeakyReLU(Module):\n",
    "    def __init__(self, slope = 0.03):\n",
    "        super(LeakyReLU, self).__init__()\n",
    "\n",
    "        self.slope = slope\n",
    "\n",
    "    def updateOutput(self, input):\n",
    "        self.output= input * ((1 + np.sign(input)) / 2 + self.slope * (1 + np.sign(-input)) / 2)\n",
    "        # Your code goes here. ################################################\n",
    "        return  self.output\n",
    "\n",
    "    def updateGradInput(self, input, gradOutput):\n",
    "        self.gradInput = ((1 + np.sign(input)) / 2 + self.slope * (1 + np.sign(-input)) / 2) * gradOutput\n",
    "        # Your code goes here. ################################################\n",
    "        return self.gradInput\n",
    "\n",
    "    def __repr__(self):\n",
    "        return \"LeakyReLU\""
   ]
  },
  {
   "cell_type": "markdown",
   "metadata": {
    "id": "t-STyecvj6ec"
   },
   "source": [
    "## 11. (0.1) ELU\n",
    "Implement [**Exponential Linear Units**](http://arxiv.org/abs/1511.07289) activations."
   ]
  },
  {
   "cell_type": "code",
   "execution_count": 18,
   "metadata": {
    "id": "jJSzEu1mj6ec"
   },
   "outputs": [],
   "source": [
    "class ELU(Module):\n",
    "    def __init__(self, alpha = 1.0):\n",
    "        super(ELU, self).__init__()\n",
    "\n",
    "        self.alpha = alpha\n",
    "\n",
    "    def updateOutput(self, input):\n",
    "        self.output = np.where(input>=0, input , self.alpha*(np.exp(input)-1))\n",
    "        # Your code goes here. ################################################\n",
    "        return  self.output\n",
    "\n",
    "    def updateGradInput(self, input, gradOutput):\n",
    "        dydx=np.where(input>=0, 1 , self.alpha*np.exp(input))\n",
    "        self.gradInput= dydx*gradOutput\n",
    "        # Your code goes here. ################################################\n",
    "        return self.gradInput\n",
    "\n",
    "    def __repr__(self):\n",
    "        return \"ELU\""
   ]
  },
  {
   "cell_type": "markdown",
   "metadata": {
    "id": "Gn3C7KTqj6ec"
   },
   "source": [
    "## 12. (0.1) SoftPlus\n",
    "Implement [**SoftPlus**](https://en.wikipedia.org/wiki%2FRectifier_%28neural_networks%29) activations. Look, how they look a lot like ReLU."
   ]
  },
  {
   "cell_type": "code",
   "execution_count": 19,
   "metadata": {
    "id": "xcDPMssrj6ec"
   },
   "outputs": [],
   "source": [
    "class SoftPlus(Module):\n",
    "    def __init__(self):\n",
    "        super(SoftPlus, self).__init__()\n",
    "\n",
    "    def updateOutput(self, input):\n",
    "        self.output = np.log(1+np.exp(input))\n",
    "        # Your code goes here. ################################################\n",
    "        return  self.output\n",
    "\n",
    "    def updateGradInput(self, input, gradOutput):\n",
    "        dydx=np.exp(input)/(1+np.exp(input))\n",
    "        self.gradInput= dydx*gradOutput\n",
    "        # Your code goes here. ################################################\n",
    "        return self.gradInput\n",
    "\n",
    "    def __repr__(self):\n",
    "        return \"SoftPlus\""
   ]
  },
  {
   "cell_type": "markdown",
   "metadata": {
    "id": "kw3PeZjOuo0e"
   },
   "source": [
    "## 13. (0.2) Gelu\n",
    "Implement [**Gelu**](https://pytorch.org/docs/stable/generated/torch.nn.GELU.html) activations."
   ]
  },
  {
   "cell_type": "code",
   "execution_count": 20,
   "metadata": {
    "id": "SdieE0Dtuo8j"
   },
   "outputs": [],
   "source": [
    "class Gelu(Module):\n",
    "    def __init__(self):\n",
    "        super(Gelu, self).__init__()\n",
    "\n",
    "    def updateOutput(self, input):\n",
    "        self.output = 0.5 * input * (1+ np.tanh(np.sqrt(2/np.pi)*(input+0.044715*(input**3))))\n",
    "        # Your code goes here. ################################################\n",
    "        return  self.output\n",
    "\n",
    "    def updateGradInput(self, input, gradOutput):\n",
    "        tanh_part = np.tanh(np.sqrt(2 / np.pi) * (input + 0.044715 * (input ** 3)))\n",
    "        tanh_derivative = 1 - tanh_part ** 2  \n",
    "\n",
    "        # Compute the gradient\n",
    "        grad = 0.5 * (1 + tanh_part) + (0.5 * input * np.sqrt(2 / np.pi) * (1 + 0.134715 * (input ** 2))) * tanh_derivative\n",
    "        \n",
    "        self.gradInput = grad * gradOutput\n",
    "        # Your code goes here. ################################################\n",
    "        return self.gradInput\n",
    "\n",
    "    def __repr__(self):\n",
    "        return \"Gelu\""
   ]
  },
  {
   "cell_type": "markdown",
   "metadata": {
    "id": "55p7UvPAj6ec"
   },
   "source": [
    "# Criterions"
   ]
  },
  {
   "cell_type": "markdown",
   "metadata": {
    "id": "5NFaxZaqj6ec"
   },
   "source": [
    "Criterions are used to score the models answers."
   ]
  },
  {
   "cell_type": "code",
   "execution_count": 21,
   "metadata": {
    "id": "XGu45A8qj6ec"
   },
   "outputs": [],
   "source": [
    "class Criterion(object):\n",
    "    def __init__ (self):\n",
    "        self.output = None\n",
    "        self.gradInput = None\n",
    "\n",
    "    def forward(self, input, target):\n",
    "        \"\"\"\n",
    "            Given an input and a target, compute the loss function\n",
    "            associated to the criterion and return the result.\n",
    "\n",
    "            For consistency this function should not be overrided,\n",
    "            all the code goes in `updateOutput`.\n",
    "        \"\"\"\n",
    "        return self.updateOutput(input, target)\n",
    "\n",
    "    def backward(self, input, target):\n",
    "        \"\"\"\n",
    "            Given an input and a target, compute the gradients of the loss function\n",
    "            associated to the criterion and return the result.\n",
    "\n",
    "            For consistency this function should not be overrided,\n",
    "            all the code goes in `updateGradInput`.\n",
    "        \"\"\"\n",
    "        return self.updateGradInput(input, target)\n",
    "\n",
    "    def updateOutput(self, input, target):\n",
    "        \"\"\"\n",
    "        Function to override.\n",
    "        \"\"\"\n",
    "        return self.output\n",
    "\n",
    "    def updateGradInput(self, input, target):\n",
    "        \"\"\"\n",
    "        Function to override.\n",
    "        \"\"\"\n",
    "        return self.gradInput\n",
    "\n",
    "    def __repr__(self):\n",
    "        \"\"\"\n",
    "        Pretty printing. Should be overrided in every module if you want\n",
    "        to have readable description.\n",
    "        \"\"\"\n",
    "        return \"Criterion\""
   ]
  },
  {
   "cell_type": "markdown",
   "metadata": {
    "id": "WuU26xkpj6ec"
   },
   "source": [
    "The **MSECriterion**, which is basic L2 norm usually used for regression, is implemented here for you.\n",
    "- input:   **`batch_size x n_feats`**\n",
    "- target: **`batch_size x n_feats`**\n",
    "- output: **scalar**"
   ]
  },
  {
   "cell_type": "code",
   "execution_count": 22,
   "metadata": {
    "id": "-i3VNuHhj6ec"
   },
   "outputs": [],
   "source": [
    "class MSECriterion(Criterion):\n",
    "    def __init__(self):\n",
    "        super(MSECriterion, self).__init__()\n",
    "\n",
    "    def updateOutput(self, input, target):\n",
    "        self.output = np.sum(np.power(input - target,2)*0.5) / input.shape[0]\n",
    "        return self.output\n",
    "\n",
    "    def updateGradInput(self, input, target):\n",
    "        self.gradInput  = (input - target) * 2 / input.shape[0]\n",
    "        return self.gradInput\n",
    "\n",
    "    def __repr__(self):\n",
    "        return \"MSECriterion\""
   ]
  },
  {
   "cell_type": "markdown",
   "metadata": {
    "id": "x8LKLWNVj6ec"
   },
   "source": [
    "## 14. (0.2) Negative LogLikelihood criterion (numerically unstable)\n",
    "You task is to implement the **ClassNLLCriterion**. It should implement [multiclass log loss](http://scikit-learn.org/stable/modules/model_evaluation.html#log-loss). Nevertheless there is a sum over `y` (target) in that formula,\n",
    "remember that targets are one-hot encoded. This fact simplifies the computations a lot. Note, that criterions are the only places, where you divide by batch size. Also there is a small hack with adding small number to probabilities to avoid computing log(0).\n",
    "- input:   **`batch_size x n_feats`** - probabilities\n",
    "- target: **`batch_size x n_feats`** - one-hot representation of ground truth\n",
    "- output: **scalar**\n",
    "\n"
   ]
  },
  {
   "cell_type": "code",
   "execution_count": 23,
   "metadata": {
    "id": "die7KvW6j6ec"
   },
   "outputs": [],
   "source": [
    "class ClassNLLCriterionUnstable(Criterion):\n",
    "    EPS = 1e-15\n",
    "    def __init__(self):\n",
    "        a = super(ClassNLLCriterionUnstable, self)\n",
    "        super(ClassNLLCriterionUnstable, self).__init__()\n",
    "\n",
    "    def updateOutput(self, input, target):\n",
    "\n",
    "        # Use this trick to avoid numerical errors\n",
    "        input_clamp = np.clip(input, self.EPS, 1 - self.EPS)\n",
    "        self.output = (-1/input_clamp.shape[0]) * np.sum((target*np.log(input_clamp)))\n",
    "        # Your code goes here. ################################################\n",
    "        return self.output\n",
    "\n",
    "    def updateGradInput(self, input, target):\n",
    "\n",
    "        # Use this trick to avoid numerical errors\n",
    "        input_clamp = np.clip(input, self.EPS, 1 - self.EPS)\n",
    "        self.gradInput = (-1/input_clamp.shape[0])*(target/input_clamp)\n",
    "        # Your code goes here. ################################################\n",
    "        return self.gradInput\n",
    "\n",
    "    def __repr__(self):\n",
    "        return \"ClassNLLCriterionUnstable\""
   ]
  },
  {
   "cell_type": "markdown",
   "metadata": {
    "id": "uHr_JbU5j6ec"
   },
   "source": [
    "## 15. (0.3) Negative LogLikelihood criterion (numerically stable)\n",
    "- input:   **`batch_size x n_feats`** - log probabilities\n",
    "- target: **`batch_size x n_feats`** - one-hot representation of ground truth\n",
    "- output: **scalar**\n",
    "\n",
    "Task is similar to the previous one, but now the criterion input is the output of log-softmax layer. This decomposition allows us to avoid problems with computation of forward and backward of log()."
   ]
  },
  {
   "cell_type": "code",
   "execution_count": 24,
   "metadata": {
    "id": "v7N8bVP9j6ec"
   },
   "outputs": [],
   "source": [
    "class ClassNLLCriterion(Criterion):\n",
    "    def __init__(self):\n",
    "        a = super(ClassNLLCriterion, self)\n",
    "        super(ClassNLLCriterion, self).__init__()\n",
    "\n",
    "    def updateOutput(self, input, target):\n",
    "        self.output = (-1/input.shape[0]) * np.sum((target*input))\n",
    "        # Your code goes here. ################################################\n",
    "        return self.output\n",
    "\n",
    "    def updateGradInput(self, input, target):\n",
    "        self.gradInput = -target/input.shape[0]\n",
    "        # Your code goes here. ################################################\n",
    "        return self.gradInput\n",
    "\n",
    "    def __repr__(self):\n",
    "        return \"ClassNLLCriterion\"\n",
    "        "
   ]
  },
  {
   "cell_type": "markdown",
   "metadata": {},
   "source": [
    "# Задание "
   ]
  },
  {
   "cell_type": "markdown",
   "metadata": {
    "id": "TC2Bf1PP2Ios"
   },
   "source": [
    "1-я часть задания: реализация слоев, лосей и функций активации \n",
    "2-я часть задания: реализация моделей на своих классах. Что должно быть:\n",
    "  1. Выберите оптимизатор и реализуйте его, чтоб он работал с вами классами. \n",
    "  2. Модель для задачи мультирегрессии на выбраных вами данных. Использовать FCNN, dropout, batchnorm, MSE. Пробуйте различные фукнции активации. Для первой модели попробуйте большую, среднюю и маленькую модель. .\n",
    "\n",
    "Дополнительно в оценке каждой модели будет учитываться:\n",
    "1. Наличие правильно выбранной метрики и лосс функции.\n",
    "2. Отрисовка графиков лосей и метрик на трейне-валидации. Проверка качества модели на тесте.\n",
    "3. Наличие шедулера для lr.\n",
    "4. Наличие вормапа.\n",
    "5. Наличие механизма ранней остановки и сохранение лучшей модели.\n",
    "6. Свитч лося (метрики) и оптимайзера."
   ]
  },
  {
   "cell_type": "markdown",
   "metadata": {},
   "source": [
    "## вторая часть задания реализована в папке: часть 2(гусева)"
   ]
  },
  {
   "cell_type": "code",
   "execution_count": null,
   "metadata": {},
   "outputs": [],
   "source": []
  }
 ],
 "metadata": {
  "colab": {
   "provenance": []
  },
  "kernelspec": {
   "display_name": "Python 3 (ipykernel)",
   "language": "python",
   "name": "python3"
  },
  "language_info": {
   "codemirror_mode": {
    "name": "ipython",
    "version": 3
   },
   "file_extension": ".py",
   "mimetype": "text/x-python",
   "name": "python",
   "nbconvert_exporter": "python",
   "pygments_lexer": "ipython3",
   "version": "3.11.5"
  }
 },
 "nbformat": 4,
 "nbformat_minor": 4
}
